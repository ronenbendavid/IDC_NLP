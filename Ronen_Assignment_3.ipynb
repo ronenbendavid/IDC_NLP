{
  "nbformat": 4,
  "nbformat_minor": 0,
  "metadata": {
    "colab": {
      "name": "Asi Assignment 3 ",
      "provenance": [],
      "collapsed_sections": [],
      "include_colab_link": true
    },
    "kernelspec": {
      "name": "python3",
      "display_name": "Python 3"
    },
    "accelerator": "GPU"
  },
  "cells": [
    {
      "cell_type": "markdown",
      "metadata": {
        "id": "view-in-github",
        "colab_type": "text"
      },
      "source": [
        "<a href=\"https://colab.research.google.com/github/ronenbendavid/IDC_NLP/blob/master/Ronen_Assignment_3.ipynb\" target=\"_parent\"><img src=\"https://colab.research.google.com/assets/colab-badge.svg\" alt=\"Open In Colab\"/></a>"
      ]
    },
    {
      "cell_type": "markdown",
      "metadata": {
        "id": "k-WJBimYDLJS",
        "colab_type": "text"
      },
      "source": [
        "# Assignment 3\n",
        "Training a neural named entity recognition (NER) tagger "
      ]
    },
    {
      "cell_type": "code",
      "metadata": {
        "id": "3enPCGBF8FlX",
        "colab_type": "code",
        "colab": {
          "base_uri": "https://localhost:8080/",
          "height": 35
        },
        "outputId": "f6f35a1b-61ba-4c94-fd9c-315433ce37d7"
      },
      "source": [
        "import torch\n",
        "import torch.nn as nn\n",
        "\n",
        "device = 'cuda' if torch.cuda.is_available() else 'cpu'\n",
        "print('version: {}, device: {}'.format(torch.__version__, device))"
      ],
      "execution_count": null,
      "outputs": [
        {
          "output_type": "stream",
          "text": [
            "version: 1.5.0+cu101, device: cuda\n"
          ],
          "name": "stdout"
        }
      ]
    },
    {
      "cell_type": "markdown",
      "metadata": {
        "id": "V5QSIEoyDdWh",
        "colab_type": "text"
      },
      "source": [
        "In this assignment you are required to build a full training and testing pipeline for a neural sequentail tagger for named entities, using LSTM.\n",
        "\n",
        "The dataset that you will be working on is called ReCoNLL 2003, which is a corrected version of the CoNLL 2003 dataset: https://www.clips.uantwerpen.be/conll2003/ner/\n",
        "\n",
        "[Train data](https://drive.google.com/file/d/1hG66e_OoezzeVKho1w7ysyAx4yp0ShDz/view?usp=sharing)\n",
        "\n",
        "[Dev data](https://drive.google.com/file/d/1EAF-VygYowU1XknZhvzMi2CID65I127L/view?usp=sharing)\n",
        "\n",
        "[Test data](https://drive.google.com/file/d/16gug5wWnf06JdcBXQbcICOZGZypgr4Iu/view?usp=sharing)\n",
        "\n",
        "As you can see, the annotated texts are labeled according to the IOB annotation scheme, for 3 entity types: Person, Organization, Location."
      ]
    },
    {
      "cell_type": "markdown",
      "metadata": {
        "id": "5ul2Y3vuPoV8",
        "colab_type": "text"
      },
      "source": [
        "**Task 1:** Write a funtion for reading the data from a single file (of the ones that are provided above). The function recieves a filepath and then it encodes every sentence individually using a pair of lists, one list contains the words and one list contains the tags. Each list pair will be added to a general list (data), which will be returned back from the function."
      ]
    },
    {
      "cell_type": "code",
      "metadata": {
        "id": "prgzgtt8Jw4Y",
        "colab_type": "code",
        "colab": {
          "base_uri": "https://localhost:8080/",
          "height": 70
        },
        "outputId": "21c8e2bc-ab47-44cf-ae4e-82f62acadf87"
      },
      "source": [
        "import requests\n",
        "import re\n",
        "\n",
        "def read_data(filepath):\n",
        "    data = []\n",
        "\n",
        "    result = re.compile(\".*drive.google.com/file/d/([^/]*)/.*\").match(filepath)\n",
        "    if result:\n",
        "      filepath = 'https://docs.google.com/uc?export=download&id={}'.format(result.group(1))\n",
        "    print(filepath)\n",
        "\n",
        "    response = requests.get(filepath)\n",
        "    words = []\n",
        "    tags = []\n",
        "\n",
        "    for line in response.text.split('\\n'):\n",
        "        if not line:\n",
        "            if len(words) > 0:\n",
        "                data.append((words, tags))\n",
        "            words = []\n",
        "            tags = []\n",
        "        else:\n",
        "            line = line.strip().split()\n",
        "            words.append(line[0])\n",
        "            tags.append(line[1])\n",
        "\n",
        "    return data\n",
        "\n",
        "train = read_data('https://drive.google.com/file/d/1hG66e_OoezzeVKho1w7ysyAx4yp0ShDz/view?usp=sharing')\n",
        "dev = read_data('https://drive.google.com/file/d/1EAF-VygYowU1XknZhvzMi2CID65I127L/view?usp=sharing')\n",
        "test = read_data('https://drive.google.com/file/d/16gug5wWnf06JdcBXQbcICOZGZypgr4Iu/view?usp=sharing')\n"
      ],
      "execution_count": null,
      "outputs": [
        {
          "output_type": "stream",
          "text": [
            "https://docs.google.com/uc?export=download&id=1hG66e_OoezzeVKho1w7ysyAx4yp0ShDz\n",
            "https://docs.google.com/uc?export=download&id=1EAF-VygYowU1XknZhvzMi2CID65I127L\n",
            "https://docs.google.com/uc?export=download&id=16gug5wWnf06JdcBXQbcICOZGZypgr4Iu\n"
          ],
          "name": "stdout"
        }
      ]
    },
    {
      "cell_type": "markdown",
      "metadata": {
        "id": "IuGwk6OwRWGS",
        "colab_type": "text"
      },
      "source": [
        "The following Vocab class can be served as a dictionary that maps words and tags into Ids. The UNK_TOKEN should be used for words that are not part of the training data."
      ]
    },
    {
      "cell_type": "code",
      "metadata": {
        "id": "6rKIB5o_vQO8",
        "colab_type": "code",
        "colab": {}
      },
      "source": [
        "UNK_TOKEN = 0\n",
        "\n",
        "class Vocab:\n",
        "    def __init__(self):\n",
        "        self.word2id = {\"__unk__\": UNK_TOKEN}\n",
        "        self.id2word = {UNK_TOKEN: \"__unk__\"}\n",
        "        self.n_words = 1\n",
        "        \n",
        "        self.tag2id = {\"O\":0, \"B-PER\":1, \"I-PER\": 2, \"B-LOC\": 3, \"I-LOC\": 4, \"B-ORG\": 5, \"I-ORG\": 6}\n",
        "        self.id2tag = {0:\"O\", 1:\"B-PER\", 2:\"I-PER\", 3:\"B-LOC\", 4:\"I-LOC\", 5:\"B-ORG\", 6:\"I-ORG\"}\n",
        "        \n",
        "    def index_words(self, words):\n",
        "      word_indexes = [self.index_word(w) for w in words]\n",
        "      return word_indexes\n",
        "\n",
        "    def index_tags(self, tags):\n",
        "      tag_indexes = [self.tag2id[t] for t in tags]\n",
        "      return tag_indexes\n",
        "    \n",
        "    def index_word(self, w):\n",
        "        if w not in self.word2id:\n",
        "            self.word2id[w] = self.n_words\n",
        "            self.id2word[self.n_words] = w\n",
        "            self.n_words += 1\n",
        "        return self.word2id[w]\n",
        "            "
      ],
      "execution_count": null,
      "outputs": []
    },
    {
      "cell_type": "markdown",
      "metadata": {
        "id": "iDKYryfKfNdh",
        "colab_type": "text"
      },
      "source": [
        "**Task 2:** Write a function prepare_data that takes one of the [train, dev, test] and the Vocab instance, for converting each pair of (words,tags) to a pair of indexes. Each pair should be added to data_sequences, which will be returned back from the function."
      ]
    },
    {
      "cell_type": "code",
      "metadata": {
        "id": "noIY3zWKvhBd",
        "colab_type": "code",
        "colab": {}
      },
      "source": [
        "vocab = Vocab()\n",
        "\n",
        "def prepare_data(data, vocab):\n",
        "    data_sequences = []\n",
        "    for words, tags in data:\n",
        "      iwords = vocab.index_words(words)\n",
        "      itags = vocab.index_tags(tags)\n",
        "      data_sequences.append((iwords, itags))\n",
        "\n",
        "    return data_sequences, vocab\n",
        "\n",
        "train_sequences, vocab = prepare_data(train, vocab)\n",
        "dev_sequences, vocab = prepare_data(dev, vocab)\n",
        "test_sequences, vocab = prepare_data(test, vocab)"
      ],
      "execution_count": null,
      "outputs": []
    },
    {
      "cell_type": "markdown",
      "metadata": {
        "id": "UccfiRRtiEet",
        "colab_type": "text"
      },
      "source": [
        "**Task 3:** Write NERNet, a PyTorch Module for labeling words with NER tags. \n",
        "\n",
        "*input_size:* the size of the vocabulary\n",
        "\n",
        "*embedding_size:* the size of the embeddings\n",
        "\n",
        "*hidden_size:* the LSTM hidden size\n",
        "\n",
        "*output_size:* the number tags we are predicting for\n",
        "\n",
        "*n_layers:* the number of layers we want to use in LSTM\n",
        "\n",
        "*directions:* could 1 or 2, indicating unidirectional or bidirectional LSTM, respectively\n",
        "\n",
        "The input for your forward function should be a single sentence tensor."
      ]
    },
    {
      "cell_type": "code",
      "metadata": {
        "id": "Ke1LyUQNyQaM",
        "colab_type": "code",
        "colab": {}
      },
      "source": [
        "class NERNet(nn.Module):\n",
        "    def __init__(self, input_size, embedding_size, hidden_size, output_size, n_layers, bidirectional):\n",
        "        super(NERNet, self).__init__()\n",
        "\n",
        "        self.input_size = input_size\n",
        "        self.embedding_size = embedding_size\n",
        "        self.hidden_size = hidden_size\n",
        "        self.output_size = output_size\n",
        "        self.n_layers = n_layers\n",
        "        self.bidirectional = bidirectional\n",
        "\n",
        "        in_features = self.hidden_size\n",
        "        if bidirectional:\n",
        "            in_features = self.hidden_size * 2\n",
        "\n",
        "        self.embedding = nn.Embedding(num_embeddings=input_size, embedding_dim=embedding_size)\n",
        "        self.lstm = nn.LSTM(input_size=embedding_size, hidden_size=hidden_size, num_layers=n_layers, bidirectional=bidirectional, batch_first=True)\n",
        "        self.out = nn.Linear(in_features=in_features, out_features=output_size)\n",
        "\n",
        "    def forward(self, input_sentence):\n",
        "        embedded = self.embedding(input_sentence)\n",
        "        output, _ = self.lstm(embedded)\n",
        "\n",
        "        # shape for the linear layer (batch*seq, num_tags)\n",
        "        output = output.view(-1, output.shape[2])\n",
        "        return self.out(output)\n"
      ],
      "execution_count": null,
      "outputs": []
    },
    {
      "cell_type": "markdown",
      "metadata": {
        "id": "dEGSQdeUkTP8",
        "colab_type": "text"
      },
      "source": [
        "**Task 4:** write a training loop, which takes a model (instance of NERNet) and number of epochs to train on. The loss is always CrossEntropyLoss and the optimizer is always Adam."
      ]
    },
    {
      "cell_type": "code",
      "metadata": {
        "id": "avkHfjT3k0HM",
        "colab_type": "code",
        "colab": {}
      },
      "source": [
        "import torch.optim as optim\n",
        "\n",
        "def train_loop(model, n_epochs):\n",
        "    # Loss function\n",
        "    criterion = nn.CrossEntropyLoss()\n",
        "\n",
        "    # Optimizer (ADAM is a fancy version of SGD)\n",
        "    optimizer = optim.Adam(model.parameters(), lr=0.0001)\n",
        "\n",
        "    print_every = 10000\n",
        "    for e in range(1, n_epochs + 1):\n",
        "\n",
        "        e_loss = 0\n",
        "        loss = 0\n",
        "        for counter, (sequence, labels) in enumerate(train_sequences):\n",
        "\n",
        "            sequence_tensor = torch.LongTensor(sequence).to(device).view(1, -1)\n",
        "            labels_tensor = torch.LongTensor(labels).to(device)\n",
        "\n",
        "            # compute model output and loss\n",
        "            output_batch = model(sequence_tensor)\n",
        "            sentence_loss = criterion(output_batch, labels_tensor)\n",
        "\n",
        "            optimizer.zero_grad()\n",
        "            sentence_loss.backward()\n",
        "\n",
        "            # updating weights\n",
        "            optimizer.step()\n",
        "\n",
        "            # averaging total loss\n",
        "            sentence_loss = sentence_loss.item() / len(sequence)\n",
        "            loss += sentence_loss\n",
        "            e_loss += sentence_loss\n",
        "\n",
        "            if counter > 0 and counter % print_every == 0:\n",
        "                loss = loss / print_every\n",
        "                print('Epoch %d/%d, %d/%d, Current Loss = %.4f' % (e, n_epochs, counter, len(train_sequences), loss))\n",
        "                loss = 0\n",
        "\n",
        "        e_loss = e_loss / len(train_sequences)\n",
        "        print('Epoch %d/%d, Current Loss = %.4f' % (e, n_epochs, e_loss))\n",
        "\n"
      ],
      "execution_count": null,
      "outputs": []
    },
    {
      "cell_type": "markdown",
      "metadata": {
        "id": "baN1c_B7lTjb",
        "colab_type": "text"
      },
      "source": [
        "**Task 5:** write an evaluation loop on a trained model, using the dev and test datasets. This function print the true positive rate (TPR), also known as Recall and the opposite to false positive rate (FPR), also known as precision, of each label seperately (7 labels in total), and for all the 6 labels (except O) together. The caption argument for the function should be served for printing, so that when you print include it as a prefix."
      ]
    },
    {
      "cell_type": "code",
      "metadata": {
        "id": "iyQAjGaqmd8U",
        "colab_type": "code",
        "colab": {}
      },
      "source": [
        "import numpy as np\n",
        "\n",
        "def evaluate_dataset(model, dataset):\n",
        "    tp = 0\n",
        "    fp = 0\n",
        "    fn = 0\n",
        "    tn = 0\n",
        "    for counter, (sequence, labels) in enumerate(dataset):\n",
        "        sequence_tensor = torch.LongTensor(sequence).to(device).view(1, -1)\n",
        "        output_labels = model(sequence_tensor)\n",
        "\n",
        "        labels = np.array(labels)\n",
        "        pred_labels = torch.argmax(output_labels, dim=1).detach().cpu().numpy()\n",
        "\n",
        "        tp += np.sum([labels[i[0]] == pred_labels[i[0]] for i in np.argwhere(pred_labels > 0)])\n",
        "        tn += np.sum([labels[i[0]] == pred_labels[i[0]] for i in np.argwhere(pred_labels == 0)])\n",
        "\n",
        "        fp += np.sum([labels[i[0]] != pred_labels[i[0]] for i in np.argwhere(pred_labels > 0)])\n",
        "        fn += np.sum([labels[i[0]] != pred_labels[i[0]] for i in np.argwhere(pred_labels == 0)])\n",
        "\n",
        "    # Precision = False Positive Rate = True Positive / (True Positive + False Positive)\n",
        "    fpr = tp / (tp + fp)\n",
        "\n",
        "    # Recall = True Positive Rate = True Positive / (True Positive + False Negative)\n",
        "    tpr = tp / (tp + fn)\n",
        "\n",
        "    print(\"tp: {}, tn: {}, fp: {}, fn: {}, fpr: {}, tpr: {}\".format(tp, tn, fp, fn, fpr, tpr))\n",
        "\n",
        "    return tpr, fpr\n",
        "\n",
        "\n",
        "def evaluate(model, caption):\n",
        "  dev_tpr, dev_fpr = evaluate_dataset(model, dev_sequences)\n",
        "  test_tpr, test_fpr = evaluate_dataset(model, test_sequences)\n",
        "\n",
        "  # TODO - your code goes here\n",
        "  print(\"{} - dev tpr: {}, dev fpr: {}, test tpr: {}, test fpr: {}\".format(caption, dev_tpr, dev_fpr, test_tpr, test_fpr))\n"
      ],
      "execution_count": null,
      "outputs": []
    },
    {
      "cell_type": "markdown",
      "metadata": {
        "id": "LQSXqWNOmqG4",
        "colab_type": "text"
      },
      "source": [
        "**Task 6:** Train and evaluate a few models, all with embedding_size=300, and with the following hyper parameters (you may use that as captions for the models as well):\n",
        "\n",
        "Model 1: (hidden_size: 500, n_layers: 1, directions: 1)\n",
        "\n",
        "Model 2: (hidden_size: 500, n_layers: 2, directions: 1)\n",
        "\n",
        "Model 3: (hidden_size: 500, n_layers: 3, directions: 1)\n",
        "\n",
        "Model 4: (hidden_size: 500, n_layers: 1, directions: 2)\n",
        "\n",
        "Model 5: (hidden_size: 500, n_layers: 2, directions: 2)\n",
        "\n",
        "Model 6: (hidden_size: 500, n_layers: 3, directions: 2)\n",
        "\n",
        "Model 4: (hidden_size: 800, n_layers: 1, directions: 2)\n",
        "\n",
        "Model 5: (hidden_size: 800, n_layers: 2, directions: 2)\n",
        "\n",
        "Model 6: (hidden_size: 800, n_layers: 3, directions: 2)"
      ]
    },
    {
      "cell_type": "code",
      "metadata": {
        "id": "sOde1spntb5D",
        "colab_type": "code",
        "colab": {}
      },
      "source": [
        "def train_and_evaluate(hidden_size, n_layers, bidirectional, embedding_size=100, n_epochs=10):\n",
        "  model = NERNet(vocab.n_words, hidden_size, hidden_size, len(vocab.tag2id), n_layers, bidirectional).to(device)\n",
        "  train_loop(model, n_epochs)\n",
        "\n",
        "  caption = \"hidden_size: {}, n_layers: {}, bidirectional: {}\".format(hidden_size, n_layers, bidirectional)\n",
        "  evaluate(model, caption)\n"
      ],
      "execution_count": null,
      "outputs": []
    },
    {
      "cell_type": "code",
      "metadata": {
        "id": "gTNmBU6hycZl",
        "colab_type": "code",
        "colab": {
          "base_uri": "https://localhost:8080/",
          "height": 1000
        },
        "outputId": "5ec4f353-fd6a-4f8f-c54f-4f3b58bdcca3"
      },
      "source": [
        "train_and_evaluate(500, 1, False, n_epochs=10)\n",
        "train_and_evaluate(500, 2, False, n_epochs=10)\n",
        "train_and_evaluate(500, 3, False, n_epochs=10)\n",
        "train_and_evaluate(500, 1, True, n_epochs=10)\n",
        "train_and_evaluate(500, 2, True, n_epochs=10)\n",
        "train_and_evaluate(500, 3, True, n_epochs=10)\n",
        "train_and_evaluate(800, 1, True, n_epochs=10)\n",
        "train_and_evaluate(800, 2, True, n_epochs=10)\n",
        "train_and_evaluate(800, 3, True, n_epochs=10)\n"
      ],
      "execution_count": null,
      "outputs": [
        {
          "output_type": "stream",
          "text": [
            "Epoch 1/10, Current Loss = 0.1179\n",
            "Epoch 2/10, Current Loss = 0.0560\n",
            "Epoch 3/10, Current Loss = 0.0267\n",
            "Epoch 4/10, Current Loss = 0.0131\n",
            "Epoch 5/10, Current Loss = 0.0063\n",
            "Epoch 6/10, Current Loss = 0.0031\n",
            "Epoch 7/10, Current Loss = 0.0017\n",
            "Epoch 8/10, Current Loss = 0.0009\n",
            "Epoch 9/10, Current Loss = 0.0008\n",
            "Epoch 10/10, Current Loss = 0.0005\n",
            "tp: 537.0, tn: 3023.0, fp: 134.0, fn: 249.0, fpr: 0.8002980625931445, tpr: 0.683206106870229\n",
            "tp: 1049.0, tn: 6408.0, fp: 309.0, fn: 477.0, fpr: 0.772459499263623, tpr: 0.6874180865006553\n",
            "hidden_size: 500, n_layers: 1, bidirectional: False - dev tpr: 0.683206106870229, dev fpr: 0.8002980625931445, test tpr: 0.6874180865006553, test fpr: 0.772459499263623\n",
            "Epoch 1/10, Current Loss = 0.1121\n",
            "Epoch 2/10, Current Loss = 0.0525\n",
            "Epoch 3/10, Current Loss = 0.0204\n",
            "Epoch 4/10, Current Loss = 0.0065\n",
            "Epoch 5/10, Current Loss = 0.0025\n",
            "Epoch 6/10, Current Loss = 0.0014\n",
            "Epoch 7/10, Current Loss = 0.0006\n",
            "Epoch 8/10, Current Loss = 0.0008\n",
            "Epoch 9/10, Current Loss = 0.0004\n",
            "Epoch 10/10, Current Loss = 0.0004\n",
            "tp: 579.0, tn: 2954.0, fp: 235.0, fn: 175.0, fpr: 0.7113022113022113, tpr: 0.7679045092838196\n",
            "tp: 1179.0, tn: 6251.0, fp: 503.0, fn: 310.0, fpr: 0.7009512485136742, tpr: 0.7918065815983881\n",
            "hidden_size: 500, n_layers: 2, bidirectional: False - dev tpr: 0.7679045092838196, dev fpr: 0.7113022113022113, test tpr: 0.7918065815983881, test fpr: 0.7009512485136742\n",
            "Epoch 1/10, Current Loss = 0.1171\n",
            "Epoch 2/10, Current Loss = 0.0545\n",
            "Epoch 3/10, Current Loss = 0.0215\n",
            "Epoch 4/10, Current Loss = 0.0071\n",
            "Epoch 5/10, Current Loss = 0.0030\n",
            "Epoch 6/10, Current Loss = 0.0015\n",
            "Epoch 7/10, Current Loss = 0.0013\n",
            "Epoch 8/10, Current Loss = 0.0011\n",
            "Epoch 9/10, Current Loss = 0.0008\n",
            "Epoch 10/10, Current Loss = 0.0005\n",
            "tp: 543.0, tn: 2991.0, fp: 213.0, fn: 196.0, fpr: 0.7182539682539683, tpr: 0.7347767253044655\n",
            "tp: 1124.0, tn: 6346.0, fp: 394.0, fn: 379.0, fpr: 0.7404479578392622, tpr: 0.7478376580172987\n",
            "hidden_size: 500, n_layers: 3, bidirectional: False - dev tpr: 0.7347767253044655, dev fpr: 0.7182539682539683, test tpr: 0.7478376580172987, test fpr: 0.7404479578392622\n",
            "Epoch 1/10, Current Loss = 0.0973\n",
            "Epoch 2/10, Current Loss = 0.0349\n",
            "Epoch 3/10, Current Loss = 0.0120\n",
            "Epoch 4/10, Current Loss = 0.0042\n",
            "Epoch 5/10, Current Loss = 0.0016\n",
            "Epoch 6/10, Current Loss = 0.0007\n",
            "Epoch 7/10, Current Loss = 0.0004\n",
            "Epoch 8/10, Current Loss = 0.0003\n",
            "Epoch 9/10, Current Loss = 0.0002\n",
            "Epoch 10/10, Current Loss = 0.0001\n",
            "tp: 586.0, tn: 3035.0, fp: 132.0, fn: 190.0, fpr: 0.8161559888579387, tpr: 0.7551546391752577\n",
            "tp: 1134.0, tn: 6420.0, fp: 293.0, fn: 396.0, fpr: 0.7946741415557113, tpr: 0.7411764705882353\n",
            "hidden_size: 500, n_layers: 1, bidirectional: True - dev tpr: 0.7551546391752577, dev fpr: 0.8161559888579387, test tpr: 0.7411764705882353, test fpr: 0.7946741415557113\n",
            "Epoch 1/10, Current Loss = 0.0841\n",
            "Epoch 2/10, Current Loss = 0.0223\n",
            "Epoch 3/10, Current Loss = 0.0045\n",
            "Epoch 4/10, Current Loss = 0.0012\n",
            "Epoch 5/10, Current Loss = 0.0006\n",
            "Epoch 6/10, Current Loss = 0.0007\n",
            "Epoch 7/10, Current Loss = 0.0002\n",
            "Epoch 8/10, Current Loss = 0.0005\n",
            "Epoch 9/10, Current Loss = 0.0004\n",
            "Epoch 10/10, Current Loss = 0.0004\n",
            "tp: 636.0, tn: 2998.0, fp: 161.0, fn: 148.0, fpr: 0.7979924717691342, tpr: 0.8112244897959183\n",
            "tp: 1235.0, tn: 6355.0, fp: 350.0, fn: 303.0, fpr: 0.7791798107255521, tpr: 0.8029908972691807\n",
            "hidden_size: 500, n_layers: 2, bidirectional: True - dev tpr: 0.8112244897959183, dev fpr: 0.7979924717691342, test tpr: 0.8029908972691807, test fpr: 0.7791798107255521\n",
            "Epoch 1/10, Current Loss = 0.0874\n",
            "Epoch 2/10, Current Loss = 0.0246\n",
            "Epoch 3/10, Current Loss = 0.0059\n",
            "Epoch 4/10, Current Loss = 0.0020\n",
            "Epoch 5/10, Current Loss = 0.0013\n",
            "Epoch 6/10, Current Loss = 0.0020\n",
            "Epoch 7/10, Current Loss = 0.0004\n",
            "Epoch 8/10, Current Loss = 0.0005\n",
            "Epoch 9/10, Current Loss = 0.0010\n",
            "Epoch 10/10, Current Loss = 0.0010\n",
            "tp: 578.0, tn: 3026.0, fp: 150.0, fn: 189.0, fpr: 0.7939560439560439, tpr: 0.7535853976531942\n",
            "tp: 1177.0, tn: 6420.0, fp: 279.0, fn: 367.0, fpr: 0.8083791208791209, tpr: 0.7623056994818653\n",
            "hidden_size: 500, n_layers: 3, bidirectional: True - dev tpr: 0.7535853976531942, dev fpr: 0.7939560439560439, test tpr: 0.7623056994818653, test fpr: 0.8083791208791209\n",
            "Epoch 1/10, Current Loss = 0.0804\n",
            "Epoch 2/10, Current Loss = 0.0166\n",
            "Epoch 3/10, Current Loss = 0.0040\n",
            "Epoch 4/10, Current Loss = 0.0013\n",
            "Epoch 5/10, Current Loss = 0.0005\n",
            "Epoch 6/10, Current Loss = 0.0003\n",
            "Epoch 7/10, Current Loss = 0.0002\n",
            "Epoch 8/10, Current Loss = 0.0002\n",
            "Epoch 9/10, Current Loss = 0.0000\n",
            "Epoch 10/10, Current Loss = 0.0000\n",
            "tp: 602.0, tn: 3055.0, fp: 106.0, fn: 180.0, fpr: 0.8502824858757062, tpr: 0.7698209718670077\n",
            "tp: 1183.0, tn: 6456.0, fp: 219.0, fn: 385.0, fpr: 0.8437945791726106, tpr: 0.7544642857142857\n",
            "hidden_size: 800, n_layers: 1, bidirectional: True - dev tpr: 0.7698209718670077, dev fpr: 0.8502824858757062, test tpr: 0.7544642857142857, test fpr: 0.8437945791726106\n",
            "Epoch 1/10, Current Loss = 0.0713\n",
            "Epoch 2/10, Current Loss = 0.0112\n",
            "Epoch 3/10, Current Loss = 0.0014\n",
            "Epoch 4/10, Current Loss = 0.0009\n",
            "Epoch 5/10, Current Loss = 0.0004\n",
            "Epoch 6/10, Current Loss = 0.0007\n",
            "Epoch 7/10, Current Loss = 0.0004\n",
            "Epoch 8/10, Current Loss = 0.0002\n",
            "Epoch 9/10, Current Loss = 0.0004\n",
            "Epoch 10/10, Current Loss = 0.0002\n",
            "tp: 619.0, tn: 3048.0, fp: 113.0, fn: 163.0, fpr: 0.8456284153005464, tpr: 0.7915601023017903\n",
            "tp: 1244.0, tn: 6436.0, fp: 238.0, fn: 325.0, fpr: 0.8394062078272605, tpr: 0.792861695347355\n",
            "hidden_size: 800, n_layers: 2, bidirectional: True - dev tpr: 0.7915601023017903, dev fpr: 0.8456284153005464, test tpr: 0.792861695347355, test fpr: 0.8394062078272605\n",
            "Epoch 1/10, Current Loss = 0.0739\n",
            "Epoch 2/10, Current Loss = 0.0143\n",
            "Epoch 3/10, Current Loss = 0.0030\n",
            "Epoch 4/10, Current Loss = 0.0015\n",
            "Epoch 5/10, Current Loss = 0.0012\n",
            "Epoch 6/10, Current Loss = 0.0009\n",
            "Epoch 7/10, Current Loss = 0.0012\n",
            "Epoch 8/10, Current Loss = 0.0006\n",
            "Epoch 9/10, Current Loss = 0.0005\n",
            "Epoch 10/10, Current Loss = 0.0010\n",
            "tp: 567.0, tn: 3061.0, fp: 97.0, fn: 218.0, fpr: 0.8539156626506024, tpr: 0.7222929936305732\n",
            "tp: 1144.0, tn: 6473.0, fp: 207.0, fn: 419.0, fpr: 0.846780162842339, tpr: 0.7319257837492003\n",
            "hidden_size: 800, n_layers: 3, bidirectional: True - dev tpr: 0.7222929936305732, dev fpr: 0.8539156626506024, test tpr: 0.7319257837492003, test fpr: 0.846780162842339\n"
          ],
          "name": "stdout"
        }
      ]
    },
    {
      "cell_type": "code",
      "metadata": {
        "id": "jy0mujgNtZ7j",
        "colab_type": "code",
        "colab": {
          "base_uri": "https://localhost:8080/",
          "height": 1000
        },
        "outputId": "3f07cd56-19af-4250-f4de-5f6a1fb6835f"
      },
      "source": [
        "train_and_evaluate(500, 3, False, n_epochs=10, embedding_size=50)\n",
        "train_and_evaluate(500, 3, True, n_epochs=10, embedding_size=50)\n",
        "train_and_evaluate(800, 3, True, n_epochs=10, embedding_size=50)\n",
        "\n",
        "train_and_evaluate(500, 3, False, n_epochs=10, embedding_size=500)\n",
        "train_and_evaluate(500, 3, True, n_epochs=10, embedding_size=500)\n",
        "train_and_evaluate(800, 3, True, n_epochs=10, embedding_size=500)"
      ],
      "execution_count": null,
      "outputs": [
        {
          "output_type": "stream",
          "text": [
            "Epoch 1/10, Current Loss = 0.1191\n",
            "Epoch 2/10, Current Loss = 0.0567\n",
            "Epoch 3/10, Current Loss = 0.0218\n",
            "Epoch 4/10, Current Loss = 0.0074\n",
            "Epoch 5/10, Current Loss = 0.0029\n",
            "Epoch 6/10, Current Loss = 0.0016\n",
            "Epoch 7/10, Current Loss = 0.0011\n",
            "Epoch 8/10, Current Loss = 0.0007\n",
            "Epoch 9/10, Current Loss = 0.0008\n",
            "Epoch 10/10, Current Loss = 0.0007\n",
            "tp: 544.0, tn: 3015.0, fp: 176.0, fn: 208.0, fpr: 0.7555555555555555, tpr: 0.723404255319149\n",
            "tp: 1103.0, tn: 6396.0, fp: 337.0, fn: 407.0, fpr: 0.7659722222222223, tpr: 0.7304635761589404\n",
            "hidden_size: 500, n_layers: 3, bidirectional: False - dev tpr: 0.723404255319149, dev fpr: 0.7555555555555555, test tpr: 0.7304635761589404, test fpr: 0.7659722222222223\n",
            "Epoch 1/10, Current Loss = 0.0874\n",
            "Epoch 2/10, Current Loss = 0.0227\n",
            "Epoch 3/10, Current Loss = 0.0053\n",
            "Epoch 4/10, Current Loss = 0.0018\n",
            "Epoch 5/10, Current Loss = 0.0020\n",
            "Epoch 6/10, Current Loss = 0.0008\n",
            "Epoch 7/10, Current Loss = 0.0007\n",
            "Epoch 8/10, Current Loss = 0.0005\n",
            "Epoch 9/10, Current Loss = 0.0009\n",
            "Epoch 10/10, Current Loss = 0.0003\n",
            "tp: 607.0, tn: 3033.0, fp: 133.0, fn: 170.0, fpr: 0.8202702702702702, tpr: 0.7812097812097812\n",
            "tp: 1235.0, tn: 6420.0, fp: 246.0, fn: 342.0, fpr: 0.8338960162052668, tpr: 0.7831325301204819\n",
            "hidden_size: 500, n_layers: 3, bidirectional: True - dev tpr: 0.7812097812097812, dev fpr: 0.8202702702702702, test tpr: 0.7831325301204819, test fpr: 0.8338960162052668\n",
            "Epoch 1/10, Current Loss = 0.0750\n",
            "Epoch 2/10, Current Loss = 0.0148\n",
            "Epoch 3/10, Current Loss = 0.0027\n",
            "Epoch 4/10, Current Loss = 0.0027\n",
            "Epoch 5/10, Current Loss = 0.0016\n",
            "Epoch 6/10, Current Loss = 0.0008\n",
            "Epoch 7/10, Current Loss = 0.0010\n",
            "Epoch 8/10, Current Loss = 0.0006\n",
            "Epoch 9/10, Current Loss = 0.0006\n",
            "Epoch 10/10, Current Loss = 0.0004\n",
            "tp: 622.0, tn: 2997.0, fp: 168.0, fn: 156.0, fpr: 0.7873417721518987, tpr: 0.7994858611825193\n",
            "tp: 1258.0, tn: 6404.0, fp: 281.0, fn: 300.0, fpr: 0.8174139051332033, tpr: 0.8074454428754814\n",
            "hidden_size: 800, n_layers: 3, bidirectional: True - dev tpr: 0.7994858611825193, dev fpr: 0.7873417721518987, test tpr: 0.8074454428754814, test fpr: 0.8174139051332033\n",
            "Epoch 1/10, Current Loss = 0.1185\n",
            "Epoch 2/10, Current Loss = 0.0560\n",
            "Epoch 3/10, Current Loss = 0.0225\n",
            "Epoch 4/10, Current Loss = 0.0076\n",
            "Epoch 5/10, Current Loss = 0.0033\n",
            "Epoch 6/10, Current Loss = 0.0018\n",
            "Epoch 7/10, Current Loss = 0.0011\n",
            "Epoch 8/10, Current Loss = 0.0011\n",
            "Epoch 9/10, Current Loss = 0.0010\n",
            "Epoch 10/10, Current Loss = 0.0005\n",
            "tp: 526.0, tn: 3040.0, fp: 139.0, fn: 238.0, fpr: 0.7909774436090226, tpr: 0.6884816753926701\n",
            "tp: 1068.0, tn: 6401.0, fp: 333.0, fn: 441.0, fpr: 0.7623126338329764, tpr: 0.7077534791252486\n",
            "hidden_size: 500, n_layers: 3, bidirectional: False - dev tpr: 0.6884816753926701, dev fpr: 0.7909774436090226, test tpr: 0.7077534791252486, test fpr: 0.7623126338329764\n",
            "Epoch 1/10, Current Loss = 0.0891\n",
            "Epoch 2/10, Current Loss = 0.0241\n",
            "Epoch 3/10, Current Loss = 0.0057\n",
            "Epoch 4/10, Current Loss = 0.0020\n",
            "Epoch 5/10, Current Loss = 0.0014\n",
            "Epoch 6/10, Current Loss = 0.0012\n",
            "Epoch 7/10, Current Loss = 0.0005\n",
            "Epoch 8/10, Current Loss = 0.0006\n",
            "Epoch 9/10, Current Loss = 0.0003\n",
            "Epoch 10/10, Current Loss = 0.0010\n",
            "tp: 597.0, tn: 3032.0, fp: 135.0, fn: 179.0, fpr: 0.8155737704918032, tpr: 0.7693298969072165\n",
            "tp: 1178.0, tn: 6441.0, fp: 270.0, fn: 354.0, fpr: 0.81353591160221, tpr: 0.7689295039164491\n",
            "hidden_size: 500, n_layers: 3, bidirectional: True - dev tpr: 0.7693298969072165, dev fpr: 0.8155737704918032, test tpr: 0.7689295039164491, test fpr: 0.81353591160221\n",
            "Epoch 1/10, Current Loss = 0.0750\n",
            "Epoch 2/10, Current Loss = 0.0143\n",
            "Epoch 3/10, Current Loss = 0.0031\n",
            "Epoch 4/10, Current Loss = 0.0033\n",
            "Epoch 5/10, Current Loss = 0.0014\n",
            "Epoch 6/10, Current Loss = 0.0008\n",
            "Epoch 7/10, Current Loss = 0.0005\n",
            "Epoch 8/10, Current Loss = 0.0010\n",
            "Epoch 9/10, Current Loss = 0.0008\n",
            "Epoch 10/10, Current Loss = 0.0007\n",
            "tp: 623.0, tn: 3047.0, fp: 99.0, fn: 174.0, fpr: 0.8628808864265928, tpr: 0.7816813048933501\n",
            "tp: 1222.0, tn: 6463.0, fp: 198.0, fn: 360.0, fpr: 0.8605633802816901, tpr: 0.7724399494310998\n",
            "hidden_size: 800, n_layers: 3, bidirectional: True - dev tpr: 0.7816813048933501, dev fpr: 0.8628808864265928, test tpr: 0.7724399494310998, test fpr: 0.8605633802816901\n"
          ],
          "name": "stdout"
        }
      ]
    },
    {
      "cell_type": "code",
      "metadata": {
        "id": "C8OeTg0lU2Wr",
        "colab_type": "code",
        "colab": {
          "base_uri": "https://localhost:8080/",
          "height": 1000
        },
        "outputId": "2d0e20f8-535d-426d-cd0a-0dee08dc23e7"
      },
      "source": [
        "train_and_evaluate(100, 3, True, n_epochs=20, embedding_size=50)\n",
        "train_and_evaluate(200, 3, True, n_epochs=20, embedding_size=50)\n",
        "train_and_evaluate(400, 3, True, n_epochs=20, embedding_size=50)\n",
        "\n",
        "train_and_evaluate(100, 3, True, n_epochs=20, embedding_size=100)\n",
        "train_and_evaluate(200, 3, True, n_epochs=20, embedding_size=100)\n",
        "train_and_evaluate(400, 3, True, n_epochs=20, embedding_size=100)\n"
      ],
      "execution_count": null,
      "outputs": [
        {
          "output_type": "stream",
          "text": [
            "Epoch 1/10, Current Loss = 0.1356\n",
            "Epoch 2/10, Current Loss = 0.1017\n",
            "Epoch 3/10, Current Loss = 0.0706\n",
            "Epoch 4/10, Current Loss = 0.0480\n",
            "Epoch 5/10, Current Loss = 0.0325\n",
            "Epoch 6/10, Current Loss = 0.0212\n",
            "Epoch 7/10, Current Loss = 0.0133\n",
            "Epoch 8/10, Current Loss = 0.0080\n",
            "Epoch 9/10, Current Loss = 0.0048\n",
            "Epoch 10/10, Current Loss = 0.0029\n",
            "tp: 503.0, tn: 3042.0, fp: 129.0, fn: 269.0, fpr: 0.7958860759493671, tpr: 0.6515544041450777\n",
            "tp: 951.0, tn: 6463.0, fp: 278.0, fn: 551.0, fpr: 0.7737998372660699, tpr: 0.6331557922769641\n",
            "hidden_size: 100, n_layers: 3, bidirectional: True - dev tpr: 0.6515544041450777, dev fpr: 0.7958860759493671, test tpr: 0.6331557922769641, test fpr: 0.7737998372660699\n",
            "Epoch 1/10, Current Loss = 0.1199\n",
            "Epoch 2/10, Current Loss = 0.0594\n",
            "Epoch 3/10, Current Loss = 0.0302\n",
            "Epoch 4/10, Current Loss = 0.0151\n",
            "Epoch 5/10, Current Loss = 0.0061\n",
            "Epoch 6/10, Current Loss = 0.0026\n",
            "Epoch 7/10, Current Loss = 0.0014\n",
            "Epoch 8/10, Current Loss = 0.0012\n",
            "Epoch 9/10, Current Loss = 0.0006\n",
            "Epoch 10/10, Current Loss = 0.0006\n",
            "tp: 571.0, tn: 3024.0, fp: 179.0, fn: 169.0, fpr: 0.7613333333333333, tpr: 0.7716216216216216\n",
            "tp: 1129.0, tn: 6399.0, fp: 351.0, fn: 364.0, fpr: 0.7628378378378379, tpr: 0.7561955793703952\n",
            "hidden_size: 200, n_layers: 3, bidirectional: True - dev tpr: 0.7716216216216216, dev fpr: 0.7613333333333333, test tpr: 0.7561955793703952, test fpr: 0.7628378378378379\n",
            "Epoch 1/10, Current Loss = 0.0957\n",
            "Epoch 2/10, Current Loss = 0.0323\n",
            "Epoch 3/10, Current Loss = 0.0099\n",
            "Epoch 4/10, Current Loss = 0.0026\n",
            "Epoch 5/10, Current Loss = 0.0017\n",
            "Epoch 6/10, Current Loss = 0.0008\n",
            "Epoch 7/10, Current Loss = 0.0008\n",
            "Epoch 8/10, Current Loss = 0.0005\n",
            "Epoch 9/10, Current Loss = 0.0006\n",
            "Epoch 10/10, Current Loss = 0.0002\n",
            "tp: 611.0, tn: 3017.0, fp: 144.0, fn: 171.0, fpr: 0.8092715231788079, tpr: 0.7813299232736572\n",
            "tp: 1213.0, tn: 6395.0, fp: 318.0, fn: 317.0, fpr: 0.7922926192031352, tpr: 0.7928104575163398\n",
            "hidden_size: 400, n_layers: 3, bidirectional: True - dev tpr: 0.7813299232736572, dev fpr: 0.8092715231788079, test tpr: 0.7928104575163398, test fpr: 0.7922926192031352\n",
            "Epoch 1/10, Current Loss = 0.1367\n",
            "Epoch 2/10, Current Loss = 0.1049\n",
            "Epoch 3/10, Current Loss = 0.0762\n",
            "Epoch 4/10, Current Loss = 0.0507\n",
            "Epoch 5/10, Current Loss = 0.0332\n",
            "Epoch 6/10, Current Loss = 0.0214\n",
            "Epoch 7/10, Current Loss = 0.0134\n",
            "Epoch 8/10, Current Loss = 0.0081\n",
            "Epoch 9/10, Current Loss = 0.0050\n",
            "Epoch 10/10, Current Loss = 0.0033\n",
            "tp: 464.0, tn: 3048.0, fp: 145.0, fn: 286.0, fpr: 0.7619047619047619, tpr: 0.6186666666666667\n",
            "tp: 958.0, tn: 6442.0, fp: 289.0, fn: 554.0, fpr: 0.7682437850842021, tpr: 0.6335978835978836\n",
            "hidden_size: 100, n_layers: 3, bidirectional: True - dev tpr: 0.6186666666666667, dev fpr: 0.7619047619047619, test tpr: 0.6335978835978836, test fpr: 0.7682437850842021\n",
            "Epoch 1/10, Current Loss = 0.1202\n",
            "Epoch 2/10, Current Loss = 0.0599\n",
            "Epoch 3/10, Current Loss = 0.0288\n",
            "Epoch 4/10, Current Loss = 0.0141\n",
            "Epoch 5/10, Current Loss = 0.0063\n",
            "Epoch 6/10, Current Loss = 0.0028\n",
            "Epoch 7/10, Current Loss = 0.0016\n",
            "Epoch 8/10, Current Loss = 0.0011\n",
            "Epoch 9/10, Current Loss = 0.0007\n",
            "Epoch 10/10, Current Loss = 0.0005\n",
            "tp: 575.0, tn: 3027.0, fp: 161.0, fn: 180.0, fpr: 0.78125, tpr: 0.7615894039735099\n",
            "tp: 1125.0, tn: 6369.0, fp: 381.0, fn: 368.0, fpr: 0.7470119521912351, tpr: 0.753516409912927\n",
            "hidden_size: 200, n_layers: 3, bidirectional: True - dev tpr: 0.7615894039735099, dev fpr: 0.78125, test tpr: 0.753516409912927, test fpr: 0.7470119521912351\n",
            "Epoch 1/10, Current Loss = 0.0946\n",
            "Epoch 2/10, Current Loss = 0.0306\n",
            "Epoch 3/10, Current Loss = 0.0088\n",
            "Epoch 4/10, Current Loss = 0.0029\n",
            "Epoch 5/10, Current Loss = 0.0016\n",
            "Epoch 6/10, Current Loss = 0.0010\n",
            "Epoch 7/10, Current Loss = 0.0007\n",
            "Epoch 8/10, Current Loss = 0.0006\n",
            "Epoch 9/10, Current Loss = 0.0004\n",
            "Epoch 10/10, Current Loss = 0.0004\n",
            "tp: 596.0, tn: 3027.0, fp: 155.0, fn: 165.0, fpr: 0.7936085219707057, tpr: 0.783180026281209\n",
            "tp: 1182.0, tn: 6439.0, fp: 264.0, fn: 358.0, fpr: 0.8174273858921162, tpr: 0.7675324675324675\n",
            "hidden_size: 400, n_layers: 3, bidirectional: True - dev tpr: 0.783180026281209, dev fpr: 0.7936085219707057, test tpr: 0.7675324675324675, test fpr: 0.8174273858921162\n"
          ],
          "name": "stdout"
        }
      ]
    },
    {
      "cell_type": "code",
      "metadata": {
        "id": "eKSN9T4tWdBY",
        "colab_type": "code",
        "colab": {
          "base_uri": "https://localhost:8080/",
          "height": 710
        },
        "outputId": "ac21daf2-9853-4c4f-91e1-c61a4afbb6bf"
      },
      "source": [
        "train_and_evaluate(800, 3, True, n_epochs=10, embedding_size=800)\n",
        "train_and_evaluate(1000, 3, True, n_epochs=10, embedding_size=1000)\n",
        "train_and_evaluate(1200, 3, True, n_epochs=10, embedding_size=1200)"
      ],
      "execution_count": null,
      "outputs": [
        {
          "output_type": "stream",
          "text": [
            "Epoch 1/10, Current Loss = 0.0739\n",
            "Epoch 2/10, Current Loss = 0.0135\n",
            "Epoch 3/10, Current Loss = 0.0029\n",
            "Epoch 4/10, Current Loss = 0.0013\n",
            "Epoch 5/10, Current Loss = 0.0016\n",
            "Epoch 6/10, Current Loss = 0.0012\n",
            "Epoch 7/10, Current Loss = 0.0008\n",
            "Epoch 8/10, Current Loss = 0.0005\n",
            "Epoch 9/10, Current Loss = 0.0005\n",
            "Epoch 10/10, Current Loss = 0.0005\n",
            "tp: 616.0, tn: 3031.0, fp: 134.0, fn: 162.0, fpr: 0.8213333333333334, tpr: 0.7917737789203085\n",
            "tp: 1224.0, tn: 6389.0, fp: 309.0, fn: 321.0, fpr: 0.7984344422700587, tpr: 0.7922330097087379\n",
            "hidden_size: 800, n_layers: 3, bidirectional: True - dev tpr: 0.7917737789203085, dev fpr: 0.8213333333333334, test tpr: 0.7922330097087379, test fpr: 0.7984344422700587\n",
            "Epoch 1/10, Current Loss = 0.0715\n",
            "Epoch 2/10, Current Loss = 0.0108\n",
            "Epoch 3/10, Current Loss = 0.0033\n",
            "Epoch 4/10, Current Loss = 0.0012\n",
            "Epoch 5/10, Current Loss = 0.0007\n",
            "Epoch 6/10, Current Loss = 0.0017\n",
            "Epoch 7/10, Current Loss = 0.0006\n",
            "Epoch 8/10, Current Loss = 0.0006\n",
            "Epoch 9/10, Current Loss = 0.0019\n",
            "Epoch 10/10, Current Loss = 0.0002\n",
            "tp: 637.0, tn: 3042.0, fp: 112.0, fn: 152.0, fpr: 0.8504672897196262, tpr: 0.8073510773130546\n",
            "tp: 1252.0, tn: 6436.0, fp: 245.0, fn: 310.0, fpr: 0.8363393453573814, tpr: 0.8015364916773368\n",
            "hidden_size: 1000, n_layers: 3, bidirectional: True - dev tpr: 0.8073510773130546, dev fpr: 0.8504672897196262, test tpr: 0.8015364916773368, test fpr: 0.8363393453573814\n",
            "Epoch 1/10, Current Loss = 0.0672\n",
            "Epoch 2/10, Current Loss = 0.0106\n",
            "Epoch 3/10, Current Loss = 0.0032\n",
            "Epoch 4/10, Current Loss = 0.0020\n",
            "Epoch 5/10, Current Loss = 0.0007\n",
            "Epoch 6/10, Current Loss = 0.0006\n",
            "Epoch 7/10, Current Loss = 0.0004\n",
            "Epoch 8/10, Current Loss = 0.0017\n",
            "Epoch 9/10, Current Loss = 0.0009\n",
            "Epoch 10/10, Current Loss = 0.0006\n",
            "tp: 639.0, tn: 3026.0, fp: 125.0, fn: 153.0, fpr: 0.8363874345549738, tpr: 0.8068181818181818\n",
            "tp: 1274.0, tn: 6401.0, fp: 290.0, fn: 278.0, fpr: 0.8145780051150895, tpr: 0.8208762886597938\n",
            "hidden_size: 1200, n_layers: 3, bidirectional: True - dev tpr: 0.8068181818181818, dev fpr: 0.8363874345549738, test tpr: 0.8208762886597938, test fpr: 0.8145780051150895\n"
          ],
          "name": "stdout"
        }
      ]
    },
    {
      "cell_type": "code",
      "metadata": {
        "id": "jjW0NgcVYjGv",
        "colab_type": "code",
        "colab": {
          "base_uri": "https://localhost:8080/",
          "height": 710
        },
        "outputId": "416222ca-f7de-4b40-ab96-79e4868ef23d"
      },
      "source": [
        "train_and_evaluate(800, 4, True, n_epochs=15, embedding_size=500)\n",
        "train_and_evaluate(800, 5, True, n_epochs=15, embedding_size=500)\n",
        "train_and_evaluate(800, 6, True, n_epochs=15, embedding_size=500)\n"
      ],
      "execution_count": null,
      "outputs": [
        {
          "output_type": "stream",
          "text": [
            "Epoch 1/10, Current Loss = 0.0865\n",
            "Epoch 2/10, Current Loss = 0.0220\n",
            "Epoch 3/10, Current Loss = 0.0056\n",
            "Epoch 4/10, Current Loss = 0.0028\n",
            "Epoch 5/10, Current Loss = 0.0022\n",
            "Epoch 6/10, Current Loss = 0.0013\n",
            "Epoch 7/10, Current Loss = 0.0009\n",
            "Epoch 8/10, Current Loss = 0.0006\n",
            "Epoch 9/10, Current Loss = 0.0006\n",
            "Epoch 10/10, Current Loss = 0.0021\n",
            "tp: 615.0, tn: 3011.0, fp: 177.0, fn: 140.0, fpr: 0.7765151515151515, tpr: 0.8145695364238411\n",
            "tp: 1226.0, tn: 6377.0, fp: 365.0, fn: 275.0, fpr: 0.7705845380263985, tpr: 0.8167888074616922\n",
            "hidden_size: 800, n_layers: 4, bidirectional: True - dev tpr: 0.8145695364238411, dev fpr: 0.7765151515151515, test tpr: 0.8167888074616922, test fpr: 0.7705845380263985\n",
            "Epoch 1/10, Current Loss = 0.0990\n",
            "Epoch 2/10, Current Loss = 0.0320\n",
            "Epoch 3/10, Current Loss = 0.0112\n",
            "Epoch 4/10, Current Loss = 0.0053\n",
            "Epoch 5/10, Current Loss = 0.0027\n",
            "Epoch 6/10, Current Loss = 0.0022\n",
            "Epoch 7/10, Current Loss = 0.0021\n",
            "Epoch 8/10, Current Loss = 0.0024\n",
            "Epoch 9/10, Current Loss = 0.0015\n",
            "Epoch 10/10, Current Loss = 0.0009\n",
            "tp: 601.0, tn: 3026.0, fp: 138.0, fn: 178.0, fpr: 0.8132611637347767, tpr: 0.7715019255455713\n",
            "tp: 1205.0, tn: 6396.0, fp: 313.0, fn: 329.0, fpr: 0.7938076416337286, tpr: 0.7855280312907431\n",
            "hidden_size: 800, n_layers: 5, bidirectional: True - dev tpr: 0.7715019255455713, dev fpr: 0.8132611637347767, test tpr: 0.7855280312907431, test fpr: 0.7938076416337286\n",
            "Epoch 1/10, Current Loss = 0.1082\n",
            "Epoch 2/10, Current Loss = 0.0517\n",
            "Epoch 3/10, Current Loss = 0.0232\n",
            "Epoch 4/10, Current Loss = 0.0140\n",
            "Epoch 5/10, Current Loss = 0.0095\n",
            "Epoch 6/10, Current Loss = 0.0054\n",
            "Epoch 7/10, Current Loss = 0.0035\n",
            "Epoch 8/10, Current Loss = 0.0045\n",
            "Epoch 9/10, Current Loss = 0.0023\n",
            "Epoch 10/10, Current Loss = 0.0024\n",
            "tp: 597.0, tn: 3028.0, fp: 154.0, fn: 164.0, fpr: 0.7949400798934754, tpr: 0.7844940867279895\n",
            "tp: 1174.0, tn: 6392.0, fp: 349.0, fn: 328.0, fpr: 0.7708470124753776, tpr: 0.7816245006657789\n",
            "hidden_size: 800, n_layers: 6, bidirectional: True - dev tpr: 0.7844940867279895, dev fpr: 0.7949400798934754, test tpr: 0.7816245006657789, test fpr: 0.7708470124753776\n"
          ],
          "name": "stdout"
        }
      ]
    },
    {
      "cell_type": "code",
      "metadata": {
        "id": "753KDNTMmJHs",
        "colab_type": "code",
        "colab": {
          "base_uri": "https://localhost:8080/",
          "height": 247
        },
        "outputId": "b472ca3e-e587-4b5a-da94-9311f5745ca0"
      },
      "source": [
        "train_and_evaluate(800, 3, True, n_epochs=10, embedding_size=500)"
      ],
      "execution_count": null,
      "outputs": [
        {
          "output_type": "stream",
          "text": [
            "Epoch 1/10, Current Loss = 0.0747\n",
            "Epoch 2/10, Current Loss = 0.0132\n",
            "Epoch 3/10, Current Loss = 0.0031\n",
            "Epoch 4/10, Current Loss = 0.0019\n",
            "Epoch 5/10, Current Loss = 0.0026\n",
            "Epoch 6/10, Current Loss = 0.0007\n",
            "Epoch 7/10, Current Loss = 0.0009\n",
            "Epoch 8/10, Current Loss = 0.0008\n",
            "Epoch 9/10, Current Loss = 0.0005\n",
            "Epoch 10/10, Current Loss = 0.0005\n",
            "tp: 625.0, tn: 3015.0, fp: 150.0, fn: 153.0, fpr: 0.8064516129032258, tpr: 0.8033419023136247\n",
            "tp: 1215.0, tn: 6404.0, fp: 299.0, fn: 325.0, fpr: 0.8025099075297226, tpr: 0.788961038961039\n",
            "hidden_size: 800, n_layers: 3, bidirectional: True - dev tpr: 0.8033419023136247, dev fpr: 0.8064516129032258, test tpr: 0.788961038961039, test fpr: 0.8025099075297226\n"
          ],
          "name": "stdout"
        }
      ]
    },
    {
      "cell_type": "code",
      "metadata": {
        "id": "Z-vsqqmZnsnj",
        "colab_type": "code",
        "colab": {
          "base_uri": "https://localhost:8080/",
          "height": 870
        },
        "outputId": "d69cf3a1-ed80-415d-b182-a4b4d6fd9454"
      },
      "source": [
        "train_and_evaluate(1000, 4, True, n_epochs=15, embedding_size=1000)\n",
        "train_and_evaluate(1000, 5, True, n_epochs=15, embedding_size=1000)\n",
        "train_and_evaluate(1000, 6, True, n_epochs=15, embedding_size=1000)\n"
      ],
      "execution_count": null,
      "outputs": [
        {
          "output_type": "stream",
          "text": [
            "Epoch 1/15, Current Loss = 0.0814\n",
            "Epoch 2/15, Current Loss = 0.0175\n",
            "Epoch 3/15, Current Loss = 0.0054\n",
            "Epoch 4/15, Current Loss = 0.0034\n",
            "Epoch 5/15, Current Loss = 0.0014\n",
            "Epoch 6/15, Current Loss = 0.0013\n",
            "Epoch 7/15, Current Loss = 0.0017\n",
            "Epoch 8/15, Current Loss = 0.0016\n",
            "Epoch 9/15, Current Loss = 0.0007\n",
            "Epoch 10/15, Current Loss = 0.0008\n",
            "Epoch 11/15, Current Loss = 0.0009\n",
            "Epoch 12/15, Current Loss = 0.0006\n",
            "Epoch 13/15, Current Loss = 0.0004\n",
            "Epoch 14/15, Current Loss = 0.0010\n",
            "Epoch 15/15, Current Loss = 0.0002\n",
            "tp: 644.0, tn: 3021.0, fp: 130.0, fn: 148.0, fpr: 0.8320413436692506, tpr: 0.8131313131313131\n",
            "tp: 1240.0, tn: 6430.0, fp: 264.0, fn: 309.0, fpr: 0.824468085106383, tpr: 0.8005164622336992\n",
            "hidden_size: 1000, n_layers: 4, bidirectional: True - dev tpr: 0.8131313131313131, dev fpr: 0.8320413436692506, test tpr: 0.8005164622336992, test fpr: 0.824468085106383\n",
            "Epoch 1/15, Current Loss = 0.0950\n",
            "Epoch 2/15, Current Loss = 0.0268\n",
            "Epoch 3/15, Current Loss = 0.0096\n",
            "Epoch 4/15, Current Loss = 0.0037\n",
            "Epoch 5/15, Current Loss = 0.0031\n",
            "Epoch 6/15, Current Loss = 0.0029\n",
            "Epoch 7/15, Current Loss = 0.0011\n",
            "Epoch 8/15, Current Loss = 0.0016\n",
            "Epoch 9/15, Current Loss = 0.0016\n",
            "Epoch 10/15, Current Loss = 0.0015\n",
            "Epoch 11/15, Current Loss = 0.0012\n",
            "Epoch 12/15, Current Loss = 0.0020\n",
            "Epoch 13/15, Current Loss = 0.0005\n",
            "Epoch 14/15, Current Loss = 0.0008\n",
            "Epoch 15/15, Current Loss = 0.0010\n",
            "tp: 646.0, tn: 2987.0, fp: 176.0, fn: 134.0, fpr: 0.7858880778588808, tpr: 0.8282051282051283\n",
            "tp: 1274.0, tn: 6349.0, fp: 355.0, fn: 265.0, fpr: 0.7820748925721301, tpr: 0.8278102664067576\n",
            "hidden_size: 1000, n_layers: 5, bidirectional: True - dev tpr: 0.8282051282051283, dev fpr: 0.7858880778588808, test tpr: 0.8278102664067576, test fpr: 0.7820748925721301\n",
            "Epoch 1/15, Current Loss = 0.1075\n",
            "Epoch 2/15, Current Loss = 0.0467\n",
            "Epoch 3/15, Current Loss = 0.0233\n",
            "Epoch 4/15, Current Loss = 0.0122\n",
            "Epoch 5/15, Current Loss = 0.0079\n",
            "Epoch 6/15, Current Loss = 0.0055\n",
            "Epoch 7/15, Current Loss = 0.0038\n",
            "Epoch 8/15, Current Loss = 0.0038\n",
            "Epoch 9/15, Current Loss = 0.0026\n",
            "Epoch 10/15, Current Loss = 0.0014\n",
            "Epoch 11/15, Current Loss = 0.0004\n",
            "Epoch 12/15, Current Loss = 0.0020\n"
          ],
          "name": "stdout"
        }
      ]
    },
    {
      "cell_type": "markdown",
      "metadata": {
        "id": "UM74r0_8nk5s",
        "colab_type": "text"
      },
      "source": [
        "**Task 6:** Download the GloVe embeddings from https://nlp.stanford.edu/projects/glove/ (use the 300-dim vectors from glove.6B.zip). Then intialize the nn.Embedding module in your NERNet with these embeddings, so that you can start your training with pre-trained vectors. Repeat Task 6 and print the results for each model.\n",
        "\n",
        "Note: make sure that vectors are aligned with the IDs in your Vocab, in other words, make sure that for example the word with ID 0 is the first vector in the GloVe matrix of vectors that you initialize nn.Embedding with. For a dicussion on how to do that, check it this link:\n",
        "https://discuss.pytorch.org/t/can-we-use-pre-trained-word-embeddings-for-weight-initialization-in-nn-embedding/1222"
      ]
    },
    {
      "cell_type": "code",
      "metadata": {
        "id": "JRiMbvx9o5Rh",
        "colab_type": "code",
        "colab": {}
      },
      "source": [
        "# TODO - your code goes here..."
      ],
      "execution_count": null,
      "outputs": []
    },
    {
      "cell_type": "markdown",
      "metadata": {
        "id": "jxaESRoco6bV",
        "colab_type": "text"
      },
      "source": [
        "**Good luck!**"
      ]
    }
  ]
}