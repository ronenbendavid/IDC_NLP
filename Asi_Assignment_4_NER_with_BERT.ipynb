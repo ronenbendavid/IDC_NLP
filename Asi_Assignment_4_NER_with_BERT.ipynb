{
  "nbformat": 4,
  "nbformat_minor": 0,
  "metadata": {
    "colab": {
      "name": "Asi Assignment 4 - NER with BERT",
      "provenance": [],
      "collapsed_sections": [],
      "toc_visible": true,
      "include_colab_link": true
    },
    "kernelspec": {
      "name": "python3",
      "display_name": "Python 3"
    },
    "accelerator": "GPU",
    "widgets": {
      "application/vnd.jupyter.widget-state+json": {
        "fdbe3750db8744bd85a8eab2f854d4d5": {
          "model_module": "@jupyter-widgets/controls",
          "model_name": "HBoxModel",
          "state": {
            "_view_name": "HBoxView",
            "_dom_classes": [],
            "_model_name": "HBoxModel",
            "_view_module": "@jupyter-widgets/controls",
            "_model_module_version": "1.5.0",
            "_view_count": null,
            "_view_module_version": "1.5.0",
            "box_style": "",
            "layout": "IPY_MODEL_db0b0858c8e14d3ea1aef958b14d4f05",
            "_model_module": "@jupyter-widgets/controls",
            "children": [
              "IPY_MODEL_0f843bfe16574454a1cee5eded9c878e",
              "IPY_MODEL_f107b8c4cc624f3a91b1ceeb723367e6"
            ]
          }
        },
        "db0b0858c8e14d3ea1aef958b14d4f05": {
          "model_module": "@jupyter-widgets/base",
          "model_name": "LayoutModel",
          "state": {
            "_view_name": "LayoutView",
            "grid_template_rows": null,
            "right": null,
            "justify_content": null,
            "_view_module": "@jupyter-widgets/base",
            "overflow": null,
            "_model_module_version": "1.2.0",
            "_view_count": null,
            "flex_flow": null,
            "width": null,
            "min_width": null,
            "border": null,
            "align_items": null,
            "bottom": null,
            "_model_module": "@jupyter-widgets/base",
            "top": null,
            "grid_column": null,
            "overflow_y": null,
            "overflow_x": null,
            "grid_auto_flow": null,
            "grid_area": null,
            "grid_template_columns": null,
            "flex": null,
            "_model_name": "LayoutModel",
            "justify_items": null,
            "grid_row": null,
            "max_height": null,
            "align_content": null,
            "visibility": null,
            "align_self": null,
            "height": null,
            "min_height": null,
            "padding": null,
            "grid_auto_rows": null,
            "grid_gap": null,
            "max_width": null,
            "order": null,
            "_view_module_version": "1.2.0",
            "grid_template_areas": null,
            "object_position": null,
            "object_fit": null,
            "grid_auto_columns": null,
            "margin": null,
            "display": null,
            "left": null
          }
        },
        "0f843bfe16574454a1cee5eded9c878e": {
          "model_module": "@jupyter-widgets/controls",
          "model_name": "FloatProgressModel",
          "state": {
            "_view_name": "ProgressView",
            "style": "IPY_MODEL_f385a41a52244dd9b683ae53cedea6d4",
            "_dom_classes": [],
            "description": "Downloading: 100%",
            "_model_name": "FloatProgressModel",
            "bar_style": "success",
            "max": 213450,
            "_view_module": "@jupyter-widgets/controls",
            "_model_module_version": "1.5.0",
            "value": 213450,
            "_view_count": null,
            "_view_module_version": "1.5.0",
            "orientation": "horizontal",
            "min": 0,
            "description_tooltip": null,
            "_model_module": "@jupyter-widgets/controls",
            "layout": "IPY_MODEL_6fcb4b229984466a9ce2f4463e4d3926"
          }
        },
        "f107b8c4cc624f3a91b1ceeb723367e6": {
          "model_module": "@jupyter-widgets/controls",
          "model_name": "HTMLModel",
          "state": {
            "_view_name": "HTMLView",
            "style": "IPY_MODEL_7722664f4c154add8ab954d12fd83cd6",
            "_dom_classes": [],
            "description": "",
            "_model_name": "HTMLModel",
            "placeholder": "​",
            "_view_module": "@jupyter-widgets/controls",
            "_model_module_version": "1.5.0",
            "value": " 213k/213k [00:00&lt;00:00, 844kB/s]",
            "_view_count": null,
            "_view_module_version": "1.5.0",
            "description_tooltip": null,
            "_model_module": "@jupyter-widgets/controls",
            "layout": "IPY_MODEL_9b31901e95af43099146511bd2e1a819"
          }
        },
        "f385a41a52244dd9b683ae53cedea6d4": {
          "model_module": "@jupyter-widgets/controls",
          "model_name": "ProgressStyleModel",
          "state": {
            "_view_name": "StyleView",
            "_model_name": "ProgressStyleModel",
            "description_width": "initial",
            "_view_module": "@jupyter-widgets/base",
            "_model_module_version": "1.5.0",
            "_view_count": null,
            "_view_module_version": "1.2.0",
            "bar_color": null,
            "_model_module": "@jupyter-widgets/controls"
          }
        },
        "6fcb4b229984466a9ce2f4463e4d3926": {
          "model_module": "@jupyter-widgets/base",
          "model_name": "LayoutModel",
          "state": {
            "_view_name": "LayoutView",
            "grid_template_rows": null,
            "right": null,
            "justify_content": null,
            "_view_module": "@jupyter-widgets/base",
            "overflow": null,
            "_model_module_version": "1.2.0",
            "_view_count": null,
            "flex_flow": null,
            "width": null,
            "min_width": null,
            "border": null,
            "align_items": null,
            "bottom": null,
            "_model_module": "@jupyter-widgets/base",
            "top": null,
            "grid_column": null,
            "overflow_y": null,
            "overflow_x": null,
            "grid_auto_flow": null,
            "grid_area": null,
            "grid_template_columns": null,
            "flex": null,
            "_model_name": "LayoutModel",
            "justify_items": null,
            "grid_row": null,
            "max_height": null,
            "align_content": null,
            "visibility": null,
            "align_self": null,
            "height": null,
            "min_height": null,
            "padding": null,
            "grid_auto_rows": null,
            "grid_gap": null,
            "max_width": null,
            "order": null,
            "_view_module_version": "1.2.0",
            "grid_template_areas": null,
            "object_position": null,
            "object_fit": null,
            "grid_auto_columns": null,
            "margin": null,
            "display": null,
            "left": null
          }
        },
        "7722664f4c154add8ab954d12fd83cd6": {
          "model_module": "@jupyter-widgets/controls",
          "model_name": "DescriptionStyleModel",
          "state": {
            "_view_name": "StyleView",
            "_model_name": "DescriptionStyleModel",
            "description_width": "",
            "_view_module": "@jupyter-widgets/base",
            "_model_module_version": "1.5.0",
            "_view_count": null,
            "_view_module_version": "1.2.0",
            "_model_module": "@jupyter-widgets/controls"
          }
        },
        "9b31901e95af43099146511bd2e1a819": {
          "model_module": "@jupyter-widgets/base",
          "model_name": "LayoutModel",
          "state": {
            "_view_name": "LayoutView",
            "grid_template_rows": null,
            "right": null,
            "justify_content": null,
            "_view_module": "@jupyter-widgets/base",
            "overflow": null,
            "_model_module_version": "1.2.0",
            "_view_count": null,
            "flex_flow": null,
            "width": null,
            "min_width": null,
            "border": null,
            "align_items": null,
            "bottom": null,
            "_model_module": "@jupyter-widgets/base",
            "top": null,
            "grid_column": null,
            "overflow_y": null,
            "overflow_x": null,
            "grid_auto_flow": null,
            "grid_area": null,
            "grid_template_columns": null,
            "flex": null,
            "_model_name": "LayoutModel",
            "justify_items": null,
            "grid_row": null,
            "max_height": null,
            "align_content": null,
            "visibility": null,
            "align_self": null,
            "height": null,
            "min_height": null,
            "padding": null,
            "grid_auto_rows": null,
            "grid_gap": null,
            "max_width": null,
            "order": null,
            "_view_module_version": "1.2.0",
            "grid_template_areas": null,
            "object_position": null,
            "object_fit": null,
            "grid_auto_columns": null,
            "margin": null,
            "display": null,
            "left": null
          }
        },
        "0014e236f958487881a71cf8e81e396c": {
          "model_module": "@jupyter-widgets/controls",
          "model_name": "HBoxModel",
          "state": {
            "_view_name": "HBoxView",
            "_dom_classes": [],
            "_model_name": "HBoxModel",
            "_view_module": "@jupyter-widgets/controls",
            "_model_module_version": "1.5.0",
            "_view_count": null,
            "_view_module_version": "1.5.0",
            "box_style": "",
            "layout": "IPY_MODEL_9e2e7a23be094109adc7425a314ca94e",
            "_model_module": "@jupyter-widgets/controls",
            "children": [
              "IPY_MODEL_1b571a7807884bcbb6af0b71f38b4c78",
              "IPY_MODEL_c5d21b8ab3804270a2bd759df81cbfbc"
            ]
          }
        },
        "9e2e7a23be094109adc7425a314ca94e": {
          "model_module": "@jupyter-widgets/base",
          "model_name": "LayoutModel",
          "state": {
            "_view_name": "LayoutView",
            "grid_template_rows": null,
            "right": null,
            "justify_content": null,
            "_view_module": "@jupyter-widgets/base",
            "overflow": null,
            "_model_module_version": "1.2.0",
            "_view_count": null,
            "flex_flow": null,
            "width": null,
            "min_width": null,
            "border": null,
            "align_items": null,
            "bottom": null,
            "_model_module": "@jupyter-widgets/base",
            "top": null,
            "grid_column": null,
            "overflow_y": null,
            "overflow_x": null,
            "grid_auto_flow": null,
            "grid_area": null,
            "grid_template_columns": null,
            "flex": null,
            "_model_name": "LayoutModel",
            "justify_items": null,
            "grid_row": null,
            "max_height": null,
            "align_content": null,
            "visibility": null,
            "align_self": null,
            "height": null,
            "min_height": null,
            "padding": null,
            "grid_auto_rows": null,
            "grid_gap": null,
            "max_width": null,
            "order": null,
            "_view_module_version": "1.2.0",
            "grid_template_areas": null,
            "object_position": null,
            "object_fit": null,
            "grid_auto_columns": null,
            "margin": null,
            "display": null,
            "left": null
          }
        },
        "1b571a7807884bcbb6af0b71f38b4c78": {
          "model_module": "@jupyter-widgets/controls",
          "model_name": "FloatProgressModel",
          "state": {
            "_view_name": "ProgressView",
            "style": "IPY_MODEL_f5b88903cb86449d9adb5c914cef957b",
            "_dom_classes": [],
            "description": "Downloading: 100%",
            "_model_name": "FloatProgressModel",
            "bar_style": "success",
            "max": 433,
            "_view_module": "@jupyter-widgets/controls",
            "_model_module_version": "1.5.0",
            "value": 433,
            "_view_count": null,
            "_view_module_version": "1.5.0",
            "orientation": "horizontal",
            "min": 0,
            "description_tooltip": null,
            "_model_module": "@jupyter-widgets/controls",
            "layout": "IPY_MODEL_40b4f542efe444608fd812f08b3d035a"
          }
        },
        "c5d21b8ab3804270a2bd759df81cbfbc": {
          "model_module": "@jupyter-widgets/controls",
          "model_name": "HTMLModel",
          "state": {
            "_view_name": "HTMLView",
            "style": "IPY_MODEL_100f38c54f4b4dd989ef09459484abda",
            "_dom_classes": [],
            "description": "",
            "_model_name": "HTMLModel",
            "placeholder": "​",
            "_view_module": "@jupyter-widgets/controls",
            "_model_module_version": "1.5.0",
            "value": " 433/433 [00:06&lt;00:00, 62.1B/s]",
            "_view_count": null,
            "_view_module_version": "1.5.0",
            "description_tooltip": null,
            "_model_module": "@jupyter-widgets/controls",
            "layout": "IPY_MODEL_9129a11152354d34b8f2e19e37045615"
          }
        },
        "f5b88903cb86449d9adb5c914cef957b": {
          "model_module": "@jupyter-widgets/controls",
          "model_name": "ProgressStyleModel",
          "state": {
            "_view_name": "StyleView",
            "_model_name": "ProgressStyleModel",
            "description_width": "initial",
            "_view_module": "@jupyter-widgets/base",
            "_model_module_version": "1.5.0",
            "_view_count": null,
            "_view_module_version": "1.2.0",
            "bar_color": null,
            "_model_module": "@jupyter-widgets/controls"
          }
        },
        "40b4f542efe444608fd812f08b3d035a": {
          "model_module": "@jupyter-widgets/base",
          "model_name": "LayoutModel",
          "state": {
            "_view_name": "LayoutView",
            "grid_template_rows": null,
            "right": null,
            "justify_content": null,
            "_view_module": "@jupyter-widgets/base",
            "overflow": null,
            "_model_module_version": "1.2.0",
            "_view_count": null,
            "flex_flow": null,
            "width": null,
            "min_width": null,
            "border": null,
            "align_items": null,
            "bottom": null,
            "_model_module": "@jupyter-widgets/base",
            "top": null,
            "grid_column": null,
            "overflow_y": null,
            "overflow_x": null,
            "grid_auto_flow": null,
            "grid_area": null,
            "grid_template_columns": null,
            "flex": null,
            "_model_name": "LayoutModel",
            "justify_items": null,
            "grid_row": null,
            "max_height": null,
            "align_content": null,
            "visibility": null,
            "align_self": null,
            "height": null,
            "min_height": null,
            "padding": null,
            "grid_auto_rows": null,
            "grid_gap": null,
            "max_width": null,
            "order": null,
            "_view_module_version": "1.2.0",
            "grid_template_areas": null,
            "object_position": null,
            "object_fit": null,
            "grid_auto_columns": null,
            "margin": null,
            "display": null,
            "left": null
          }
        },
        "100f38c54f4b4dd989ef09459484abda": {
          "model_module": "@jupyter-widgets/controls",
          "model_name": "DescriptionStyleModel",
          "state": {
            "_view_name": "StyleView",
            "_model_name": "DescriptionStyleModel",
            "description_width": "",
            "_view_module": "@jupyter-widgets/base",
            "_model_module_version": "1.5.0",
            "_view_count": null,
            "_view_module_version": "1.2.0",
            "_model_module": "@jupyter-widgets/controls"
          }
        },
        "9129a11152354d34b8f2e19e37045615": {
          "model_module": "@jupyter-widgets/base",
          "model_name": "LayoutModel",
          "state": {
            "_view_name": "LayoutView",
            "grid_template_rows": null,
            "right": null,
            "justify_content": null,
            "_view_module": "@jupyter-widgets/base",
            "overflow": null,
            "_model_module_version": "1.2.0",
            "_view_count": null,
            "flex_flow": null,
            "width": null,
            "min_width": null,
            "border": null,
            "align_items": null,
            "bottom": null,
            "_model_module": "@jupyter-widgets/base",
            "top": null,
            "grid_column": null,
            "overflow_y": null,
            "overflow_x": null,
            "grid_auto_flow": null,
            "grid_area": null,
            "grid_template_columns": null,
            "flex": null,
            "_model_name": "LayoutModel",
            "justify_items": null,
            "grid_row": null,
            "max_height": null,
            "align_content": null,
            "visibility": null,
            "align_self": null,
            "height": null,
            "min_height": null,
            "padding": null,
            "grid_auto_rows": null,
            "grid_gap": null,
            "max_width": null,
            "order": null,
            "_view_module_version": "1.2.0",
            "grid_template_areas": null,
            "object_position": null,
            "object_fit": null,
            "grid_auto_columns": null,
            "margin": null,
            "display": null,
            "left": null
          }
        },
        "0cd51a1a1f4f4424b93024369909d6dc": {
          "model_module": "@jupyter-widgets/controls",
          "model_name": "HBoxModel",
          "state": {
            "_view_name": "HBoxView",
            "_dom_classes": [],
            "_model_name": "HBoxModel",
            "_view_module": "@jupyter-widgets/controls",
            "_model_module_version": "1.5.0",
            "_view_count": null,
            "_view_module_version": "1.5.0",
            "box_style": "",
            "layout": "IPY_MODEL_285c2fdb457c4449a9de0b5d50ec805b",
            "_model_module": "@jupyter-widgets/controls",
            "children": [
              "IPY_MODEL_72c515f904074c13b1cb28a20d2edbce",
              "IPY_MODEL_ce37db6054724060b410c6b27a848a85"
            ]
          }
        },
        "285c2fdb457c4449a9de0b5d50ec805b": {
          "model_module": "@jupyter-widgets/base",
          "model_name": "LayoutModel",
          "state": {
            "_view_name": "LayoutView",
            "grid_template_rows": null,
            "right": null,
            "justify_content": null,
            "_view_module": "@jupyter-widgets/base",
            "overflow": null,
            "_model_module_version": "1.2.0",
            "_view_count": null,
            "flex_flow": null,
            "width": null,
            "min_width": null,
            "border": null,
            "align_items": null,
            "bottom": null,
            "_model_module": "@jupyter-widgets/base",
            "top": null,
            "grid_column": null,
            "overflow_y": null,
            "overflow_x": null,
            "grid_auto_flow": null,
            "grid_area": null,
            "grid_template_columns": null,
            "flex": null,
            "_model_name": "LayoutModel",
            "justify_items": null,
            "grid_row": null,
            "max_height": null,
            "align_content": null,
            "visibility": null,
            "align_self": null,
            "height": null,
            "min_height": null,
            "padding": null,
            "grid_auto_rows": null,
            "grid_gap": null,
            "max_width": null,
            "order": null,
            "_view_module_version": "1.2.0",
            "grid_template_areas": null,
            "object_position": null,
            "object_fit": null,
            "grid_auto_columns": null,
            "margin": null,
            "display": null,
            "left": null
          }
        },
        "72c515f904074c13b1cb28a20d2edbce": {
          "model_module": "@jupyter-widgets/controls",
          "model_name": "FloatProgressModel",
          "state": {
            "_view_name": "ProgressView",
            "style": "IPY_MODEL_969639b181b44bd7b2acf6360c1b4d3e",
            "_dom_classes": [],
            "description": "Downloading: 100%",
            "_model_name": "FloatProgressModel",
            "bar_style": "success",
            "max": 435779157,
            "_view_module": "@jupyter-widgets/controls",
            "_model_module_version": "1.5.0",
            "value": 435779157,
            "_view_count": null,
            "_view_module_version": "1.5.0",
            "orientation": "horizontal",
            "min": 0,
            "description_tooltip": null,
            "_model_module": "@jupyter-widgets/controls",
            "layout": "IPY_MODEL_130994e9553341ecade94c00e7802fbb"
          }
        },
        "ce37db6054724060b410c6b27a848a85": {
          "model_module": "@jupyter-widgets/controls",
          "model_name": "HTMLModel",
          "state": {
            "_view_name": "HTMLView",
            "style": "IPY_MODEL_b9e16711743b49f7a5b32ce79b2b903f",
            "_dom_classes": [],
            "description": "",
            "_model_name": "HTMLModel",
            "placeholder": "​",
            "_view_module": "@jupyter-widgets/controls",
            "_model_module_version": "1.5.0",
            "value": " 436M/436M [00:06&lt;00:00, 70.1MB/s]",
            "_view_count": null,
            "_view_module_version": "1.5.0",
            "description_tooltip": null,
            "_model_module": "@jupyter-widgets/controls",
            "layout": "IPY_MODEL_77c8b32b22364a68bc420cd28d99ed43"
          }
        },
        "969639b181b44bd7b2acf6360c1b4d3e": {
          "model_module": "@jupyter-widgets/controls",
          "model_name": "ProgressStyleModel",
          "state": {
            "_view_name": "StyleView",
            "_model_name": "ProgressStyleModel",
            "description_width": "initial",
            "_view_module": "@jupyter-widgets/base",
            "_model_module_version": "1.5.0",
            "_view_count": null,
            "_view_module_version": "1.2.0",
            "bar_color": null,
            "_model_module": "@jupyter-widgets/controls"
          }
        },
        "130994e9553341ecade94c00e7802fbb": {
          "model_module": "@jupyter-widgets/base",
          "model_name": "LayoutModel",
          "state": {
            "_view_name": "LayoutView",
            "grid_template_rows": null,
            "right": null,
            "justify_content": null,
            "_view_module": "@jupyter-widgets/base",
            "overflow": null,
            "_model_module_version": "1.2.0",
            "_view_count": null,
            "flex_flow": null,
            "width": null,
            "min_width": null,
            "border": null,
            "align_items": null,
            "bottom": null,
            "_model_module": "@jupyter-widgets/base",
            "top": null,
            "grid_column": null,
            "overflow_y": null,
            "overflow_x": null,
            "grid_auto_flow": null,
            "grid_area": null,
            "grid_template_columns": null,
            "flex": null,
            "_model_name": "LayoutModel",
            "justify_items": null,
            "grid_row": null,
            "max_height": null,
            "align_content": null,
            "visibility": null,
            "align_self": null,
            "height": null,
            "min_height": null,
            "padding": null,
            "grid_auto_rows": null,
            "grid_gap": null,
            "max_width": null,
            "order": null,
            "_view_module_version": "1.2.0",
            "grid_template_areas": null,
            "object_position": null,
            "object_fit": null,
            "grid_auto_columns": null,
            "margin": null,
            "display": null,
            "left": null
          }
        },
        "b9e16711743b49f7a5b32ce79b2b903f": {
          "model_module": "@jupyter-widgets/controls",
          "model_name": "DescriptionStyleModel",
          "state": {
            "_view_name": "StyleView",
            "_model_name": "DescriptionStyleModel",
            "description_width": "",
            "_view_module": "@jupyter-widgets/base",
            "_model_module_version": "1.5.0",
            "_view_count": null,
            "_view_module_version": "1.2.0",
            "_model_module": "@jupyter-widgets/controls"
          }
        },
        "77c8b32b22364a68bc420cd28d99ed43": {
          "model_module": "@jupyter-widgets/base",
          "model_name": "LayoutModel",
          "state": {
            "_view_name": "LayoutView",
            "grid_template_rows": null,
            "right": null,
            "justify_content": null,
            "_view_module": "@jupyter-widgets/base",
            "overflow": null,
            "_model_module_version": "1.2.0",
            "_view_count": null,
            "flex_flow": null,
            "width": null,
            "min_width": null,
            "border": null,
            "align_items": null,
            "bottom": null,
            "_model_module": "@jupyter-widgets/base",
            "top": null,
            "grid_column": null,
            "overflow_y": null,
            "overflow_x": null,
            "grid_auto_flow": null,
            "grid_area": null,
            "grid_template_columns": null,
            "flex": null,
            "_model_name": "LayoutModel",
            "justify_items": null,
            "grid_row": null,
            "max_height": null,
            "align_content": null,
            "visibility": null,
            "align_self": null,
            "height": null,
            "min_height": null,
            "padding": null,
            "grid_auto_rows": null,
            "grid_gap": null,
            "max_width": null,
            "order": null,
            "_view_module_version": "1.2.0",
            "grid_template_areas": null,
            "object_position": null,
            "object_fit": null,
            "grid_auto_columns": null,
            "margin": null,
            "display": null,
            "left": null
          }
        }
      }
    }
  },
  "cells": [
    {
      "cell_type": "markdown",
      "metadata": {
        "id": "view-in-github",
        "colab_type": "text"
      },
      "source": [
        "<a href=\"https://colab.research.google.com/github/ronenbendavid/IDC_NLP/blob/master/Asi_Assignment_4_NER_with_BERT.ipynb\" target=\"_parent\"><img src=\"https://colab.research.google.com/assets/colab-badge.svg\" alt=\"Open In Colab\"/></a>"
      ]
    },
    {
      "cell_type": "markdown",
      "metadata": {
        "id": "k-WJBimYDLJS",
        "colab_type": "text"
      },
      "source": [
        "# Assignment 4\n",
        "Training a neural named entity recognition (NER) tagger using BERT."
      ]
    },
    {
      "cell_type": "code",
      "metadata": {
        "id": "3enPCGBF8FlX",
        "colab_type": "code",
        "colab": {
          "base_uri": "https://localhost:8080/",
          "height": 141
        },
        "outputId": "ea65680c-8f6c-4f6b-8266-c2c9ef3a0eb9"
      },
      "source": [
        "import torch\n",
        "import torch.nn as nn\n",
        "\n",
        "device = 'cuda' if torch.cuda.is_available() else 'cpu'\n",
        "print('version: {}, device: {}, device name: {}'.format(torch.__version__, device, torch.cuda.get_device_name(0)))\n",
        "\n",
        "model_path='model_ex4'"
      ],
      "execution_count": 1,
      "outputs": [
        {
          "output_type": "stream",
          "text": [
            "version: 1.6.0+cu101, device: cuda, device name: Tesla T4\n"
          ],
          "name": "stdout"
        },
        {
          "output_type": "stream",
          "text": [
            "/usr/local/lib/python3.6/dist-packages/torch/cuda/__init__.py:125: UserWarning: \n",
            "Tesla T4 with CUDA capability sm_75 is not compatible with the current PyTorch installation.\n",
            "The current PyTorch install supports CUDA capabilities sm_37 sm_50 sm_60 sm_70.\n",
            "If you want to use the Tesla T4 GPU with PyTorch, please check the instructions at https://pytorch.org/get-started/locally/\n",
            "\n",
            "  warnings.warn(incompatible_device_warn.format(device_name, capability, \" \".join(arch_list), device_name))\n"
          ],
          "name": "stderr"
        }
      ]
    },
    {
      "cell_type": "code",
      "metadata": {
        "id": "woBMsSX9o2hH",
        "colab_type": "code",
        "colab": {
          "base_uri": "https://localhost:8080/",
          "height": 621
        },
        "outputId": "981e2a58-c49a-4c64-fad6-83ef35069839"
      },
      "source": [
        "!pip install transformers seqeval"
      ],
      "execution_count": 23,
      "outputs": [
        {
          "output_type": "stream",
          "text": [
            "Requirement already satisfied: transformers in /usr/local/lib/python3.6/dist-packages (3.0.2)\n",
            "Collecting seqeval\n",
            "  Downloading https://files.pythonhosted.org/packages/34/91/068aca8d60ce56dd9ba4506850e876aba5e66a6f2f29aa223224b50df0de/seqeval-0.0.12.tar.gz\n",
            "Requirement already satisfied: filelock in /usr/local/lib/python3.6/dist-packages (from transformers) (3.0.12)\n",
            "Requirement already satisfied: regex!=2019.12.17 in /usr/local/lib/python3.6/dist-packages (from transformers) (2019.12.20)\n",
            "Requirement already satisfied: sentencepiece!=0.1.92 in /usr/local/lib/python3.6/dist-packages (from transformers) (0.1.91)\n",
            "Requirement already satisfied: numpy in /usr/local/lib/python3.6/dist-packages (from transformers) (1.18.5)\n",
            "Requirement already satisfied: dataclasses; python_version < \"3.7\" in /usr/local/lib/python3.6/dist-packages (from transformers) (0.7)\n",
            "Requirement already satisfied: tqdm>=4.27 in /usr/local/lib/python3.6/dist-packages (from transformers) (4.41.1)\n",
            "Requirement already satisfied: tokenizers==0.8.1.rc1 in /usr/local/lib/python3.6/dist-packages (from transformers) (0.8.1rc1)\n",
            "Requirement already satisfied: packaging in /usr/local/lib/python3.6/dist-packages (from transformers) (20.4)\n",
            "Requirement already satisfied: sacremoses in /usr/local/lib/python3.6/dist-packages (from transformers) (0.0.43)\n",
            "Requirement already satisfied: requests in /usr/local/lib/python3.6/dist-packages (from transformers) (2.23.0)\n",
            "Requirement already satisfied: Keras>=2.2.4 in /usr/local/lib/python3.6/dist-packages (from seqeval) (2.3.1)\n",
            "Requirement already satisfied: six in /usr/local/lib/python3.6/dist-packages (from packaging->transformers) (1.15.0)\n",
            "Requirement already satisfied: pyparsing>=2.0.2 in /usr/local/lib/python3.6/dist-packages (from packaging->transformers) (2.4.7)\n",
            "Requirement already satisfied: joblib in /usr/local/lib/python3.6/dist-packages (from sacremoses->transformers) (0.16.0)\n",
            "Requirement already satisfied: click in /usr/local/lib/python3.6/dist-packages (from sacremoses->transformers) (7.1.2)\n",
            "Requirement already satisfied: idna<3,>=2.5 in /usr/local/lib/python3.6/dist-packages (from requests->transformers) (2.10)\n",
            "Requirement already satisfied: chardet<4,>=3.0.2 in /usr/local/lib/python3.6/dist-packages (from requests->transformers) (3.0.4)\n",
            "Requirement already satisfied: certifi>=2017.4.17 in /usr/local/lib/python3.6/dist-packages (from requests->transformers) (2020.6.20)\n",
            "Requirement already satisfied: urllib3!=1.25.0,!=1.25.1,<1.26,>=1.21.1 in /usr/local/lib/python3.6/dist-packages (from requests->transformers) (1.24.3)\n",
            "Requirement already satisfied: pyyaml in /usr/local/lib/python3.6/dist-packages (from Keras>=2.2.4->seqeval) (3.13)\n",
            "Requirement already satisfied: keras-preprocessing>=1.0.5 in /usr/local/lib/python3.6/dist-packages (from Keras>=2.2.4->seqeval) (1.1.2)\n",
            "Requirement already satisfied: keras-applications>=1.0.6 in /usr/local/lib/python3.6/dist-packages (from Keras>=2.2.4->seqeval) (1.0.8)\n",
            "Requirement already satisfied: scipy>=0.14 in /usr/local/lib/python3.6/dist-packages (from Keras>=2.2.4->seqeval) (1.4.1)\n",
            "Requirement already satisfied: h5py in /usr/local/lib/python3.6/dist-packages (from Keras>=2.2.4->seqeval) (2.10.0)\n",
            "Building wheels for collected packages: seqeval\n",
            "  Building wheel for seqeval (setup.py) ... \u001b[?25l\u001b[?25hdone\n",
            "  Created wheel for seqeval: filename=seqeval-0.0.12-cp36-none-any.whl size=7424 sha256=06d7e35419787c07620080eaf7ad3b3de19b4b99f5a727c58555c1e222cfb531\n",
            "  Stored in directory: /root/.cache/pip/wheels/4f/32/0a/df3b340a82583566975377d65e724895b3fad101a3fb729f68\n",
            "Successfully built seqeval\n",
            "Installing collected packages: seqeval\n",
            "Successfully installed seqeval-0.0.12\n"
          ],
          "name": "stdout"
        }
      ]
    },
    {
      "cell_type": "markdown",
      "metadata": {
        "id": "V5QSIEoyDdWh",
        "colab_type": "text"
      },
      "source": [
        "In this assignment you are required to build a full training and testing pipeline for a neural sequentail tagger for named entities, using BERT transformer, similar to assignment 3.\n",
        "\n",
        "The dataset that you will be working on is called ReCoNLL 2003, which is a corrected version of the CoNLL 2003 dataset: https://www.clips.uantwerpen.be/conll2003/ner/\n",
        "\n",
        "[Train data](https://drive.google.com/file/d/1hG66e_OoezzeVKho1w7ysyAx4yp0ShDz/view?usp=sharing)\n",
        "\n",
        "[Dev data](https://drive.google.com/file/d/1EAF-VygYowU1XknZhvzMi2CID65I127L/view?usp=sharing)\n",
        "\n",
        "[Test data](https://drive.google.com/file/d/16gug5wWnf06JdcBXQbcICOZGZypgr4Iu/view?usp=sharing)\n",
        "\n",
        "As you can see, the annotated texts are labeled according to the IOB annotation scheme, for 3 entity types: Person, Organization, Location."
      ]
    },
    {
      "cell_type": "markdown",
      "metadata": {
        "id": "5ul2Y3vuPoV8",
        "colab_type": "text"
      },
      "source": [
        "***(Already done in Assignment 3, so you may copy and paste it here)*** Write a funtion for reading the data from a single file (of the ones that are provided above). The function recieves a filepath and then it encodes every sentence individually using a pair of lists, one list contains the words and one list contains the tags. Each list pair will be added to a general list (data), which will be returned back from the function."
      ]
    },
    {
      "cell_type": "code",
      "metadata": {
        "id": "prgzgtt8Jw4Y",
        "colab_type": "code",
        "colab": {
          "base_uri": "https://localhost:8080/",
          "height": 70
        },
        "outputId": "9386f08f-be4d-4789-b2f6-9c16f1f87e9d"
      },
      "source": [
        "import requests\n",
        "import re\n",
        "\n",
        "tag_values = set()\n",
        "def read_data(filepath):\n",
        "    sentences = []\n",
        "    labels = []\n",
        "\n",
        "    result = re.compile(\".*drive.google.com/file/d/([^/]*)/.*\").match(filepath)\n",
        "    if result:\n",
        "      filepath = 'https://docs.google.com/uc?export=download&id={}'.format(result.group(1))\n",
        "    print(filepath)\n",
        "\n",
        "    response = requests.get(filepath)\n",
        "    words = []\n",
        "    tags = []\n",
        "\n",
        "    for line in response.text.split('\\n'):\n",
        "        if not line:\n",
        "            if len(words) > 0:\n",
        "                sentences.append(words)\n",
        "                labels.append(tags)\n",
        "                tag_values.update(tags)\n",
        "            words = []\n",
        "            tags = []\n",
        "        else:\n",
        "            line = line.strip().split()\n",
        "            words.append(line[0])\n",
        "            tags.append(line[1])\n",
        "\n",
        "    return sentences, labels\n",
        "\n",
        "train_s, train_l = read_data('https://drive.google.com/file/d/1hG66e_OoezzeVKho1w7ysyAx4yp0ShDz/view?usp=sharing')\n",
        "dev_s, dev_l = read_data('https://drive.google.com/file/d/1EAF-VygYowU1XknZhvzMi2CID65I127L/view?usp=sharing')\n",
        "test_s, test_l = read_data('https://drive.google.com/file/d/16gug5wWnf06JdcBXQbcICOZGZypgr4Iu/view?usp=sharing')\n"
      ],
      "execution_count": 3,
      "outputs": [
        {
          "output_type": "stream",
          "text": [
            "https://docs.google.com/uc?export=download&id=1hG66e_OoezzeVKho1w7ysyAx4yp0ShDz\n",
            "https://docs.google.com/uc?export=download&id=1EAF-VygYowU1XknZhvzMi2CID65I127L\n",
            "https://docs.google.com/uc?export=download&id=16gug5wWnf06JdcBXQbcICOZGZypgr4Iu\n"
          ],
          "name": "stdout"
        }
      ]
    },
    {
      "cell_type": "code",
      "metadata": {
        "id": "DfJ0wRr3_n-6",
        "colab_type": "code",
        "colab": {}
      },
      "source": [
        "tag_values = list(tag_values)\n",
        "tag_values.append(\"PAD\")\n",
        "list.sort(tag_values) # sort so we can reuse saved models\n",
        "tag2idx = {t: i for i, t in enumerate(tag_values)}"
      ],
      "execution_count": 4,
      "outputs": []
    },
    {
      "cell_type": "markdown",
      "metadata": {
        "id": "IuGwk6OwRWGS",
        "colab_type": "text"
      },
      "source": [
        "Use Huggingface transformers:\n",
        "https://github.com/huggingface/transformers\n",
        "\n",
        "to process the data and train a BERT model (with a Linear layer on top) for NER.\n",
        "\n",
        "Then, evaluate it on the Dev and Test data and report on results."
      ]
    },
    {
      "cell_type": "code",
      "metadata": {
        "id": "gTNmBU6hycZl",
        "colab_type": "code",
        "colab": {
          "base_uri": "https://localhost:8080/",
          "height": 35
        },
        "outputId": "177eb58e-7456-4919-c101-811bcc1e92de"
      },
      "source": [
        "print(tag2idx)"
      ],
      "execution_count": 5,
      "outputs": [
        {
          "output_type": "stream",
          "text": [
            "{'B-LOC': 0, 'B-ORG': 1, 'B-PER': 2, 'I-LOC': 3, 'I-ORG': 4, 'I-PER': 5, 'O': 6, 'PAD': 7}\n"
          ],
          "name": "stdout"
        }
      ]
    },
    {
      "cell_type": "code",
      "metadata": {
        "id": "ZF8U64d4-0Oj",
        "colab_type": "code",
        "colab": {
          "base_uri": "https://localhost:8080/",
          "height": 515
        },
        "outputId": "a58c6445-aa0d-4863-85ea-d7b3adcde7f1"
      },
      "source": [
        "for token, label in zip(train_s[3], train_l[3]):\n",
        "    print(\"{}\\t{}\".format(label, token))"
      ],
      "execution_count": 6,
      "outputs": [
        {
          "output_type": "stream",
          "text": [
            "B-LOC\tEngland\n",
            "O\twere\n",
            "O\tall\n",
            "O\tout\n",
            "O\tfor\n",
            "O\t326\n",
            "O\tin\n",
            "O\ttheir\n",
            "O\tfirst\n",
            "O\tinnings\n",
            "O\ton\n",
            "O\tthe\n",
            "O\tsecond\n",
            "O\tday\n",
            "O\tof\n",
            "O\tthe\n",
            "O\tthird\n",
            "O\tand\n",
            "O\tfinal\n",
            "O\ttest\n",
            "O\tagainst\n",
            "B-LOC\tPakistan\n",
            "O\tat\n",
            "B-LOC\tThe\n",
            "I-LOC\tOval\n",
            "O\ton\n",
            "O\tFriday\n",
            "O\t.\n"
          ],
          "name": "stdout"
        }
      ]
    },
    {
      "cell_type": "code",
      "metadata": {
        "id": "PHvVAI6U-3DY",
        "colab_type": "code",
        "colab": {
          "base_uri": "https://localhost:8080/",
          "height": 53
        },
        "outputId": "34e23ca7-50fc-4f95-f46c-9f34b921e1c0"
      },
      "source": [
        "import torch\n",
        "from torch.utils.data import TensorDataset, DataLoader, RandomSampler, SequentialSampler\n",
        "from transformers import BertTokenizer, BertConfig\n",
        "\n",
        "from keras.preprocessing.sequence import pad_sequences\n",
        "from torch.nn.utils.rnn import pad_sequence\n",
        "from sklearn.model_selection import train_test_split\n",
        "\n",
        "torch.__version__"
      ],
      "execution_count": 7,
      "outputs": [
        {
          "output_type": "stream",
          "text": [
            "Using TensorFlow backend.\n"
          ],
          "name": "stderr"
        },
        {
          "output_type": "execute_result",
          "data": {
            "application/vnd.google.colaboratory.intrinsic+json": {
              "type": "string"
            },
            "text/plain": [
              "'1.6.0+cu101'"
            ]
          },
          "metadata": {
            "tags": []
          },
          "execution_count": 7
        }
      ]
    },
    {
      "cell_type": "code",
      "metadata": {
        "id": "Xvnx4hPw_DKk",
        "colab_type": "code",
        "colab": {}
      },
      "source": [
        "MAX_LEN = 75\n",
        "bs = 32\n"
      ],
      "execution_count": 8,
      "outputs": []
    },
    {
      "cell_type": "code",
      "metadata": {
        "id": "9Bshqbzq_Q-q",
        "colab_type": "code",
        "colab": {
          "base_uri": "https://localhost:8080/",
          "height": 66,
          "referenced_widgets": [
            "fdbe3750db8744bd85a8eab2f854d4d5",
            "db0b0858c8e14d3ea1aef958b14d4f05",
            "0f843bfe16574454a1cee5eded9c878e",
            "f107b8c4cc624f3a91b1ceeb723367e6",
            "f385a41a52244dd9b683ae53cedea6d4",
            "6fcb4b229984466a9ce2f4463e4d3926",
            "7722664f4c154add8ab954d12fd83cd6",
            "9b31901e95af43099146511bd2e1a819"
          ]
        },
        "outputId": "7054a3cb-4d47-457f-acb9-a6e3cc44efb4"
      },
      "source": [
        "import os\n",
        "if os.path.exists('{}/vocab.txt'.format(model_path)):\n",
        "    tokenizer = BertTokenizer.from_pretrained('bert-base-cased', do_lower_case=False).from_pretrained(model_path)\n",
        "else:\n",
        "    tokenizer = BertTokenizer.from_pretrained('bert-base-cased', do_lower_case=False)    "
      ],
      "execution_count": 9,
      "outputs": [
        {
          "output_type": "display_data",
          "data": {
            "application/vnd.jupyter.widget-view+json": {
              "model_id": "fdbe3750db8744bd85a8eab2f854d4d5",
              "version_minor": 0,
              "version_major": 2
            },
            "text/plain": [
              "HBox(children=(FloatProgress(value=0.0, description='Downloading', max=213450.0, style=ProgressStyle(descripti…"
            ]
          },
          "metadata": {
            "tags": []
          }
        },
        {
          "output_type": "stream",
          "text": [
            "\n"
          ],
          "name": "stdout"
        }
      ]
    },
    {
      "cell_type": "code",
      "metadata": {
        "id": "jJjT_yAL_VRq",
        "colab_type": "code",
        "colab": {}
      },
      "source": [
        "def tokenize_and_preserve_labels(sentence, labels):\n",
        "    tokenized_sentence = []\n",
        "    tokenized_labels = []\n",
        "\n",
        "    for word, label in zip(sentence, labels):\n",
        "\n",
        "        # Tokenize the word and count # of subwords the word is broken into\n",
        "        tokenized_word = tokenizer.tokenize(word)\n",
        "        n_subwords = len(tokenized_word)\n",
        "\n",
        "        # Add the tokenized word to the final tokenized word list\n",
        "        tokenized_sentence.extend(tokenized_word)\n",
        "\n",
        "        # Add the same label to the new list of labels `n_subwords` times\n",
        "        tokenized_labels.extend([label] * n_subwords)\n",
        "\n",
        "    return tokenized_sentence, tokenized_labels"
      ],
      "execution_count": 10,
      "outputs": []
    },
    {
      "cell_type": "code",
      "metadata": {
        "id": "-z01E2RD_Y8x",
        "colab_type": "code",
        "colab": {}
      },
      "source": [
        "tr_tokenized_texts_and_labels = [\n",
        "    tokenize_and_preserve_labels(sent, labs)\n",
        "    for sent, labs in zip(train_s, train_l)\n",
        "]\n",
        "\n",
        "val_tokenized_texts_and_labels = [\n",
        "    tokenize_and_preserve_labels(sent, labs)\n",
        "    for sent, labs in zip(dev_s, dev_l)\n",
        "]\n",
        "\n",
        "test_tokenized_texts_and_labels = [\n",
        "    tokenize_and_preserve_labels(sent, labs)\n",
        "    for sent, labs in zip(test_s, test_l)\n",
        "]"
      ],
      "execution_count": 11,
      "outputs": []
    },
    {
      "cell_type": "code",
      "metadata": {
        "id": "2FMiMh8JSW5q",
        "colab_type": "code",
        "colab": {}
      },
      "source": [
        "tr_tokenized_texts = [token_label_pair[0] for token_label_pair in tr_tokenized_texts_and_labels]\n",
        "tr_labels = [token_label_pair[1] for token_label_pair in tr_tokenized_texts_and_labels]\n",
        "\n",
        "val_tokenized_texts = [token_label_pair[0] for token_label_pair in val_tokenized_texts_and_labels]\n",
        "val_labels = [token_label_pair[1] for token_label_pair in val_tokenized_texts_and_labels]"
      ],
      "execution_count": 12,
      "outputs": []
    },
    {
      "cell_type": "code",
      "metadata": {
        "id": "uIrtXztPSW8n",
        "colab_type": "code",
        "colab": {}
      },
      "source": [
        "tr_inputs = pad_sequences([tokenizer.convert_tokens_to_ids(txt) for txt in tr_tokenized_texts],\n",
        "                          maxlen=MAX_LEN, dtype=\"long\", value=0.0,\n",
        "                          truncating=\"post\", padding=\"post\")\n",
        "\n",
        "val_inputs = pad_sequences([tokenizer.convert_tokens_to_ids(txt) for txt in val_tokenized_texts],\n",
        "                          maxlen=MAX_LEN, dtype=\"long\", value=0.0,\n",
        "                          truncating=\"post\", padding=\"post\")\n"
      ],
      "execution_count": 13,
      "outputs": []
    },
    {
      "cell_type": "code",
      "metadata": {
        "id": "QCOrV_PfSW_W",
        "colab_type": "code",
        "colab": {}
      },
      "source": [
        "tr_tags = pad_sequences([[tag2idx.get(l) for l in lab] for lab in tr_labels],\n",
        "                     maxlen=MAX_LEN, value=tag2idx[\"PAD\"], padding=\"post\",\n",
        "                     dtype=\"long\", truncating=\"post\")\n",
        "\n",
        "val_tags = pad_sequences([[tag2idx.get(l) for l in lab] for lab in val_labels],\n",
        "                     maxlen=MAX_LEN, value=tag2idx[\"PAD\"], padding=\"post\",\n",
        "                     dtype=\"long\", truncating=\"post\")\n"
      ],
      "execution_count": 14,
      "outputs": []
    },
    {
      "cell_type": "code",
      "metadata": {
        "id": "9Q1s_aKsSXB-",
        "colab_type": "code",
        "colab": {}
      },
      "source": [
        "tr_masks = [[float(i != 0.0) for i in ii] for ii in tr_inputs]\n",
        "\n",
        "val_masks = [[float(i != 0.0) for i in ii] for ii in val_inputs]\n"
      ],
      "execution_count": 15,
      "outputs": []
    },
    {
      "cell_type": "code",
      "metadata": {
        "id": "ZJg_bW1-SXEn",
        "colab_type": "code",
        "colab": {}
      },
      "source": [
        "tr_inputs = torch.tensor(tr_inputs)\n",
        "tr_tags = torch.tensor(tr_tags)\n",
        "tr_masks = torch.tensor(tr_masks)\n",
        "\n",
        "val_inputs = torch.tensor(val_inputs)\n",
        "val_tags = torch.tensor(val_tags)\n",
        "val_masks = torch.tensor(val_masks)\n"
      ],
      "execution_count": 16,
      "outputs": []
    },
    {
      "cell_type": "code",
      "metadata": {
        "id": "dBAkh4MgSXHG",
        "colab_type": "code",
        "colab": {}
      },
      "source": [
        "train_data = TensorDataset(tr_inputs, tr_masks, tr_tags)\n",
        "train_sampler = RandomSampler(train_data)\n",
        "train_dataloader = DataLoader(train_data, sampler=train_sampler, batch_size=bs)\n",
        "\n",
        "valid_data = TensorDataset(val_inputs, val_masks, val_tags)\n",
        "valid_sampler = SequentialSampler(valid_data)\n",
        "valid_dataloader = DataLoader(valid_data, sampler=valid_sampler, batch_size=bs)\n"
      ],
      "execution_count": 17,
      "outputs": []
    },
    {
      "cell_type": "code",
      "metadata": {
        "id": "bkpm617SSev2",
        "colab_type": "code",
        "colab": {
          "base_uri": "https://localhost:8080/",
          "height": 35
        },
        "outputId": "11d3dd20-1064-45b4-c8da-357bc7b13c77"
      },
      "source": [
        "import transformers\n",
        "from transformers import BertForTokenClassification, AdamW\n",
        "\n",
        "transformers.__version__\n"
      ],
      "execution_count": 18,
      "outputs": [
        {
          "output_type": "execute_result",
          "data": {
            "application/vnd.google.colaboratory.intrinsic+json": {
              "type": "string"
            },
            "text/plain": [
              "'3.0.2'"
            ]
          },
          "metadata": {
            "tags": []
          },
          "execution_count": 18
        }
      ]
    },
    {
      "cell_type": "code",
      "metadata": {
        "id": "0welZ0zVSeyl",
        "colab_type": "code",
        "colab": {
          "base_uri": "https://localhost:8080/",
          "height": 225,
          "referenced_widgets": [
            "0014e236f958487881a71cf8e81e396c",
            "9e2e7a23be094109adc7425a314ca94e",
            "1b571a7807884bcbb6af0b71f38b4c78",
            "c5d21b8ab3804270a2bd759df81cbfbc",
            "f5b88903cb86449d9adb5c914cef957b",
            "40b4f542efe444608fd812f08b3d035a",
            "100f38c54f4b4dd989ef09459484abda",
            "9129a11152354d34b8f2e19e37045615",
            "0cd51a1a1f4f4424b93024369909d6dc",
            "285c2fdb457c4449a9de0b5d50ec805b",
            "72c515f904074c13b1cb28a20d2edbce",
            "ce37db6054724060b410c6b27a848a85",
            "969639b181b44bd7b2acf6360c1b4d3e",
            "130994e9553341ecade94c00e7802fbb",
            "b9e16711743b49f7a5b32ce79b2b903f",
            "77c8b32b22364a68bc420cd28d99ed43"
          ]
        },
        "outputId": "68d0fc29-53f0-4f6e-8f6c-7e642ac83697"
      },
      "source": [
        "import os\n",
        "\n",
        "if os.path.exists('{}/vocab.txt'.format(model_path)):\n",
        "    model = BertForTokenClassification.from_pretrained(\n",
        "        \"bert-base-cased\",\n",
        "        num_labels=len(tag2idx),\n",
        "        output_attentions = False,\n",
        "        output_hidden_states = False\n",
        "    ).from_pretrained(model_path)\n",
        "    model.cuda()\n",
        "    model.eval()\n",
        "else:\n",
        "    model = BertForTokenClassification.from_pretrained(\n",
        "        \"bert-base-cased\",\n",
        "        num_labels=len(tag2idx),\n",
        "        output_attentions = False,\n",
        "        output_hidden_states = False\n",
        "    )\n",
        "    model.cuda()    "
      ],
      "execution_count": 19,
      "outputs": [
        {
          "output_type": "display_data",
          "data": {
            "application/vnd.jupyter.widget-view+json": {
              "model_id": "0014e236f958487881a71cf8e81e396c",
              "version_minor": 0,
              "version_major": 2
            },
            "text/plain": [
              "HBox(children=(FloatProgress(value=0.0, description='Downloading', max=433.0, style=ProgressStyle(description_…"
            ]
          },
          "metadata": {
            "tags": []
          }
        },
        {
          "output_type": "stream",
          "text": [
            "\n"
          ],
          "name": "stdout"
        },
        {
          "output_type": "display_data",
          "data": {
            "application/vnd.jupyter.widget-view+json": {
              "model_id": "0cd51a1a1f4f4424b93024369909d6dc",
              "version_minor": 0,
              "version_major": 2
            },
            "text/plain": [
              "HBox(children=(FloatProgress(value=0.0, description='Downloading', max=435779157.0, style=ProgressStyle(descri…"
            ]
          },
          "metadata": {
            "tags": []
          }
        },
        {
          "output_type": "stream",
          "text": [
            "\n"
          ],
          "name": "stdout"
        },
        {
          "output_type": "stream",
          "text": [
            "Some weights of the model checkpoint at bert-base-cased were not used when initializing BertForTokenClassification: ['cls.predictions.bias', 'cls.predictions.transform.dense.weight', 'cls.predictions.transform.dense.bias', 'cls.predictions.decoder.weight', 'cls.seq_relationship.weight', 'cls.seq_relationship.bias', 'cls.predictions.transform.LayerNorm.weight', 'cls.predictions.transform.LayerNorm.bias']\n",
            "- This IS expected if you are initializing BertForTokenClassification from the checkpoint of a model trained on another task or with another architecture (e.g. initializing a BertForSequenceClassification model from a BertForPretraining model).\n",
            "- This IS NOT expected if you are initializing BertForTokenClassification from the checkpoint of a model that you expect to be exactly identical (initializing a BertForSequenceClassification model from a BertForSequenceClassification model).\n",
            "Some weights of BertForTokenClassification were not initialized from the model checkpoint at bert-base-cased and are newly initialized: ['classifier.weight', 'classifier.bias']\n",
            "You should probably TRAIN this model on a down-stream task to be able to use it for predictions and inference.\n"
          ],
          "name": "stderr"
        }
      ]
    },
    {
      "cell_type": "code",
      "metadata": {
        "id": "l-H93jS6Se1F",
        "colab_type": "code",
        "colab": {}
      },
      "source": [
        "FULL_FINETUNING = True\n",
        "if FULL_FINETUNING:\n",
        "    param_optimizer = list(model.named_parameters())\n",
        "    no_decay = ['bias', 'gamma', 'beta']\n",
        "    optimizer_grouped_parameters = [\n",
        "        {'params': [p for n, p in param_optimizer if not any(nd in n for nd in no_decay)],\n",
        "         'weight_decay_rate': 0.01},\n",
        "        {'params': [p for n, p in param_optimizer if any(nd in n for nd in no_decay)],\n",
        "         'weight_decay_rate': 0.0}\n",
        "    ]\n",
        "else:\n",
        "    param_optimizer = list(model.classifier.named_parameters())\n",
        "    optimizer_grouped_parameters = [{\"params\": [p for n, p in param_optimizer]}]\n",
        "\n",
        "optimizer = AdamW(\n",
        "    optimizer_grouped_parameters,\n",
        "    lr=3e-5,\n",
        "    eps=1e-8\n",
        ")\n"
      ],
      "execution_count": 20,
      "outputs": []
    },
    {
      "cell_type": "code",
      "metadata": {
        "id": "zRHcdC1WthNP",
        "colab_type": "code",
        "colab": {}
      },
      "source": [
        "from transformers import get_linear_schedule_with_warmup\n",
        "\n",
        "epochs = 10\n",
        "max_grad_norm = 1.0\n",
        "\n",
        "# Total number of training steps is number of batches * number of epochs.\n",
        "total_steps = len(train_dataloader) * epochs\n",
        "\n",
        "# Create the learning rate scheduler.\n",
        "scheduler = get_linear_schedule_with_warmup(\n",
        "    optimizer,\n",
        "    num_warmup_steps=0,\n",
        "    num_training_steps=total_steps\n",
        ")"
      ],
      "execution_count": null,
      "outputs": []
    },
    {
      "cell_type": "code",
      "metadata": {
        "id": "leJal_quSe8N",
        "colab_type": "code",
        "colab": {}
      },
      "source": [
        "import numpy as np\n",
        "from tqdm import tqdm, trange\n",
        "from seqeval.metrics import f1_score, accuracy_score\n",
        "\n",
        "def train():\n",
        "\n",
        "    ## Store the average loss after each epoch so we can plot them.\n",
        "    loss_values, validation_loss_values = [], []\n",
        "\n",
        "    for _ in trange(epochs, desc=\"Epoch\"):\n",
        "        # ========================================\n",
        "        #               Training\n",
        "        # ========================================\n",
        "        # Perform one full pass over the training set.\n",
        "\n",
        "        # Put the model into training mode.\n",
        "        model.train()\n",
        "        # Reset the total loss for this epoch.\n",
        "        total_loss = 0\n",
        "\n",
        "        # Training loop\n",
        "        for step, batch in enumerate(train_dataloader):\n",
        "            # add batch to gpu\n",
        "            batch = tuple(t.to(device) for t in batch)\n",
        "            b_input_ids, b_input_mask, b_labels = batch\n",
        "            # Always clear any previously calculated gradients before performing a backward pass.\n",
        "            model.zero_grad()\n",
        "            # forward pass\n",
        "            # This will return the loss (rather than the model output)\n",
        "            # because we have provided the `labels`.\n",
        "            outputs = model(b_input_ids, token_type_ids=None,\n",
        "                            attention_mask=b_input_mask, labels=b_labels)\n",
        "            # get the loss\n",
        "            loss = outputs[0]\n",
        "            # Perform a backward pass to calculate the gradients.\n",
        "            loss.backward()\n",
        "            # track train loss\n",
        "            total_loss += loss.item()\n",
        "            # Clip the norm of the gradient\n",
        "            # This is to help prevent the \"exploding gradients\" problem.\n",
        "            torch.nn.utils.clip_grad_norm_(parameters=model.parameters(), max_norm=max_grad_norm)\n",
        "            # update parameters\n",
        "            optimizer.step()\n",
        "            # Update the learning rate.\n",
        "            scheduler.step()\n",
        "\n",
        "        # Calculate the average loss over the training data.\n",
        "        avg_train_loss = total_loss / len(train_dataloader)\n",
        "        print(\"Average train loss: {}\".format(avg_train_loss))\n",
        "\n",
        "        # Store the loss value for plotting the learning curve.\n",
        "        loss_values.append(avg_train_loss)\n",
        "\n",
        "\n",
        "        # ========================================\n",
        "        #               Validation\n",
        "        # ========================================\n",
        "        # After the completion of each training epoch, measure our performance on\n",
        "        # our validation set.\n",
        "\n",
        "        # Put the model into evaluation mode\n",
        "        model.eval()\n",
        "        # Reset the validation loss for this epoch.\n",
        "        eval_loss, eval_accuracy = 0, 0\n",
        "        nb_eval_steps, nb_eval_examples = 0, 0\n",
        "        predictions , true_labels = [], []\n",
        "        for batch in valid_dataloader:\n",
        "            batch = tuple(t.to(device) for t in batch)\n",
        "            b_input_ids, b_input_mask, b_labels = batch\n",
        "\n",
        "            # Telling the model not to compute or store gradients,\n",
        "            # saving memory and speeding up validation\n",
        "            with torch.no_grad():\n",
        "                # Forward pass, calculate logit predictions.\n",
        "                # This will return the logits rather than the loss because we have not provided labels.\n",
        "                outputs = model(b_input_ids, token_type_ids=None,\n",
        "                                attention_mask=b_input_mask, labels=b_labels)\n",
        "            # Move logits and labels to CPU\n",
        "            logits = outputs[1].detach().cpu().numpy()\n",
        "            label_ids = b_labels.to('cpu').numpy()\n",
        "\n",
        "            # Calculate the accuracy for this batch of test sentences.\n",
        "            eval_loss += outputs[0].mean().item()\n",
        "            predictions.extend([list(p) for p in np.argmax(logits, axis=2)])\n",
        "            true_labels.extend(label_ids)\n",
        "\n",
        "        eval_loss = eval_loss / len(valid_dataloader)\n",
        "        validation_loss_values.append(eval_loss)\n",
        "        print(\"Validation loss: {}\".format(eval_loss))\n",
        "        pred_tags = [tag_values[p_i] for p, l in zip(predictions, true_labels)\n",
        "                                     for p_i, l_i in zip(p, l) if tag_values[l_i] != \"PAD\"]\n",
        "        valid_tags = [tag_values[l_i] for l in true_labels\n",
        "                                      for l_i in l if tag_values[l_i] != \"PAD\"]\n",
        "        print(\"Validation Accuracy: {}\".format(accuracy_score(pred_tags, valid_tags) if valid_tags else \"Unknown\"))\n",
        "        print(\"Validation F1-Score: {}\".format(f1_score(pred_tags, valid_tags) if valid_tags else \"Unknown\"))\n",
        "        print()\n",
        "        \n",
        "    return loss_values, validation_loss_values\n"
      ],
      "execution_count": 37,
      "outputs": []
    },
    {
      "cell_type": "code",
      "metadata": {
        "id": "Loi0WV0rSe-u",
        "colab_type": "code",
        "colab": {}
      },
      "source": [
        "import seaborn as sns\n",
        "import matplotlib.pyplot as plt\n",
        "%matplotlib inline\n",
        "\n",
        "def evaluate(loss_values, validation_loss_values):\n",
        "    # Use plot styling from seaborn.\n",
        "    sns.set(style='darkgrid')\n",
        "\n",
        "    # Increase the plot size and font size.\n",
        "    sns.set(font_scale=1.5)\n",
        "    plt.rcParams[\"figure.figsize\"] = (12,6)\n",
        "\n",
        "    # Plot the learning curve.\n",
        "    plt.plot(loss_values, 'b-o', label=\"training loss\")\n",
        "    plt.plot(validation_loss_values, 'r-o', label=\"validation loss\")\n",
        "\n",
        "    # Label the plot.\n",
        "    plt.title(\"Learning curve\")\n",
        "    plt.xlabel(\"Epoch\")\n",
        "    plt.ylabel(\"Loss\")\n",
        "    plt.legend()\n",
        "\n",
        "    plt.show()\n"
      ],
      "execution_count": 38,
      "outputs": []
    },
    {
      "cell_type": "code",
      "metadata": {
        "id": "kJh3Le55SnJ9",
        "colab_type": "code",
        "colab": {
          "base_uri": "https://localhost:8080/",
          "height": 1000
        },
        "outputId": "fce8e7dc-d43e-46d6-9290-3fd16aefb288"
      },
      "source": [
        "import os\n",
        "\n",
        "\n",
        "## Store the average loss after each epoch so we can plot them.\n",
        "loss_values, validation_loss_values = [], []\n",
        "\n",
        "if not os.path.exists('{}/vocab.txt'.format(model_path)):\n",
        "    loss_values, validation_loss_values = train()\n",
        "    evaluate(loss_values, validation_loss_values)\n",
        "    model.save_pretrained(model_path)  # save\n",
        "    tokenizer.save_pretrained(model_path)  # save\n"
      ],
      "execution_count": 40,
      "outputs": [
        {
          "output_type": "stream",
          "text": [
            "\rEpoch:   0%|          | 0/15 [00:00<?, ?it/s]"
          ],
          "name": "stderr"
        },
        {
          "output_type": "stream",
          "text": [
            "Average train loss: 0.00917347815438089\n"
          ],
          "name": "stdout"
        },
        {
          "output_type": "stream",
          "text": [
            "\rEpoch:   7%|▋         | 1/15 [00:22<05:20, 22.89s/it]"
          ],
          "name": "stderr"
        },
        {
          "output_type": "stream",
          "text": [
            "Validation loss: 0.10482017090544105\n",
            "Validation Accuracy: 0.9769274057400112\n",
            "Validation F1-Score: 0.9132947976878613\n",
            "\n",
            "Average train loss: 0.012894714594056661\n"
          ],
          "name": "stdout"
        },
        {
          "output_type": "stream",
          "text": [
            "\rEpoch:  13%|█▎        | 2/15 [00:46<04:59, 23.03s/it]"
          ],
          "name": "stderr"
        },
        {
          "output_type": "stream",
          "text": [
            "Validation loss: 0.10984380729496479\n",
            "Validation Accuracy: 0.9763646595385481\n",
            "Validation F1-Score: 0.9162702188392007\n",
            "\n",
            "Average train loss: 0.009535771949132058\n"
          ],
          "name": "stdout"
        },
        {
          "output_type": "stream",
          "text": [
            "\rEpoch:  20%|██        | 3/15 [01:09<04:38, 23.23s/it]"
          ],
          "name": "stderr"
        },
        {
          "output_type": "stream",
          "text": [
            "Validation loss: 0.13782358495518565\n",
            "Validation Accuracy: 0.9743012567998499\n",
            "Validation F1-Score: 0.9077069457659372\n",
            "\n",
            "Average train loss: 0.006640693183395673\n"
          ],
          "name": "stdout"
        },
        {
          "output_type": "stream",
          "text": [
            "\rEpoch:  27%|██▋       | 4/15 [01:34<04:18, 23.48s/it]"
          ],
          "name": "stderr"
        },
        {
          "output_type": "stream",
          "text": [
            "Validation loss: 0.10042905015870929\n",
            "Validation Accuracy: 0.9793659726130182\n",
            "Validation F1-Score: 0.9244741873804971\n",
            "\n",
            "Average train loss: 0.0050863203730180185\n"
          ],
          "name": "stdout"
        },
        {
          "output_type": "stream",
          "text": [
            "\rEpoch:  33%|███▎      | 5/15 [01:58<03:57, 23.77s/it]"
          ],
          "name": "stderr"
        },
        {
          "output_type": "stream",
          "text": [
            "Validation loss: 0.13274852884933352\n",
            "Validation Accuracy: 0.9767398236728568\n",
            "Validation F1-Score: 0.9171852561033986\n",
            "\n",
            "Average train loss: 0.004068769956938922\n"
          ],
          "name": "stdout"
        },
        {
          "output_type": "stream",
          "text": [
            "\rEpoch:  40%|████      | 6/15 [02:23<03:36, 24.04s/it]"
          ],
          "name": "stderr"
        },
        {
          "output_type": "stream",
          "text": [
            "Validation loss: 0.14080450125038624\n",
            "Validation Accuracy: 0.9776777340086288\n",
            "Validation F1-Score: 0.9258555133079849\n",
            "\n",
            "Average train loss: 0.0036251623067073526\n"
          ],
          "name": "stdout"
        },
        {
          "output_type": "stream",
          "text": [
            "\rEpoch:  47%|████▋     | 7/15 [02:47<03:13, 24.24s/it]"
          ],
          "name": "stderr"
        },
        {
          "output_type": "stream",
          "text": [
            "Validation loss: 0.11981900595128536\n",
            "Validation Accuracy: 0.9804914650159445\n",
            "Validation F1-Score: 0.9298329355608592\n",
            "\n",
            "Average train loss: 0.0030492729385679755\n"
          ],
          "name": "stdout"
        },
        {
          "output_type": "stream",
          "text": [
            "\rEpoch:  53%|█████▎    | 8/15 [03:12<02:50, 24.34s/it]"
          ],
          "name": "stderr"
        },
        {
          "output_type": "stream",
          "text": [
            "Validation loss: 0.11401298828423023\n",
            "Validation Accuracy: 0.9810542112174077\n",
            "Validation F1-Score: 0.9301435406698565\n",
            "\n",
            "Average train loss: 0.00171558431413194\n"
          ],
          "name": "stdout"
        },
        {
          "output_type": "stream",
          "text": [
            "\rEpoch:  60%|██████    | 9/15 [03:36<02:26, 24.39s/it]"
          ],
          "name": "stderr"
        },
        {
          "output_type": "stream",
          "text": [
            "Validation loss: 0.12332085706293583\n",
            "Validation Accuracy: 0.978803226411555\n",
            "Validation F1-Score: 0.9255725190839694\n",
            "\n",
            "Average train loss: 0.0013277659679509022\n"
          ],
          "name": "stdout"
        },
        {
          "output_type": "stream",
          "text": [
            "\rEpoch:  67%|██████▋   | 10/15 [04:01<02:02, 24.44s/it]"
          ],
          "name": "stderr"
        },
        {
          "output_type": "stream",
          "text": [
            "Validation loss: 0.11739218141883612\n",
            "Validation Accuracy: 0.9810542112174077\n",
            "Validation F1-Score: 0.9312320916905444\n",
            "\n",
            "Average train loss: 0.0006823728948471729\n"
          ],
          "name": "stdout"
        },
        {
          "output_type": "stream",
          "text": [
            "\rEpoch:  73%|███████▎  | 11/15 [04:26<01:37, 24.47s/it]"
          ],
          "name": "stderr"
        },
        {
          "output_type": "stream",
          "text": [
            "Validation loss: 0.11431875848211348\n",
            "Validation Accuracy: 0.9823672856874883\n",
            "Validation F1-Score: 0.935823754789272\n",
            "\n",
            "Average train loss: 0.0016747613344870677\n"
          ],
          "name": "stdout"
        },
        {
          "output_type": "stream",
          "text": [
            "\rEpoch:  80%|████████  | 12/15 [04:50<01:13, 24.49s/it]"
          ],
          "name": "stderr"
        },
        {
          "output_type": "stream",
          "text": [
            "Validation loss: 0.11402547359466553\n",
            "Validation Accuracy: 0.9823672856874883\n",
            "Validation F1-Score: 0.93621103117506\n",
            "\n",
            "Average train loss: 0.0007746786400358277\n"
          ],
          "name": "stdout"
        },
        {
          "output_type": "stream",
          "text": [
            "\rEpoch:  87%|████████▋ | 13/15 [05:15<00:49, 24.52s/it]"
          ],
          "name": "stderr"
        },
        {
          "output_type": "stream",
          "text": [
            "Validation loss: 0.10834612371399999\n",
            "Validation Accuracy: 0.9819921215531795\n",
            "Validation F1-Score: 0.932503590234562\n",
            "\n",
            "Average train loss: 0.000762257383427244\n"
          ],
          "name": "stdout"
        },
        {
          "output_type": "stream",
          "text": [
            "\rEpoch:  93%|█████████▎| 14/15 [05:39<00:24, 24.54s/it]"
          ],
          "name": "stderr"
        },
        {
          "output_type": "stream",
          "text": [
            "Validation loss: 0.11107898713089526\n",
            "Validation Accuracy: 0.9819921215531795\n",
            "Validation F1-Score: 0.9342925659472421\n",
            "\n",
            "Average train loss: 0.0006093498470198193\n"
          ],
          "name": "stdout"
        },
        {
          "output_type": "stream",
          "text": [
            "Epoch: 100%|██████████| 15/15 [06:04<00:00, 24.29s/it]"
          ],
          "name": "stderr"
        },
        {
          "output_type": "stream",
          "text": [
            "Validation loss: 0.11123637459240854\n",
            "Validation Accuracy: 0.9819921215531795\n",
            "Validation F1-Score: 0.9342925659472421\n",
            "\n"
          ],
          "name": "stdout"
        },
        {
          "output_type": "stream",
          "text": [
            "\n"
          ],
          "name": "stderr"
        },
        {
          "output_type": "display_data",
          "data": {
            "image/png": "[encoded data removed]",
            "text/plain": [
              "<Figure size 864x432 with 1 Axes>"
            ]
          },
          "metadata": {
            "tags": []
          }
        }
      ]
    },
    {
      "cell_type": "code",
      "metadata": {
        "id": "YTiFcCJxSnMs",
        "colab_type": "code",
        "colab": {}
      },
      "source": [
        "import numpy as np\n",
        "\n",
        "def analyze_sentence(sentence):\n",
        "    tokenized_sentence = tokenizer.encode(sentence)\n",
        "    input_ids = torch.tensor([tokenized_sentence]).cuda()\n",
        "    \n",
        "    with torch.no_grad():\n",
        "        output = model(input_ids)\n",
        "    label_indices = np.argmax(output[0].to('cpu').numpy(), axis=2)\n",
        "\n",
        "    # join bpe split tokens\n",
        "    tokens = tokenizer.convert_ids_to_tokens(input_ids.to('cpu').numpy()[0])\n",
        "    new_tokens, new_labels = [], []\n",
        "    for token, label_idx in zip(tokens, label_indices[0]):\n",
        "        if token.startswith(\"##\"):\n",
        "            new_tokens[-1] = new_tokens[-1] + token[2:]\n",
        "        else:\n",
        "            new_labels.append(tag_values[label_idx])\n",
        "            new_tokens.append(token)\n",
        "\n",
        "    return new_tokens, new_labels"
      ],
      "execution_count": 29,
      "outputs": []
    },
    {
      "cell_type": "code",
      "metadata": {
        "id": "mjAXLVK-SnPU",
        "colab_type": "code",
        "colab": {}
      },
      "source": [
        "def align_sentence_labels(sentence, labels):\n",
        "    tokenized_sentence = []\n",
        "    tokenized_labels = []\n",
        "\n",
        "    for word, label in zip(sentence, labels):\n",
        "\n",
        "        # Tokenize the word and count # of subwords the word is broken into\n",
        "        tokenized_word = tokenizer.tokenize(word)\n",
        "        n_subwords = len(tokenized_word)\n",
        "\n",
        "        # Add the tokenized word to the final tokenized word list\n",
        "        tokenized_sentence.extend(tokenized_word)\n",
        "\n",
        "        # Add the same label to the new list of labels `n_subwords` times\n",
        "        tokenized_labels.extend([label] * n_subwords)\n",
        "\n",
        "        new_tokens, new_labels = [], []\n",
        "        for token, label in zip(tokenized_sentence, tokenized_labels):\n",
        "            if token.startswith(\"##\"):\n",
        "                new_tokens[-1] = new_tokens[-1] + token[2:]\n",
        "            else:\n",
        "                new_labels.append(label)\n",
        "                new_tokens.append(token)\n",
        "\n",
        "    return new_tokens, new_labels"
      ],
      "execution_count": 30,
      "outputs": []
    },
    {
      "cell_type": "code",
      "metadata": {
        "id": "h6RtPgGUStf4",
        "colab_type": "code",
        "colab": {}
      },
      "source": [
        "# test_sentence = \"\"\"\n",
        "# Mr. Trump’s tweets began just moments after a Fox News report by Mike Tobin, a \n",
        "# reporter for the network, about protests in Minnesota and elsewhere. \n",
        "# \"\"\"\n",
        "\n",
        "test_sentence = \"\"\"\n",
        "This is Assaf Sinvani notebook. \n",
        "it's part of the preparation for the NLP course in the IDC, Herzelia Interdisciplinary Center\n",
        "\"\"\"\n",
        "\n",
        "# test_sentence = \"\"\"\n",
        "# So, I would like to fly out sometime tonight and fly back in the evening in 4 days.\n",
        "# From I’m looking to go to Denver. I’m flying out of San Francisco.\n",
        "# \"\"\"\n",
        "\n",
        "# test_sentence = \"\"\"\n",
        "# I would like to book a room in the Park Hyatt Aviara Resort and it costs $279 per night.\n",
        "# It’s rated 4.8 stars. It offers an 18-hole golf course, an outdoor pool & tennis courts plus a spa & fine dining.\n",
        "# \"\"\""
      ],
      "execution_count": 41,
      "outputs": []
    },
    {
      "cell_type": "code",
      "metadata": {
        "id": "DRXyRyhJStir",
        "colab_type": "code",
        "colab": {
          "base_uri": "https://localhost:8080/",
          "height": 479
        },
        "outputId": "d17a3b75-3293-4f15-9f65-18ce9092086e"
      },
      "source": [
        "new_tokens, new_labels = analyze_sentence(test_sentence)\n",
        "for token, label in zip(new_tokens, new_labels):\n",
        "    print(\"{}\\t{}\".format(label, token))"
      ],
      "execution_count": 42,
      "outputs": [
        {
          "output_type": "stream",
          "text": [
            "O\t[CLS]\n",
            "O\tThis\n",
            "O\tis\n",
            "B-PER\tAssaf\n",
            "I-PER\tSinvani\n",
            "O\tnotebook\n",
            "O\t.\n",
            "O\tit\n",
            "O\t'\n",
            "O\ts\n",
            "O\tpart\n",
            "O\tof\n",
            "O\tthe\n",
            "O\tpreparation\n",
            "O\tfor\n",
            "O\tthe\n",
            "B-ORG\tNLP\n",
            "O\tcourse\n",
            "O\tin\n",
            "O\tthe\n",
            "B-LOC\tIDC\n",
            "O\t,\n",
            "B-LOC\tHerzelia\n",
            "I-ORG\tInterdisciplinary\n",
            "I-ORG\tCenter\n",
            "O\t[SEP]\n"
          ],
          "name": "stdout"
        }
      ]
    },
    {
      "cell_type": "code",
      "metadata": {
        "id": "RkDS2TiqStls",
        "colab_type": "code",
        "colab": {}
      },
      "source": [
        "import numpy as np\n",
        "import pandas as pd\n",
        "from sklearn.metrics import classification_report\n",
        "\n",
        "def evaluate_dataset(model, sentences, labels):\n",
        "    y_true = np.array([])\n",
        "    y_pred = np.array([])\n",
        "\n",
        "    # build array for true labels and predicted labels\n",
        "    for (sentence, labels) in zip(sentences, labels):\n",
        "        _, pred_labels = analyze_sentence(sentence)\n",
        "\n",
        "        y_true = np.append(y_true, [tag2idx[l] for l in labels])\n",
        "        y_pred = np.append(y_pred, [tag2idx[l] for l in pred_labels[1:-1]])\n",
        "        \n",
        "\n",
        "    # use sklearn to calculate precision and recall for every label\n",
        "    report = classification_report(y_true, y_pred, labels=list(tag2idx.values()), target_names=list(tag2idx.keys()), digits=4, output_dict=True, zero_division=False)\n",
        "    precision = [report[label]['precision'] for label in tag2idx.keys()]\n",
        "    recall = [report[label]['recall'] for label in tag2idx.keys()]\n",
        "\n",
        "    # use sklearn to calculate precision and recall for all labels except O\n",
        "    report = classification_report(y_true != tag2idx['O'], y_pred != tag2idx['O'], target_names=['O', 'OTHER'], digits=4, output_dict=True)\n",
        "    precision.append(report['OTHER']['precision'])\n",
        "    recall.append(report['OTHER']['recall'])\n",
        "\n",
        "    return precision, recall\n",
        "\n",
        "\n",
        "def evaluate_model(model):\n",
        "    precision_dev, recall_dev = evaluate_dataset(model, dev_s, dev_l)\n",
        "    precision_test, recall_test = evaluate_dataset(model, test_s, test_l)\n",
        "\n",
        "    rows = ['precision dev', 'precision test', 'recall dev', 'recall test']\n",
        "    columns = list(tag2idx.keys())\n",
        "    columns.append('Not O')\n",
        "\n",
        "    df = pd.DataFrame(np.array([precision_dev, precision_test, recall_dev, recall_test]), index=rows, columns=columns)\n",
        "    print(df)\n",
        "\n",
        "  "
      ],
      "execution_count": 43,
      "outputs": []
    },
    {
      "cell_type": "code",
      "metadata": {
        "id": "_HPVIwKqStqT",
        "colab_type": "code",
        "colab": {
          "base_uri": "https://localhost:8080/",
          "height": 106
        },
        "outputId": "0de38880-2c26-45c7-aa1e-ccbe342d716f"
      },
      "source": [
        "pd.options.display.max_columns = None\n",
        "pd.options.display.width = 1000\n",
        "\n",
        "evaluate_model(model)"
      ],
      "execution_count": 44,
      "outputs": [
        {
          "output_type": "stream",
          "text": [
            "                   B-LOC     B-ORG     B-PER     I-LOC     I-ORG     I-PER         O  PAD     Not O\n",
            "precision dev   0.848649  0.813725  0.772277  0.928571  0.948052  0.900826  0.939543  0.0  0.928673\n",
            "precision test  0.811111  0.882653  0.823370  0.911111  0.891473  0.917051  0.934902  0.0  0.931559\n",
            "recall dev      0.857923  0.494048  0.780000  0.565217  0.629310  0.694268  0.983850  0.0  0.768595\n",
            "recall test     0.851312  0.494286  0.698157  0.773585  0.575000  0.672297  0.986295  0.0  0.730907\n"
          ],
          "name": "stdout"
        }
      ]
    },
    {
      "cell_type": "markdown",
      "metadata": {
        "id": "Y1KNyvQsvDma",
        "colab_type": "text"
      },
      "source": [
        "10 Epochs\n",
        "```\n",
        "B-LOC     B-ORG     B-PER     I-LOC     I-ORG     I-PER         O  PAD     Not O\n",
        "precision dev   0.747664  0.849057  0.776119  1.000000  0.948052  0.911111  0.947187  0.0  0.912517\n",
        "precision test  0.713942  0.810811  0.815013  0.967742  0.892308  0.900862  0.940488  0.0  0.903846\n",
        "recall dev      0.874317  0.535714  0.780000  0.434783  0.629310  0.783439  0.979005  0.0  0.800472\n",
        "recall test     0.865889  0.514286  0.700461  0.566038  0.580000  0.706081  0.979443  0.0  0.757160\n",
        "```\n",
        "\n"
      ]
    },
    {
      "cell_type": "markdown",
      "metadata": {
        "id": "z8nl9wPWvcKi",
        "colab_type": "text"
      },
      "source": [
        "25 Epochs\n",
        "```\n",
        "                   B-LOC     B-ORG     B-PER     I-LOC     I-ORG     I-PER         O  PAD     Not O\n",
        "precision dev   0.848649  0.813725  0.772277  0.928571  0.948052  0.900826  0.939543  0.0  0.928673\n",
        "precision test  0.811111  0.882653  0.823370  0.911111  0.891473  0.917051  0.934902  0.0  0.931559\n",
        "recall dev      0.857923  0.494048  0.780000  0.565217  0.629310  0.694268  0.983850  0.0  0.768595\n",
        "recall test     0.851312  0.494286  0.698157  0.773585  0.575000  0.672297  0.986295  0.0  0.730907\n",
        "```\n"
      ]
    },
    {
      "cell_type": "markdown",
      "metadata": {
        "id": "jxaESRoco6bV",
        "colab_type": "text"
      },
      "source": [
        "**Good luck!**"
      ]
    }
  ]
}