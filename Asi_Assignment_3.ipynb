{
  "nbformat": 4,
  "nbformat_minor": 0,
  "metadata": {
    "colab": {
      "name": "Asi Assignment 3 ",
      "provenance": [],
      "collapsed_sections": [],
      "include_colab_link": true
    },
    "kernelspec": {
      "name": "python3",
      "display_name": "Python 3"
    },
    "accelerator": "GPU"
  },
  "cells": [
    {
      "cell_type": "markdown",
      "metadata": {
        "id": "view-in-github",
        "colab_type": "text"
      },
      "source": [
        "<a href=\"https://colab.research.google.com/github/ronenbendavid/IDC_NLP/blob/master/Asi_Assignment_3.ipynb\" target=\"_parent\"><img src=\"https://colab.research.google.com/assets/colab-badge.svg\" alt=\"Open In Colab\"/></a>"
      ]
    },
    {
      "cell_type": "markdown",
      "metadata": {
        "id": "k-WJBimYDLJS",
        "colab_type": "text"
      },
      "source": [
        "# Assignment 3\n",
        "Training a neural named entity recognition (NER) tagger "
      ]
    },
    {
      "cell_type": "code",
      "metadata": {
        "id": "3enPCGBF8FlX",
        "colab_type": "code",
        "colab": {
          "base_uri": "https://localhost:8080/",
          "height": 35
        },
        "outputId": "e7cc55b3-fcf1-437f-867b-f05a697b68f9"
      },
      "source": [
        "import torch\n",
        "import torch.nn as nn\n",
        "\n",
        "device = 'cuda' if torch.cuda.is_available() else 'cpu'\n",
        "print('version: {}, device: {}'.format(torch.__version__, device))"
      ],
      "execution_count": 48,
      "outputs": [
        {
          "output_type": "stream",
          "text": [
            "version: 1.5.1+cu101, device: cuda\n"
          ],
          "name": "stdout"
        }
      ]
    },
    {
      "cell_type": "markdown",
      "metadata": {
        "id": "V5QSIEoyDdWh",
        "colab_type": "text"
      },
      "source": [
        "In this assignment you are required to build a full training and testing pipeline for a neural sequentail tagger for named entities, using LSTM.\n",
        "\n",
        "The dataset that you will be working on is called ReCoNLL 2003, which is a corrected version of the CoNLL 2003 dataset: https://www.clips.uantwerpen.be/conll2003/ner/\n",
        "\n",
        "[Train data](https://drive.google.com/file/d/1hG66e_OoezzeVKho1w7ysyAx4yp0ShDz/view?usp=sharing)\n",
        "\n",
        "[Dev data](https://drive.google.com/file/d/1EAF-VygYowU1XknZhvzMi2CID65I127L/view?usp=sharing)\n",
        "\n",
        "[Test data](https://drive.google.com/file/d/16gug5wWnf06JdcBXQbcICOZGZypgr4Iu/view?usp=sharing)\n",
        "\n",
        "As you can see, the annotated texts are labeled according to the IOB annotation scheme, for 3 entity types: Person, Organization, Location."
      ]
    },
    {
      "cell_type": "markdown",
      "metadata": {
        "id": "5ul2Y3vuPoV8",
        "colab_type": "text"
      },
      "source": [
        "**Task 1:** Write a funtion for reading the data from a single file (of the ones that are provided above). The function recieves a filepath and then it encodes every sentence individually using a pair of lists, one list contains the words and one list contains the tags. Each list pair will be added to a general list (data), which will be returned back from the function."
      ]
    },
    {
      "cell_type": "code",
      "metadata": {
        "id": "prgzgtt8Jw4Y",
        "colab_type": "code",
        "colab": {
          "base_uri": "https://localhost:8080/",
          "height": 70
        },
        "outputId": "07246ef3-7617-41bd-c145-7b352ee5e12f"
      },
      "source": [
        "import requests\n",
        "import re\n",
        "\n",
        "def read_data(filepath):\n",
        "    data = []\n",
        "\n",
        "    result = re.compile(\".*drive.google.com/file/d/([^/]*)/.*\").match(filepath)\n",
        "    if result:\n",
        "      filepath = 'https://docs.google.com/uc?export=download&id={}'.format(result.group(1))\n",
        "    print(filepath)\n",
        "\n",
        "    response = requests.get(filepath)\n",
        "    words = []\n",
        "    tags = []\n",
        "\n",
        "    for line in response.text.split('\\n'):\n",
        "        if not line:\n",
        "            if len(words) > 0:\n",
        "                data.append((words, tags))\n",
        "            words = []\n",
        "            tags = []\n",
        "        else:\n",
        "            line = line.strip().split()\n",
        "            words.append(line[0].lower())\n",
        "            tags.append(line[1])\n",
        "\n",
        "    return data\n",
        "\n",
        "train = read_data('https://drive.google.com/file/d/1hG66e_OoezzeVKho1w7ysyAx4yp0ShDz/view?usp=sharing')\n",
        "dev = read_data('https://drive.google.com/file/d/1EAF-VygYowU1XknZhvzMi2CID65I127L/view?usp=sharing')\n",
        "test = read_data('https://drive.google.com/file/d/16gug5wWnf06JdcBXQbcICOZGZypgr4Iu/view?usp=sharing')\n"
      ],
      "execution_count": 49,
      "outputs": [
        {
          "output_type": "stream",
          "text": [
            "https://docs.google.com/uc?export=download&id=1hG66e_OoezzeVKho1w7ysyAx4yp0ShDz\n",
            "https://docs.google.com/uc?export=download&id=1EAF-VygYowU1XknZhvzMi2CID65I127L\n",
            "https://docs.google.com/uc?export=download&id=16gug5wWnf06JdcBXQbcICOZGZypgr4Iu\n"
          ],
          "name": "stdout"
        }
      ]
    },
    {
      "cell_type": "markdown",
      "metadata": {
        "id": "IuGwk6OwRWGS",
        "colab_type": "text"
      },
      "source": [
        "The following Vocab class can be served as a dictionary that maps words and tags into Ids. The UNK_TOKEN should be used for words that are not part of the training data."
      ]
    },
    {
      "cell_type": "code",
      "metadata": {
        "id": "6rKIB5o_vQO8",
        "colab_type": "code",
        "colab": {}
      },
      "source": [
        "UNK_TOKEN = 0\n",
        "\n",
        "class Vocab:\n",
        "    def __init__(self):\n",
        "        self.word2id = {\"__unk__\": UNK_TOKEN}\n",
        "        self.id2word = {UNK_TOKEN: \"__unk__\"}\n",
        "        self.n_words = 1\n",
        "        \n",
        "        self.tag2id = {\"O\":0, \"B-PER\":1, \"I-PER\": 2, \"B-LOC\": 3, \"I-LOC\": 4, \"B-ORG\": 5, \"I-ORG\": 6}\n",
        "        self.id2tag = {0:\"O\", 1:\"B-PER\", 2:\"I-PER\", 3:\"B-LOC\", 4:\"I-LOC\", 5:\"B-ORG\", 6:\"I-ORG\"}\n",
        "        \n",
        "    def index_words(self, words):\n",
        "      word_indexes = [self.index_word(w) for w in words]\n",
        "      return word_indexes\n",
        "\n",
        "    def index_tags(self, tags):\n",
        "      tag_indexes = [self.tag2id[t] for t in tags]\n",
        "      return tag_indexes\n",
        "    \n",
        "    def index_word(self, w):\n",
        "        if w not in self.word2id:\n",
        "            self.word2id[w] = self.n_words\n",
        "            self.id2word[self.n_words] = w\n",
        "            self.n_words += 1\n",
        "        return self.word2id[w]\n",
        "            "
      ],
      "execution_count": 50,
      "outputs": []
    },
    {
      "cell_type": "markdown",
      "metadata": {
        "id": "iDKYryfKfNdh",
        "colab_type": "text"
      },
      "source": [
        "**Task 2:** Write a function prepare_data that takes one of the [train, dev, test] and the Vocab instance, for converting each pair of (words,tags) to a pair of indexes. Each pair should be added to data_sequences, which will be returned back from the function."
      ]
    },
    {
      "cell_type": "code",
      "metadata": {
        "id": "noIY3zWKvhBd",
        "colab_type": "code",
        "colab": {}
      },
      "source": [
        "vocab = Vocab()\n",
        "\n",
        "def prepare_data(data, vocab):\n",
        "    data_sequences = []\n",
        "    for words, tags in data:\n",
        "      iwords = vocab.index_words(words)\n",
        "      itags = vocab.index_tags(tags)\n",
        "      data_sequences.append((iwords, itags))\n",
        "\n",
        "    return data_sequences, vocab\n",
        "\n",
        "train_sequences, vocab = prepare_data(train, vocab)\n",
        "dev_sequences, vocab = prepare_data(dev, vocab)\n",
        "test_sequences, vocab = prepare_data(test, vocab)"
      ],
      "execution_count": 51,
      "outputs": []
    },
    {
      "cell_type": "markdown",
      "metadata": {
        "id": "UccfiRRtiEet",
        "colab_type": "text"
      },
      "source": [
        "**Task 3:** Write NERNet, a PyTorch Module for labeling words with NER tags. \n",
        "\n",
        "*input_size:* the size of the vocabulary\n",
        "\n",
        "*embedding_size:* the size of the embeddings\n",
        "\n",
        "*hidden_size:* the LSTM hidden size\n",
        "\n",
        "*output_size:* the number tags we are predicting for\n",
        "\n",
        "*n_layers:* the number of layers we want to use in LSTM\n",
        "\n",
        "*directions:* could 1 or 2, indicating unidirectional or bidirectional LSTM, respectively\n",
        "\n",
        "The input for your forward function should be a single sentence tensor."
      ]
    },
    {
      "cell_type": "code",
      "metadata": {
        "id": "Ke1LyUQNyQaM",
        "colab_type": "code",
        "colab": {}
      },
      "source": [
        "class NERNet(nn.Module):\n",
        "    def __init__(self, input_size, hidden_size, output_size, n_layers, bidirectional, embedding_dim=None, embedding=None):\n",
        "        super(NERNet, self).__init__()\n",
        "\n",
        "        in_features = hidden_size\n",
        "        if bidirectional:\n",
        "            in_features = hidden_size * 2\n",
        "\n",
        "        if embedding:\n",
        "            self.embedding = embedding\n",
        "        else:\n",
        "            self.embedding = nn.Embedding(num_embeddings=input_size, embedding_dim=embedding_dim)\n",
        "\n",
        "        self.lstm = nn.LSTM(input_size=self.embedding.embedding_dim, hidden_size=hidden_size, num_layers=n_layers, bidirectional=bidirectional, batch_first=True)\n",
        "        self.out = nn.Linear(in_features=in_features, out_features=output_size)\n",
        "\n",
        "    def forward(self, input_sentence):\n",
        "        embedded = self.embedding(input_sentence)\n",
        "        output, _ = self.lstm(embedded)\n",
        "\n",
        "        # shape for the linear layer (batch*seq, num_tags)\n",
        "        output = output.view(-1, output.shape[2])\n",
        "        return self.out(output)"
      ],
      "execution_count": 52,
      "outputs": []
    },
    {
      "cell_type": "markdown",
      "metadata": {
        "id": "dEGSQdeUkTP8",
        "colab_type": "text"
      },
      "source": [
        "**Task 4:** write a training loop, which takes a model (instance of NERNet) and number of epochs to train on. The loss is always CrossEntropyLoss and the optimizer is always Adam."
      ]
    },
    {
      "cell_type": "code",
      "metadata": {
        "id": "avkHfjT3k0HM",
        "colab_type": "code",
        "colab": {}
      },
      "source": [
        "import torch.optim as optim\n",
        "\n",
        "def train_loop(model, n_epochs):\n",
        "    # Loss function\n",
        "    criterion = nn.CrossEntropyLoss()\n",
        "\n",
        "    # Optimizer (ADAM is a fancy version of SGD)\n",
        "    optimizer = optim.Adam(model.parameters(), lr=0.0001)\n",
        "\n",
        "    print_every = 10000\n",
        "    for e in range(1, n_epochs + 1):\n",
        "\n",
        "        e_loss = 0\n",
        "        loss = 0\n",
        "        for counter, (sequence, labels) in enumerate(train_sequences):\n",
        "\n",
        "            sequence_tensor = torch.LongTensor(sequence).to(device).view(1, -1)\n",
        "            labels_tensor = torch.LongTensor(labels).to(device)\n",
        "\n",
        "            # compute model output and loss\n",
        "            output_batch = model(sequence_tensor)\n",
        "            sentence_loss = criterion(output_batch, labels_tensor)\n",
        "\n",
        "            optimizer.zero_grad()\n",
        "            sentence_loss.backward()\n",
        "\n",
        "            # updating weights\n",
        "            optimizer.step()\n",
        "\n",
        "            # averaging total loss\n",
        "            sentence_loss = sentence_loss.item() / len(sequence)\n",
        "            loss += sentence_loss\n",
        "            e_loss += sentence_loss\n",
        "\n",
        "            if counter > 0 and counter % print_every == 0:\n",
        "                loss = loss / print_every\n",
        "                print('Epoch %d/%d, %d/%d, Current Loss = %.4f' % (e, n_epochs, counter, len(train_sequences), loss))\n",
        "                loss = 0\n",
        "\n",
        "        e_loss = e_loss / len(train_sequences)\n",
        "        print('Epoch %d/%d, Current Loss = %.4f' % (e, n_epochs, e_loss))\n",
        "\n"
      ],
      "execution_count": 53,
      "outputs": []
    },
    {
      "cell_type": "markdown",
      "metadata": {
        "id": "baN1c_B7lTjb",
        "colab_type": "text"
      },
      "source": [
        "**Task 5:** write an evaluation loop on a trained model, using the dev and test datasets. This function print the true positive rate (TPR), also known as Recall and the opposite to false positive rate (FPR), also known as precision, of each label seperately (7 labels in total), and for all the 6 labels (except O) together. The caption argument for the function should be served for printing, so that when you print include it as a prefix."
      ]
    },
    {
      "cell_type": "code",
      "metadata": {
        "id": "iyQAjGaqmd8U",
        "colab_type": "code",
        "colab": {}
      },
      "source": [
        "import numpy as np\n",
        "\n",
        "def evaluate_dataset(model, dataset):\n",
        "    tp = 0\n",
        "    fp = 0\n",
        "    fn = 0\n",
        "    tn = 0\n",
        "    total = 0\n",
        "    for counter, (sequence, labels) in enumerate(dataset):\n",
        "        sequence_tensor = torch.LongTensor(sequence).to(device).view(1, -1)\n",
        "        output_labels = model(sequence_tensor)\n",
        "\n",
        "        labels = np.array(labels)\n",
        "        pred_labels = torch.argmax(output_labels, dim=1).detach().cpu().numpy()\n",
        "\n",
        "        tp += np.sum([labels[i[0]] == pred_labels[i[0]] for i in np.argwhere(pred_labels > 0)])\n",
        "        tn += np.sum([labels[i[0]] == pred_labels[i[0]] for i in np.argwhere(pred_labels == 0)])\n",
        "\n",
        "        fp += np.sum([labels[i[0]] != pred_labels[i[0]] for i in np.argwhere(pred_labels > 0)])\n",
        "        fn += np.sum([labels[i[0]] != pred_labels[i[0]] for i in np.argwhere(pred_labels == 0)])\n",
        "\n",
        "        total += len(pred_labels)\n",
        "\n",
        "    # Precision = True Positive / (True Positive + False Positive)\n",
        "    precision = tp / (tp + fp)\n",
        "\n",
        "    # Recall = True Positive / (True Positive + False Negative)\n",
        "    recall = tp / (tp + fn)\n",
        "\n",
        "    # Accuracy = (True Positive + True Nagative) / Total\n",
        "    accuracy = (tp + tn) / total\n",
        "\n",
        "    print(\"tp: {}, tn: {}, fp: {}, fn: {}, precision: {}, recall: {}, accuracy: {}\".format(tp, tn, fp, fn, precision, recall, accuracy))\n",
        "\n",
        "    return recall, precision\n",
        "\n",
        "\n",
        "def evaluate(model, caption):\n",
        "  dev_recall, dev_precision = evaluate_dataset(model, dev_sequences)\n",
        "  test_recall, test_precision = evaluate_dataset(model, test_sequences)\n",
        "\n",
        "  # TODO - your code goes here\n",
        "  print(\"{} - dev precision: {}, dev recall: {}, test precision: {}, test recall: {}\".format(caption, dev_precision, dev_recall, test_precision, test_recall))\n"
      ],
      "execution_count": 54,
      "outputs": []
    },
    {
      "cell_type": "markdown",
      "metadata": {
        "id": "LQSXqWNOmqG4",
        "colab_type": "text"
      },
      "source": [
        "**Task 6:** Train and evaluate a few models, all with embedding_size=300, and with the following hyper parameters (you may use that as captions for the models as well):\n",
        "\n",
        "Model 1: (hidden_size: 500, n_layers: 1, directions: 1)\n",
        "\n",
        "Model 2: (hidden_size: 500, n_layers: 2, directions: 1)\n",
        "\n",
        "Model 3: (hidden_size: 500, n_layers: 3, directions: 1)\n",
        "\n",
        "Model 4: (hidden_size: 500, n_layers: 1, directions: 2)\n",
        "\n",
        "Model 5: (hidden_size: 500, n_layers: 2, directions: 2)\n",
        "\n",
        "Model 6: (hidden_size: 500, n_layers: 3, directions: 2)\n",
        "\n",
        "Model 4: (hidden_size: 800, n_layers: 1, directions: 2)\n",
        "\n",
        "Model 5: (hidden_size: 800, n_layers: 2, directions: 2)\n",
        "\n",
        "Model 6: (hidden_size: 800, n_layers: 3, directions: 2)"
      ]
    },
    {
      "cell_type": "code",
      "metadata": {
        "id": "sOde1spntb5D",
        "colab_type": "code",
        "colab": {}
      },
      "source": [
        "def train_and_evaluate(hidden_size, n_layers, bidirectional, embedding=None, embedding_dim=300, n_epochs=10):\n",
        "    model = NERNet(vocab.n_words, hidden_size, len(vocab.tag2id), n_layers, bidirectional, embedding=embedding, embedding_dim=embedding_dim).to(device)\n",
        "    train_loop(model, n_epochs)\n",
        "\n",
        "    caption = \"hidden_size: {}, n_layers: {}, bidirectional: {}\".format(hidden_size, n_layers, bidirectional)\n",
        "    evaluate(model, caption)\n"
      ],
      "execution_count": 55,
      "outputs": []
    },
    {
      "cell_type": "code",
      "metadata": {
        "id": "gTNmBU6hycZl",
        "colab_type": "code",
        "colab": {
          "base_uri": "https://localhost:8080/",
          "height": 710
        },
        "outputId": "fabf1f02-9d9e-4e24-ba99-311ef3e4c215"
      },
      "source": [
        "# train_and_evaluate(500, 1, False, n_epochs=10)\n",
        "# train_and_evaluate(500, 2, False, n_epochs=10)\n",
        "train_and_evaluate(500, 3, False, n_epochs=10)\n",
        "# train_and_evaluate(500, 1, True, n_epochs=10)\n",
        "# train_and_evaluate(500, 2, True, n_epochs=10)\n",
        "train_and_evaluate(500, 3, True, n_epochs=10)\n",
        "# train_and_evaluate(800, 1, True, n_epochs=10)\n",
        "# train_and_evaluate(800, 2, True, n_epochs=10)\n",
        "train_and_evaluate(800, 3, True, n_epochs=10)"
      ],
      "execution_count": 56,
      "outputs": [
        {
          "output_type": "stream",
          "text": [
            "Epoch 1/10, Current Loss = 0.1221\n",
            "Epoch 2/10, Current Loss = 0.0635\n",
            "Epoch 3/10, Current Loss = 0.0317\n",
            "Epoch 4/10, Current Loss = 0.0147\n",
            "Epoch 5/10, Current Loss = 0.0076\n",
            "Epoch 6/10, Current Loss = 0.0034\n",
            "Epoch 7/10, Current Loss = 0.0024\n",
            "Epoch 8/10, Current Loss = 0.0022\n",
            "Epoch 9/10, Current Loss = 0.0014\n",
            "Epoch 10/10, Current Loss = 0.0011\n",
            "tp: 539.0, tn: 2996.0, fp: 186.0, fn: 222.0, fpr: 0.743448275862069, tpr: 0.7082785808147175, acr: 0.896525488206949\n",
            "tp: 1061.0, tn: 6349.0, fp: 387.0, fn: 446.0, fpr: 0.7327348066298343, tpr: 0.7040477770404777, acr: 0.8989445590197743\n",
            "hidden_size: 500, n_layers: 3, bidirectional: False - dev tpr: 0.7082785808147175, dev fpr: 0.743448275862069, test tpr: 0.7040477770404777, test fpr: 0.7327348066298343\n",
            "Epoch 1/10, Current Loss = 0.0928\n",
            "Epoch 2/10, Current Loss = 0.0316\n",
            "Epoch 3/10, Current Loss = 0.0109\n",
            "Epoch 4/10, Current Loss = 0.0037\n",
            "Epoch 5/10, Current Loss = 0.0020\n",
            "Epoch 6/10, Current Loss = 0.0013\n",
            "Epoch 7/10, Current Loss = 0.0009\n",
            "Epoch 8/10, Current Loss = 0.0012\n",
            "Epoch 9/10, Current Loss = 0.0008\n",
            "Epoch 10/10, Current Loss = 0.0010\n",
            "tp: 529.0, tn: 3061.0, fp: 119.0, fn: 234.0, fpr: 0.816358024691358, tpr: 0.6933158584534731, acr: 0.9104742581790515\n",
            "tp: 1115.0, tn: 6445.0, fp: 239.0, fn: 444.0, fpr: 0.8234859675036927, tpr: 0.7152020525978191, acr: 0.9171418172995268\n",
            "hidden_size: 500, n_layers: 3, bidirectional: True - dev tpr: 0.6933158584534731, dev fpr: 0.816358024691358, test tpr: 0.7152020525978191, test fpr: 0.8234859675036927\n",
            "Epoch 1/10, Current Loss = 0.0880\n",
            "Epoch 2/10, Current Loss = 0.0289\n",
            "Epoch 3/10, Current Loss = 0.0086\n",
            "Epoch 4/10, Current Loss = 0.0044\n",
            "Epoch 5/10, Current Loss = 0.0024\n",
            "Epoch 6/10, Current Loss = 0.0017\n",
            "Epoch 7/10, Current Loss = 0.0014\n",
            "Epoch 8/10, Current Loss = 0.0014\n",
            "Epoch 9/10, Current Loss = 0.0024\n",
            "Epoch 10/10, Current Loss = 0.0002\n",
            "tp: 582.0, tn: 3027.0, fp: 140.0, fn: 194.0, fpr: 0.8060941828254847, tpr: 0.75, acr: 0.9152929241694141\n",
            "tp: 1177.0, tn: 6384.0, fp: 346.0, fn: 336.0, fpr: 0.7728168089297439, tpr: 0.7779246530072703, acr: 0.9172631323547252\n",
            "hidden_size: 800, n_layers: 3, bidirectional: True - dev tpr: 0.75, dev fpr: 0.8060941828254847, test tpr: 0.7779246530072703, test fpr: 0.7728168089297439\n"
          ],
          "name": "stdout"
        }
      ]
    },
    {
      "cell_type": "markdown",
      "metadata": {
        "id": "UM74r0_8nk5s",
        "colab_type": "text"
      },
      "source": [
        "**Task 6:** Download the GloVe embeddings from https://nlp.stanford.edu/projects/glove/ (use the 300-dim vectors from glove.6B.zip). Then intialize the nn.Embedding module in your NERNet with these embeddings, so that you can start your training with pre-trained vectors. Repeat Task 6 and print the results for each model.\n",
        "\n",
        "Note: make sure that vectors are aligned with the IDs in your Vocab, in other words, make sure that for example the word with ID 0 is the first vector in the GloVe matrix of vectors that you initialize nn.Embedding with. For a dicussion on how to do that, check it this link:\n",
        "https://discuss.pytorch.org/t/can-we-use-pre-trained-word-embeddings-for-weight-initialization-in-nn-embedding/1222"
      ]
    },
    {
      "cell_type": "code",
      "metadata": {
        "id": "KDJe_adtLSca",
        "colab_type": "code",
        "colab": {
          "base_uri": "https://localhost:8080/",
          "height": 35
        },
        "outputId": "4e21bbaf-fda3-4b3d-ec51-c3c3d4afa9e0"
      },
      "source": [
        "from google.colab import drive\n",
        "drive.mount('/content/drive')"
      ],
      "execution_count": 57,
      "outputs": [
        {
          "output_type": "stream",
          "text": [
            "Drive already mounted at /content/drive; to attempt to forcibly remount, call drive.mount(\"/content/drive\", force_remount=True).\n"
          ],
          "name": "stdout"
        }
      ]
    },
    {
      "cell_type": "code",
      "metadata": {
        "id": "xdrw_2ySLfW9",
        "colab_type": "code",
        "colab": {
          "base_uri": "https://localhost:8080/",
          "height": 35
        },
        "outputId": "97c7e7ec-cba7-43d1-955e-08f4d4c3c1be"
      },
      "source": [
        "import numpy as np\n",
        "\n",
        "glove_path = '/content/drive/My Drive/datasets/glove'\n",
        "\n",
        "words_found = 0\n",
        "weights_matrix = np.full(vocab.n_words, None)\n",
        "with open(f'{glove_path}/glove.6B.300d.txt', 'rb') as f:\n",
        "    for l in f:\n",
        "        line = l.decode().split()\n",
        "        word = line[0]\n",
        "\n",
        "        idx = vocab.word2id.get(word, None)\n",
        "        if idx is None:\n",
        "            continue\n",
        "\n",
        "        weights_matrix[idx] = np.array(line[1:]).astype(np.float)\n",
        "        words_found += 1\n",
        "\n",
        "for i in range(vocab.n_words):\n",
        "    if weights_matrix[i] is None:\n",
        "        weights_matrix[i] = np.random.normal(scale=0.6, size=(300,))\n",
        "\n",
        "weights_matrix = np.stack(weights_matrix, axis=0)\n",
        "\n",
        "print('words_found: {} out of: {}'.format(words_found, vocab.n_words))\n"
      ],
      "execution_count": 58,
      "outputs": [
        {
          "output_type": "stream",
          "text": [
            "words_found: 7648 out of: 8263\n"
          ],
          "name": "stdout"
        }
      ]
    },
    {
      "cell_type": "code",
      "metadata": {
        "id": "In5I3SNPf25a",
        "colab_type": "code",
        "colab": {
          "base_uri": "https://localhost:8080/",
          "height": 35
        },
        "outputId": "bd228d13-7dfb-4290-ea63-31daab108183"
      },
      "source": [
        "num_embeddings, embedding_dim = weights_matrix.shape\n",
        "embedding = nn.Embedding(num_embeddings, embedding_dim)\n",
        "embedding.weight.data.copy_(torch.from_numpy(weights_matrix))\n",
        "\n",
        "print(embedding)"
      ],
      "execution_count": 59,
      "outputs": [
        {
          "output_type": "stream",
          "text": [
            "Embedding(8263, 300)\n"
          ],
          "name": "stdout"
        }
      ]
    },
    {
      "cell_type": "code",
      "metadata": {
        "id": "JRiMbvx9o5Rh",
        "colab_type": "code",
        "colab": {
          "base_uri": "https://localhost:8080/",
          "height": 408
        },
        "outputId": "32e1541b-cfa2-4ea8-f7a1-947a435136f7"
      },
      "source": [
        "# train_and_evaluate(500, 1, False, n_epochs=10, embedding=embedding)\n",
        "# train_and_evaluate(500, 2, False, n_epochs=10, embedding=embedding)\n",
        "train_and_evaluate(500, 3, False, n_epochs=10, embedding=embedding)\n",
        "# train_and_evaluate(500, 1, True, n_epochs=10, embedding=embedding)\n",
        "# train_and_evaluate(500, 2, True, n_epochs=10, embedding=embedding)\n",
        "train_and_evaluate(500, 3, True, n_epochs=10, embedding=embedding)\n",
        "# train_and_evaluate(800, 1, True, n_epochs=10, embedding=embedding)\n",
        "# train_and_evaluate(800, 2, True, n_epochs=10, embedding=embedding)\n",
        "train_and_evaluate(800, 3, True, n_epochs=10, embedding=embedding)"
      ],
      "execution_count": null,
      "outputs": [
        {
          "output_type": "stream",
          "text": [
            "Epoch 1/10, Current Loss = 0.0975\n",
            "Epoch 2/10, Current Loss = 0.0308\n",
            "Epoch 3/10, Current Loss = 0.0133\n",
            "Epoch 4/10, Current Loss = 0.0076\n",
            "Epoch 5/10, Current Loss = 0.0046\n",
            "Epoch 6/10, Current Loss = 0.0031\n",
            "Epoch 7/10, Current Loss = 0.0020\n",
            "Epoch 8/10, Current Loss = 0.0016\n",
            "Epoch 9/10, Current Loss = 0.0017\n",
            "Epoch 10/10, Current Loss = 0.0016\n",
            "tp: 623.0, tn: 3069.0, fp: 97.0, fn: 154.0, fpr: 0.8652777777777778, tpr: 0.8018018018018018, acr: 0.9363428861273142\n",
            "tp: 1217.0, tn: 6484.0, fp: 218.0, fn: 324.0, fpr: 0.8480836236933798, tpr: 0.7897469175859831, acr: 0.9342472400824943\n",
            "hidden_size: 500, n_layers: 3, bidirectional: False - dev tpr: 0.8018018018018018, dev fpr: 0.8652777777777778, test tpr: 0.7897469175859831, test fpr: 0.8480836236933798\n",
            "Epoch 1/10, Current Loss = 0.0571\n",
            "Epoch 2/10, Current Loss = 0.0115\n",
            "Epoch 3/10, Current Loss = 0.0034\n",
            "Epoch 4/10, Current Loss = 0.0014\n",
            "Epoch 5/10, Current Loss = 0.0009\n",
            "Epoch 6/10, Current Loss = 0.0007\n",
            "Epoch 7/10, Current Loss = 0.0006\n",
            "Epoch 8/10, Current Loss = 0.0003\n",
            "Epoch 9/10, Current Loss = 0.0002\n"
          ],
          "name": "stdout"
        }
      ]
    },
    {
      "cell_type": "markdown",
      "metadata": {
        "id": "jxaESRoco6bV",
        "colab_type": "text"
      },
      "source": [
        "**Good luck!**"
      ]
    }
  ]
}