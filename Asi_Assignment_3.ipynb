{
  "nbformat": 4,
  "nbformat_minor": 0,
  "metadata": {
    "colab": {
      "name": "Asi Assignment 3 ",
      "provenance": [],
      "collapsed_sections": [],
      "include_colab_link": true
    },
    "kernelspec": {
      "name": "python3",
      "display_name": "Python 3"
    },
    "accelerator": "GPU"
  },
  "cells": [
    {
      "cell_type": "markdown",
      "metadata": {
        "id": "view-in-github",
        "colab_type": "text"
      },
      "source": [
        "<a href=\"https://colab.research.google.com/github/ronenbendavid/IDC_NLP/blob/master/Asi_Assignment_3.ipynb\" target=\"_parent\"><img src=\"https://colab.research.google.com/assets/colab-badge.svg\" alt=\"Open In Colab\"/></a>"
      ]
    },
    {
      "cell_type": "markdown",
      "metadata": {
        "id": "k-WJBimYDLJS",
        "colab_type": "text"
      },
      "source": [
        "# Assignment 3\n",
        "Training a neural named entity recognition (NER) tagger "
      ]
    },
    {
      "cell_type": "code",
      "metadata": {
        "id": "3enPCGBF8FlX",
        "colab_type": "code",
        "colab": {
          "base_uri": "https://localhost:8080/",
          "height": 35
        },
        "outputId": "f0fbd845-c17d-4072-d990-ac49eaddaf61"
      },
      "source": [
        "import torch\n",
        "import torch.nn as nn\n",
        "\n",
        "device = 'cuda' if torch.cuda.is_available() else 'cpu'\n",
        "print('version: {}, device: {}'.format(torch.__version__, device))"
      ],
      "execution_count": 1,
      "outputs": [
        {
          "output_type": "stream",
          "text": [
            "version: 1.5.1+cu101, device: cuda\n"
          ],
          "name": "stdout"
        }
      ]
    },
    {
      "cell_type": "markdown",
      "metadata": {
        "id": "V5QSIEoyDdWh",
        "colab_type": "text"
      },
      "source": [
        "In this assignment you are required to build a full training and testing pipeline for a neural sequentail tagger for named entities, using LSTM.\n",
        "\n",
        "The dataset that you will be working on is called ReCoNLL 2003, which is a corrected version of the CoNLL 2003 dataset: https://www.clips.uantwerpen.be/conll2003/ner/\n",
        "\n",
        "[Train data](https://drive.google.com/file/d/1hG66e_OoezzeVKho1w7ysyAx4yp0ShDz/view?usp=sharing)\n",
        "\n",
        "[Dev data](https://drive.google.com/file/d/1EAF-VygYowU1XknZhvzMi2CID65I127L/view?usp=sharing)\n",
        "\n",
        "[Test data](https://drive.google.com/file/d/16gug5wWnf06JdcBXQbcICOZGZypgr4Iu/view?usp=sharing)\n",
        "\n",
        "As you can see, the annotated texts are labeled according to the IOB annotation scheme, for 3 entity types: Person, Organization, Location."
      ]
    },
    {
      "cell_type": "markdown",
      "metadata": {
        "id": "5ul2Y3vuPoV8",
        "colab_type": "text"
      },
      "source": [
        "**Task 1:** Write a funtion for reading the data from a single file (of the ones that are provided above). The function recieves a filepath and then it encodes every sentence individually using a pair of lists, one list contains the words and one list contains the tags. Each list pair will be added to a general list (data), which will be returned back from the function."
      ]
    },
    {
      "cell_type": "code",
      "metadata": {
        "id": "prgzgtt8Jw4Y",
        "colab_type": "code",
        "colab": {
          "base_uri": "https://localhost:8080/",
          "height": 70
        },
        "outputId": "adb2e637-53d5-41f3-e287-c65be531d6e1"
      },
      "source": [
        "import requests\n",
        "import re\n",
        "\n",
        "def read_data(filepath):\n",
        "    data = []\n",
        "\n",
        "    result = re.compile(\".*drive.google.com/file/d/([^/]*)/.*\").match(filepath)\n",
        "    if result:\n",
        "      filepath = 'https://docs.google.com/uc?export=download&id={}'.format(result.group(1))\n",
        "    print(filepath)\n",
        "\n",
        "    response = requests.get(filepath)\n",
        "    words = []\n",
        "    tags = []\n",
        "\n",
        "    for line in response.text.split('\\n'):\n",
        "        if not line:\n",
        "            if len(words) > 0:\n",
        "                data.append((words, tags))\n",
        "            words = []\n",
        "            tags = []\n",
        "        else:\n",
        "            line = line.strip().split()\n",
        "            words.append(line[0].lower())\n",
        "            tags.append(line[1])\n",
        "\n",
        "    return data\n",
        "\n",
        "train = read_data('https://drive.google.com/file/d/1hG66e_OoezzeVKho1w7ysyAx4yp0ShDz/view?usp=sharing')\n",
        "dev = read_data('https://drive.google.com/file/d/1EAF-VygYowU1XknZhvzMi2CID65I127L/view?usp=sharing')\n",
        "test = read_data('https://drive.google.com/file/d/16gug5wWnf06JdcBXQbcICOZGZypgr4Iu/view?usp=sharing')\n"
      ],
      "execution_count": 2,
      "outputs": [
        {
          "output_type": "stream",
          "text": [
            "https://docs.google.com/uc?export=download&id=1hG66e_OoezzeVKho1w7ysyAx4yp0ShDz\n",
            "https://docs.google.com/uc?export=download&id=1EAF-VygYowU1XknZhvzMi2CID65I127L\n",
            "https://docs.google.com/uc?export=download&id=16gug5wWnf06JdcBXQbcICOZGZypgr4Iu\n"
          ],
          "name": "stdout"
        }
      ]
    },
    {
      "cell_type": "markdown",
      "metadata": {
        "id": "IuGwk6OwRWGS",
        "colab_type": "text"
      },
      "source": [
        "The following Vocab class can be served as a dictionary that maps words and tags into Ids. The UNK_TOKEN should be used for words that are not part of the training data."
      ]
    },
    {
      "cell_type": "code",
      "metadata": {
        "id": "6rKIB5o_vQO8",
        "colab_type": "code",
        "colab": {}
      },
      "source": [
        "UNK_TOKEN = 0\n",
        "\n",
        "class Vocab:\n",
        "    def __init__(self):\n",
        "        self.word2id = {\"__unk__\": UNK_TOKEN}\n",
        "        self.id2word = {UNK_TOKEN: \"__unk__\"}\n",
        "        self.n_words = 1\n",
        "        \n",
        "        self.tag2id = {\"O\":0, \"B-PER\":1, \"I-PER\": 2, \"B-LOC\": 3, \"I-LOC\": 4, \"B-ORG\": 5, \"I-ORG\": 6}\n",
        "        self.id2tag = {0:\"O\", 1:\"B-PER\", 2:\"I-PER\", 3:\"B-LOC\", 4:\"I-LOC\", 5:\"B-ORG\", 6:\"I-ORG\"}\n",
        "        \n",
        "    def index_words(self, words):\n",
        "      word_indexes = [self.index_word(w) for w in words]\n",
        "      return word_indexes\n",
        "\n",
        "    def index_tags(self, tags):\n",
        "      tag_indexes = [self.tag2id[t] for t in tags]\n",
        "      return tag_indexes\n",
        "    \n",
        "    def index_word(self, w):\n",
        "        if w not in self.word2id:\n",
        "            self.word2id[w] = self.n_words\n",
        "            self.id2word[self.n_words] = w\n",
        "            self.n_words += 1\n",
        "        return self.word2id[w]\n",
        "            "
      ],
      "execution_count": 3,
      "outputs": []
    },
    {
      "cell_type": "markdown",
      "metadata": {
        "id": "iDKYryfKfNdh",
        "colab_type": "text"
      },
      "source": [
        "**Task 2:** Write a function prepare_data that takes one of the [train, dev, test] and the Vocab instance, for converting each pair of (words,tags) to a pair of indexes. Each pair should be added to data_sequences, which will be returned back from the function."
      ]
    },
    {
      "cell_type": "code",
      "metadata": {
        "id": "noIY3zWKvhBd",
        "colab_type": "code",
        "colab": {}
      },
      "source": [
        "vocab = Vocab()\n",
        "\n",
        "def prepare_data(data, vocab):\n",
        "    data_sequences = []\n",
        "    for words, tags in data:\n",
        "      iwords = vocab.index_words(words)\n",
        "      itags = vocab.index_tags(tags)\n",
        "      data_sequences.append((iwords, itags))\n",
        "\n",
        "    return data_sequences, vocab\n",
        "\n",
        "train_sequences, vocab = prepare_data(train, vocab)\n",
        "dev_sequences, vocab = prepare_data(dev, vocab)\n",
        "test_sequences, vocab = prepare_data(test, vocab)"
      ],
      "execution_count": 4,
      "outputs": []
    },
    {
      "cell_type": "markdown",
      "metadata": {
        "id": "UccfiRRtiEet",
        "colab_type": "text"
      },
      "source": [
        "**Task 3:** Write NERNet, a PyTorch Module for labeling words with NER tags. \n",
        "\n",
        "*input_size:* the size of the vocabulary\n",
        "\n",
        "*embedding_size:* the size of the embeddings\n",
        "\n",
        "*hidden_size:* the LSTM hidden size\n",
        "\n",
        "*output_size:* the number tags we are predicting for\n",
        "\n",
        "*n_layers:* the number of layers we want to use in LSTM\n",
        "\n",
        "*directions:* could 1 or 2, indicating unidirectional or bidirectional LSTM, respectively\n",
        "\n",
        "The input for your forward function should be a single sentence tensor."
      ]
    },
    {
      "cell_type": "code",
      "metadata": {
        "id": "Ke1LyUQNyQaM",
        "colab_type": "code",
        "colab": {}
      },
      "source": [
        "class NERNet(nn.Module):\n",
        "    def __init__(self, input_size, hidden_size, output_size, n_layers, bidirectional, embedding_dim=None, embedding=None):\n",
        "        super(NERNet, self).__init__()\n",
        "\n",
        "        in_features = hidden_size\n",
        "        if bidirectional:\n",
        "            in_features = hidden_size * 2\n",
        "\n",
        "        if embedding:\n",
        "            self.embedding = embedding\n",
        "        else:\n",
        "            self.embedding = nn.Embedding(num_embeddings=input_size, embedding_dim=embedding_dim)\n",
        "\n",
        "        self.lstm = nn.LSTM(input_size=self.embedding.embedding_dim, hidden_size=hidden_size, num_layers=n_layers, bidirectional=bidirectional, batch_first=True)\n",
        "        self.out = nn.Linear(in_features=in_features, out_features=output_size)\n",
        "\n",
        "    def forward(self, input_sentence):\n",
        "        embedded = self.embedding(input_sentence)\n",
        "        output, _ = self.lstm(embedded)\n",
        "\n",
        "        # shape for the linear layer (batch*seq, num_tags)\n",
        "        output = output.view(-1, output.shape[2])\n",
        "        return self.out(output)"
      ],
      "execution_count": 5,
      "outputs": []
    },
    {
      "cell_type": "markdown",
      "metadata": {
        "id": "dEGSQdeUkTP8",
        "colab_type": "text"
      },
      "source": [
        "**Task 4:** write a training loop, which takes a model (instance of NERNet) and number of epochs to train on. The loss is always CrossEntropyLoss and the optimizer is always Adam."
      ]
    },
    {
      "cell_type": "code",
      "metadata": {
        "id": "avkHfjT3k0HM",
        "colab_type": "code",
        "colab": {}
      },
      "source": [
        "import torch.optim as optim\n",
        "\n",
        "def train_loop(model, n_epochs, caption=''):\n",
        "    # Loss function\n",
        "    criterion = nn.CrossEntropyLoss()\n",
        "\n",
        "    # Optimizer\n",
        "    optimizer = optim.Adam(model.parameters(), lr=0.0001)\n",
        "\n",
        "    e_loss = 0\n",
        "    for e in range(1, n_epochs + 1):\n",
        "\n",
        "        e_loss = 0\n",
        "        for counter, (sequence, labels) in enumerate(train_sequences):\n",
        "\n",
        "            sequence_tensor = torch.LongTensor(sequence).to(device).view(1, -1)\n",
        "            labels_tensor = torch.LongTensor(labels).to(device)\n",
        "\n",
        "            # compute model output and loss\n",
        "            output_batch = model(sequence_tensor)\n",
        "            sentence_loss = criterion(output_batch, labels_tensor)\n",
        "\n",
        "            optimizer.zero_grad()\n",
        "            sentence_loss.backward()\n",
        "\n",
        "            # updating weights\n",
        "            optimizer.step()\n",
        "\n",
        "            # averaging total loss\n",
        "            sentence_loss = sentence_loss.item() / len(sequence)\n",
        "            e_loss += sentence_loss\n",
        "\n",
        "        e_loss = e_loss / len(train_sequences)\n",
        "        # print('Epoch %d/%d, Current Loss = %.4f' % (e, n_epochs, e_loss))\n",
        "\n",
        "    print('%s - Epochs %d, Loss = %.4f' % (caption, n_epochs, e_loss))\n",
        "\n"
      ],
      "execution_count": 6,
      "outputs": []
    },
    {
      "cell_type": "markdown",
      "metadata": {
        "id": "baN1c_B7lTjb",
        "colab_type": "text"
      },
      "source": [
        "**Task 5:** write an evaluation loop on a trained model, using the dev and test datasets. This function print the true positive rate (TPR), also known as Recall and the opposite to false positive rate (FPR), also known as precision, of each label seperately (7 labels in total), and for all the 6 labels (except O) together. The caption argument for the function should be served for printing, so that when you print include it as a prefix."
      ]
    },
    {
      "cell_type": "code",
      "metadata": {
        "id": "iyQAjGaqmd8U",
        "colab_type": "code",
        "colab": {}
      },
      "source": [
        "import numpy as np\n",
        "\n",
        "def evaluate_dataset(model, dataset):\n",
        "    tp = 0\n",
        "    fp = 0\n",
        "    fn = 0\n",
        "    tn = 0\n",
        "    total = 0\n",
        "    for counter, (sequence, labels) in enumerate(dataset):\n",
        "        sequence_tensor = torch.LongTensor(sequence).to(device).view(1, -1)\n",
        "        output_labels = model(sequence_tensor)\n",
        "\n",
        "        labels = np.array(labels)\n",
        "        pred_labels = torch.argmax(output_labels, dim=1).detach().cpu().numpy()\n",
        "\n",
        "        tp += np.sum([labels[i[0]] == pred_labels[i[0]] for i in np.argwhere(pred_labels > 0)])\n",
        "        tn += np.sum([labels[i[0]] == pred_labels[i[0]] for i in np.argwhere(pred_labels == 0)])\n",
        "\n",
        "        fp += np.sum([labels[i[0]] != pred_labels[i[0]] for i in np.argwhere(pred_labels > 0)])\n",
        "        fn += np.sum([labels[i[0]] != pred_labels[i[0]] for i in np.argwhere(pred_labels == 0)])\n",
        "\n",
        "        total += len(pred_labels)\n",
        "\n",
        "    # Precision = True Positive / (True Positive + False Positive)\n",
        "    precision = tp / (tp + fp)\n",
        "\n",
        "    # Recall = True Positive / (True Positive + False Negative)\n",
        "    recall = tp / (tp + fn)\n",
        "\n",
        "    # Accuracy = (True Positive + True Nagative) / Total\n",
        "    accuracy = (tp + tn) / total\n",
        "\n",
        "    # print(\"tp: {}, tn: {}, fp: {}, fn: {}, precision: {}, recall: {}, accuracy: {}\".format(tp, tn, fp, fn, precision, recall, accuracy))\n",
        "\n",
        "    return recall, precision\n",
        "\n",
        "\n",
        "def evaluate(model, caption):\n",
        "  dev_recall, dev_precision = evaluate_dataset(model, dev_sequences)\n",
        "  test_recall, test_precision = evaluate_dataset(model, test_sequences)\n",
        "\n",
        "  print(\"{} - dev precision: {}, dev recall: {}, test precision: {}, test recall: {}\".format(caption, dev_precision, dev_recall, test_precision, test_recall))\n"
      ],
      "execution_count": 7,
      "outputs": []
    },
    {
      "cell_type": "markdown",
      "metadata": {
        "id": "LQSXqWNOmqG4",
        "colab_type": "text"
      },
      "source": [
        "**Task 6:** Train and evaluate a few models, all with embedding_size=300, and with the following hyper parameters (you may use that as captions for the models as well):\n",
        "\n",
        "Model 1: (hidden_size: 500, n_layers: 1, directions: 1)\n",
        "\n",
        "Model 2: (hidden_size: 500, n_layers: 2, directions: 1)\n",
        "\n",
        "Model 3: (hidden_size: 500, n_layers: 3, directions: 1)\n",
        "\n",
        "Model 4: (hidden_size: 500, n_layers: 1, directions: 2)\n",
        "\n",
        "Model 5: (hidden_size: 500, n_layers: 2, directions: 2)\n",
        "\n",
        "Model 6: (hidden_size: 500, n_layers: 3, directions: 2)\n",
        "\n",
        "Model 4: (hidden_size: 800, n_layers: 1, directions: 2)\n",
        "\n",
        "Model 5: (hidden_size: 800, n_layers: 2, directions: 2)\n",
        "\n",
        "Model 6: (hidden_size: 800, n_layers: 3, directions: 2)"
      ]
    },
    {
      "cell_type": "code",
      "metadata": {
        "id": "sOde1spntb5D",
        "colab_type": "code",
        "colab": {}
      },
      "source": [
        "def train_and_evaluate(hidden_size, n_layers, bidirectional, embedding=None, embedding_dim=300, n_epochs=10):\n",
        "    model = NERNet(vocab.n_words, hidden_size, len(vocab.tag2id), n_layers, bidirectional, embedding=embedding, embedding_dim=embedding_dim).to(device)\n",
        "    caption = \"hidden_size: {}, n_layers: {}, bidirectional: {}\".format(hidden_size, n_layers, bidirectional)\n",
        "\n",
        "    train_loop(model, n_epochs, caption)\n",
        "    evaluate(model, caption)\n"
      ],
      "execution_count": 8,
      "outputs": []
    },
    {
      "cell_type": "code",
      "metadata": {
        "id": "gTNmBU6hycZl",
        "colab_type": "code",
        "colab": {
          "base_uri": "https://localhost:8080/",
          "height": 337
        },
        "outputId": "ef15a031-1595-4c5a-d737-002c308dcb76"
      },
      "source": [
        "train_and_evaluate(500, 1, False, n_epochs=10)\n",
        "train_and_evaluate(500, 2, False, n_epochs=10)\n",
        "train_and_evaluate(500, 3, False, n_epochs=10)\n",
        "train_and_evaluate(500, 1, True, n_epochs=10)\n",
        "train_and_evaluate(500, 2, True, n_epochs=10)\n",
        "train_and_evaluate(500, 3, True, n_epochs=10)\n",
        "train_and_evaluate(800, 1, True, n_epochs=10)\n",
        "train_and_evaluate(800, 2, True, n_epochs=10)\n",
        "train_and_evaluate(800, 3, True, n_epochs=10)"
      ],
      "execution_count": 9,
      "outputs": [
        {
          "output_type": "stream",
          "text": [
            "hidden_size: 500, n_layers: 1, bidirectional: False - Epochs 10, Loss = 0.0017\n",
            "hidden_size: 500, n_layers: 1, bidirectional: False - dev precision: 0.7688821752265861, dev recall: 0.6550836550836551, test precision: 0.7416232315711094, test recall: 0.6544021024967148\n",
            "hidden_size: 500, n_layers: 2, bidirectional: False - Epochs 10, Loss = 0.0015\n",
            "hidden_size: 500, n_layers: 2, bidirectional: False - dev precision: 0.7842835130970724, dev recall: 0.6517285531370038, test precision: 0.7732283464566929, test recall: 0.6418300653594772\n",
            "hidden_size: 500, n_layers: 3, bidirectional: False - Epochs 10, Loss = 0.0018\n",
            "hidden_size: 500, n_layers: 3, bidirectional: False - dev precision: 0.7724637681159421, dev recall: 0.6976439790575916, test precision: 0.7485994397759104, test recall: 0.7126666666666667\n",
            "hidden_size: 500, n_layers: 1, bidirectional: True - Epochs 10, Loss = 0.0002\n",
            "hidden_size: 500, n_layers: 1, bidirectional: True - dev precision: 0.8138847858197932, dev recall: 0.7109677419354838, test precision: 0.8046153846153846, test recall: 0.6713735558408216\n",
            "hidden_size: 500, n_layers: 2, bidirectional: True - Epochs 10, Loss = 0.0005\n",
            "hidden_size: 500, n_layers: 2, bidirectional: True - dev precision: 0.8198581560283688, dev recall: 0.7372448979591837, test precision: 0.8024606971975393, test recall: 0.7583979328165374\n",
            "hidden_size: 500, n_layers: 3, bidirectional: True - Epochs 10, Loss = 0.0006\n",
            "hidden_size: 500, n_layers: 3, bidirectional: True - dev precision: 0.7972413793103448, dev recall: 0.7516254876462939, test precision: 0.7769541778975741, test recall: 0.7575558475689882\n",
            "hidden_size: 800, n_layers: 1, bidirectional: True - Epochs 10, Loss = 0.0003\n",
            "hidden_size: 800, n_layers: 1, bidirectional: True - dev precision: 0.8, dev recall: 0.6718346253229974, test precision: 0.797847809377402, test recall: 0.6662387676508345\n",
            "hidden_size: 800, n_layers: 2, bidirectional: True - Epochs 10, Loss = 0.0011\n",
            "hidden_size: 800, n_layers: 2, bidirectional: True - dev precision: 0.78099173553719, dev recall: 0.7392438070404173, test precision: 0.7878989361702128, test recall: 0.7679844458846403\n",
            "hidden_size: 800, n_layers: 3, bidirectional: True - Epochs 10, Loss = 0.0021\n",
            "hidden_size: 800, n_layers: 3, bidirectional: True - dev precision: 0.8320610687022901, dev recall: 0.699614890885751, test precision: 0.8240119313944817, test recall: 0.7106109324758842\n"
          ],
          "name": "stdout"
        }
      ]
    },
    {
      "cell_type": "markdown",
      "metadata": {
        "id": "UM74r0_8nk5s",
        "colab_type": "text"
      },
      "source": [
        "**Task 6:** Download the GloVe embeddings from https://nlp.stanford.edu/projects/glove/ (use the 300-dim vectors from glove.6B.zip). Then intialize the nn.Embedding module in your NERNet with these embeddings, so that you can start your training with pre-trained vectors. Repeat Task 6 and print the results for each model.\n",
        "\n",
        "Note: make sure that vectors are aligned with the IDs in your Vocab, in other words, make sure that for example the word with ID 0 is the first vector in the GloVe matrix of vectors that you initialize nn.Embedding with. For a dicussion on how to do that, check it this link:\n",
        "https://discuss.pytorch.org/t/can-we-use-pre-trained-word-embeddings-for-weight-initialization-in-nn-embedding/1222"
      ]
    },
    {
      "cell_type": "code",
      "metadata": {
        "id": "KDJe_adtLSca",
        "colab_type": "code",
        "colab": {
          "base_uri": "https://localhost:8080/",
          "height": 35
        },
        "outputId": "c890b392-48b7-4fe0-c1a9-551f93cc4033"
      },
      "source": [
        "from google.colab import drive\n",
        "drive.mount('/content/drive')"
      ],
      "execution_count": 10,
      "outputs": [
        {
          "output_type": "stream",
          "text": [
            "Drive already mounted at /content/drive; to attempt to forcibly remount, call drive.mount(\"/content/drive\", force_remount=True).\n"
          ],
          "name": "stdout"
        }
      ]
    },
    {
      "cell_type": "code",
      "metadata": {
        "id": "xdrw_2ySLfW9",
        "colab_type": "code",
        "colab": {
          "base_uri": "https://localhost:8080/",
          "height": 35
        },
        "outputId": "aea60813-b001-4e91-f7af-81916650a787"
      },
      "source": [
        "import numpy as np\n",
        "\n",
        "glove_path = '/content/drive/My Drive/datasets/glove'\n",
        "\n",
        "words_found = 0\n",
        "weights_matrix = np.full(vocab.n_words, None)\n",
        "with open(f'{glove_path}/glove.6B.300d.txt', 'rb') as f:\n",
        "    for l in f:\n",
        "        line = l.decode().split()\n",
        "        word = line[0]\n",
        "\n",
        "        idx = vocab.word2id.get(word, None)\n",
        "        if idx is None:\n",
        "            continue\n",
        "\n",
        "        weights_matrix[idx] = np.array(line[1:]).astype(np.float)\n",
        "        words_found += 1\n",
        "\n",
        "for i in range(vocab.n_words):\n",
        "    if weights_matrix[i] is None:\n",
        "        weights_matrix[i] = np.random.normal(scale=0.6, size=(300,))\n",
        "\n",
        "weights_matrix = np.stack(weights_matrix, axis=0)\n",
        "\n",
        "print('words_found: {} out of: {}'.format(words_found, vocab.n_words))\n"
      ],
      "execution_count": 11,
      "outputs": [
        {
          "output_type": "stream",
          "text": [
            "words_found: 7648 out of: 8263\n"
          ],
          "name": "stdout"
        }
      ]
    },
    {
      "cell_type": "code",
      "metadata": {
        "id": "In5I3SNPf25a",
        "colab_type": "code",
        "colab": {
          "base_uri": "https://localhost:8080/",
          "height": 35
        },
        "outputId": "4ff84685-7cee-430e-b13d-6fdf51edbf51"
      },
      "source": [
        "num_embeddings, embedding_dim = weights_matrix.shape\n",
        "embedding = nn.Embedding(num_embeddings, embedding_dim)\n",
        "embedding.weight.data.copy_(torch.from_numpy(weights_matrix))\n",
        "\n",
        "print(embedding)"
      ],
      "execution_count": 12,
      "outputs": [
        {
          "output_type": "stream",
          "text": [
            "Embedding(8263, 300)\n"
          ],
          "name": "stdout"
        }
      ]
    },
    {
      "cell_type": "code",
      "metadata": {
        "id": "JRiMbvx9o5Rh",
        "colab_type": "code",
        "colab": {
          "base_uri": "https://localhost:8080/",
          "height": 337
        },
        "outputId": "43172641-2c86-4c5b-cab9-9b578a0511fc"
      },
      "source": [
        "train_and_evaluate(500, 1, False, n_epochs=10, embedding=embedding)\n",
        "train_and_evaluate(500, 2, False, n_epochs=10, embedding=embedding)\n",
        "train_and_evaluate(500, 3, False, n_epochs=10, embedding=embedding)\n",
        "train_and_evaluate(500, 1, True, n_epochs=10, embedding=embedding)\n",
        "train_and_evaluate(500, 2, True, n_epochs=10, embedding=embedding)\n",
        "train_and_evaluate(500, 3, True, n_epochs=10, embedding=embedding)\n",
        "train_and_evaluate(800, 1, True, n_epochs=10, embedding=embedding)\n",
        "train_and_evaluate(800, 2, True, n_epochs=10, embedding=embedding)\n",
        "train_and_evaluate(800, 3, True, n_epochs=10, embedding=embedding)"
      ],
      "execution_count": 13,
      "outputs": [
        {
          "output_type": "stream",
          "text": [
            "hidden_size: 500, n_layers: 1, bidirectional: False - Epochs 10, Loss = 0.0010\n",
            "hidden_size: 500, n_layers: 1, bidirectional: False - dev precision: 0.88745148771022, dev recall: 0.8575, test precision: 0.8722438391699092, test recall: 0.8485804416403786\n",
            "hidden_size: 500, n_layers: 2, bidirectional: False - Epochs 10, Loss = 0.0006\n",
            "hidden_size: 500, n_layers: 2, bidirectional: False - dev precision: 0.86489898989899, dev recall: 0.8605527638190955, test precision: 0.8378548895899054, test recall: 0.8556701030927835\n",
            "hidden_size: 500, n_layers: 3, bidirectional: False - Epochs 10, Loss = 0.0006\n",
            "hidden_size: 500, n_layers: 3, bidirectional: False - dev precision: 0.8722826086956522, dev recall: 0.8085642317380353, test precision: 0.8406084656084656, test recall: 0.8205293737895416\n",
            "hidden_size: 500, n_layers: 1, bidirectional: True - Epochs 10, Loss = 0.0001\n",
            "hidden_size: 500, n_layers: 1, bidirectional: True - dev precision: 0.8894409937888199, dev recall: 0.895, test precision: 0.8822070675759455, test recall: 0.889375\n",
            "hidden_size: 500, n_layers: 2, bidirectional: True - Epochs 10, Loss = 0.0001\n",
            "hidden_size: 500, n_layers: 2, bidirectional: True - dev precision: 0.8618181818181818, dev recall: 0.8977272727272727, test precision: 0.8700361010830325, test recall: 0.9088623507228158\n",
            "hidden_size: 500, n_layers: 3, bidirectional: True - Epochs 10, Loss = 0.0001\n",
            "hidden_size: 500, n_layers: 3, bidirectional: True - dev precision: 0.8437118437118437, dev recall: 0.8927648578811369, test precision: 0.8308605341246291, test recall: 0.8985879332477535\n",
            "hidden_size: 800, n_layers: 1, bidirectional: True - Epochs 10, Loss = 0.0000\n",
            "hidden_size: 800, n_layers: 1, bidirectional: True - dev precision: 0.8927680798004988, dev recall: 0.8905472636815921, test precision: 0.8718730933496034, test recall: 0.8970495919648462\n",
            "hidden_size: 800, n_layers: 2, bidirectional: True - Epochs 10, Loss = 0.0000\n",
            "hidden_size: 800, n_layers: 2, bidirectional: True - dev precision: 0.8534583821805393, dev recall: 0.9180327868852459, test precision: 0.8351459645105895, test recall: 0.9181875393329137\n",
            "hidden_size: 800, n_layers: 3, bidirectional: True - Epochs 10, Loss = 0.0001\n",
            "hidden_size: 800, n_layers: 3, bidirectional: True - dev precision: 0.8898514851485149, dev recall: 0.8953922789539228, test precision: 0.8632478632478633, test recall: 0.8909892879647133\n"
          ],
          "name": "stdout"
        }
      ]
    },
    {
      "cell_type": "markdown",
      "metadata": {
        "id": "jxaESRoco6bV",
        "colab_type": "text"
      },
      "source": [
        "**Good luck!**"
      ]
    }
  ]
}