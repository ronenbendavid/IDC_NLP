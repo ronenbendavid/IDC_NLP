{
  "nbformat": 4,
  "nbformat_minor": 0,
  "metadata": {
    "colab": {
      "name": "Asi Assignment 3 ",
      "provenance": [],
      "collapsed_sections": [],
      "include_colab_link": true
    },
    "kernelspec": {
      "name": "python3",
      "display_name": "Python 3"
    },
    "accelerator": "GPU"
  },
  "cells": [
    {
      "cell_type": "markdown",
      "metadata": {
        "id": "view-in-github",
        "colab_type": "text"
      },
      "source": [
        "<a href=\"https://colab.research.google.com/github/ronenbendavid/IDC_NLP/blob/master/Asi_Assignment_3.ipynb\" target=\"_parent\"><img src=\"https://colab.research.google.com/assets/colab-badge.svg\" alt=\"Open In Colab\"/></a>"
      ]
    },
    {
      "cell_type": "markdown",
      "metadata": {
        "id": "k-WJBimYDLJS",
        "colab_type": "text"
      },
      "source": [
        "# Assignment 3\n",
        "Training a neural named entity recognition (NER) tagger "
      ]
    },
    {
      "cell_type": "code",
      "metadata": {
        "id": "3enPCGBF8FlX",
        "colab_type": "code",
        "colab": {
          "base_uri": "https://localhost:8080/",
          "height": 35
        },
        "outputId": "162852cb-b0c7-43c9-e384-89bf1469fbb2"
      },
      "source": [
        "import torch\n",
        "import torch.nn as nn\n",
        "\n",
        "device = 'cuda' if torch.cuda.is_available() else 'cpu'\n",
        "print('version: {}, device: {}'.format(torch.__version__, device))"
      ],
      "execution_count": 12,
      "outputs": [
        {
          "output_type": "stream",
          "text": [
            "version: 1.5.0+cu101, device: cuda\n"
          ],
          "name": "stdout"
        }
      ]
    },
    {
      "cell_type": "markdown",
      "metadata": {
        "id": "V5QSIEoyDdWh",
        "colab_type": "text"
      },
      "source": [
        "In this assignment you are required to build a full training and testing pipeline for a neural sequentail tagger for named entities, using LSTM.\n",
        "\n",
        "The dataset that you will be working on is called ReCoNLL 2003, which is a corrected version of the CoNLL 2003 dataset: https://www.clips.uantwerpen.be/conll2003/ner/\n",
        "\n",
        "[Train data](https://drive.google.com/file/d/1hG66e_OoezzeVKho1w7ysyAx4yp0ShDz/view?usp=sharing)\n",
        "\n",
        "[Dev data](https://drive.google.com/file/d/1EAF-VygYowU1XknZhvzMi2CID65I127L/view?usp=sharing)\n",
        "\n",
        "[Test data](https://drive.google.com/file/d/16gug5wWnf06JdcBXQbcICOZGZypgr4Iu/view?usp=sharing)\n",
        "\n",
        "As you can see, the annotated texts are labeled according to the IOB annotation scheme, for 3 entity types: Person, Organization, Location."
      ]
    },
    {
      "cell_type": "markdown",
      "metadata": {
        "id": "5ul2Y3vuPoV8",
        "colab_type": "text"
      },
      "source": [
        "**Task 1:** Write a funtion for reading the data from a single file (of the ones that are provided above). The function recieves a filepath and then it encodes every sentence individually using a pair of lists, one list contains the words and one list contains the tags. Each list pair will be added to a general list (data), which will be returned back from the function."
      ]
    },
    {
      "cell_type": "code",
      "metadata": {
        "id": "prgzgtt8Jw4Y",
        "colab_type": "code",
        "colab": {
          "base_uri": "https://localhost:8080/",
          "height": 70
        },
        "outputId": "f0a96971-4dd5-48ab-d157-39bb1420b9b5"
      },
      "source": [
        "import requests\n",
        "import re\n",
        "\n",
        "def read_data(filepath):\n",
        "    data = []\n",
        "\n",
        "    result = re.compile(\".*drive.google.com/file/d/([^/]*)/.*\").match(filepath)\n",
        "    if result:\n",
        "      filepath = 'https://docs.google.com/uc?export=download&id={}'.format(result.group(1))\n",
        "    print(filepath)\n",
        "\n",
        "    response = requests.get(filepath)\n",
        "    words = []\n",
        "    tags = []\n",
        "\n",
        "    for line in response.text.split('\\n'):\n",
        "        if not line:\n",
        "            if len(words) > 0:\n",
        "                data.append((words, tags))\n",
        "            words = []\n",
        "            tags = []\n",
        "        else:\n",
        "            line = line.strip().split()\n",
        "            words.append(line[0])\n",
        "            tags.append(line[1])\n",
        "\n",
        "    return data\n",
        "\n",
        "train = read_data('https://drive.google.com/file/d/1hG66e_OoezzeVKho1w7ysyAx4yp0ShDz/view?usp=sharing')\n",
        "dev = read_data('https://drive.google.com/file/d/1EAF-VygYowU1XknZhvzMi2CID65I127L/view?usp=sharing')\n",
        "test = read_data('https://drive.google.com/file/d/16gug5wWnf06JdcBXQbcICOZGZypgr4Iu/view?usp=sharing')\n"
      ],
      "execution_count": 4,
      "outputs": [
        {
          "output_type": "stream",
          "text": [
            "https://docs.google.com/uc?export=download&id=1hG66e_OoezzeVKho1w7ysyAx4yp0ShDz\n",
            "https://docs.google.com/uc?export=download&id=1EAF-VygYowU1XknZhvzMi2CID65I127L\n",
            "https://docs.google.com/uc?export=download&id=16gug5wWnf06JdcBXQbcICOZGZypgr4Iu\n"
          ],
          "name": "stdout"
        }
      ]
    },
    {
      "cell_type": "markdown",
      "metadata": {
        "id": "IuGwk6OwRWGS",
        "colab_type": "text"
      },
      "source": [
        "The following Vocab class can be served as a dictionary that maps words and tags into Ids. The UNK_TOKEN should be used for words that are not part of the training data."
      ]
    },
    {
      "cell_type": "code",
      "metadata": {
        "id": "6rKIB5o_vQO8",
        "colab_type": "code",
        "colab": {}
      },
      "source": [
        "UNK_TOKEN = 0\n",
        "\n",
        "class Vocab:\n",
        "    def __init__(self):\n",
        "        self.word2id = {\"__unk__\": UNK_TOKEN}\n",
        "        self.id2word = {UNK_TOKEN: \"__unk__\"}\n",
        "        self.n_words = 1\n",
        "        \n",
        "        self.tag2id = {\"O\":0, \"B-PER\":1, \"I-PER\": 2, \"B-LOC\": 3, \"I-LOC\": 4, \"B-ORG\": 5, \"I-ORG\": 6}\n",
        "        self.id2tag = {0:\"O\", 1:\"B-PER\", 2:\"I-PER\", 3:\"B-LOC\", 4:\"I-LOC\", 5:\"B-ORG\", 6:\"I-ORG\"}\n",
        "        \n",
        "    def index_words(self, words):\n",
        "      word_indexes = [self.index_word(w) for w in words]\n",
        "      return word_indexes\n",
        "\n",
        "    def index_tags(self, tags):\n",
        "      tag_indexes = [self.tag2id[t] for t in tags]\n",
        "      return tag_indexes\n",
        "    \n",
        "    def index_word(self, w):\n",
        "        if w not in self.word2id:\n",
        "            self.word2id[w] = self.n_words\n",
        "            self.id2word[self.n_words] = w\n",
        "            self.n_words += 1\n",
        "        return self.word2id[w]\n",
        "            "
      ],
      "execution_count": 5,
      "outputs": []
    },
    {
      "cell_type": "markdown",
      "metadata": {
        "id": "iDKYryfKfNdh",
        "colab_type": "text"
      },
      "source": [
        "**Task 2:** Write a function prepare_data that takes one of the [train, dev, test] and the Vocab instance, for converting each pair of (words,tags) to a pair of indexes. Each pair should be added to data_sequences, which will be returned back from the function."
      ]
    },
    {
      "cell_type": "code",
      "metadata": {
        "id": "noIY3zWKvhBd",
        "colab_type": "code",
        "colab": {}
      },
      "source": [
        "vocab = Vocab()\n",
        "\n",
        "def prepare_data(data, vocab):\n",
        "    data_sequences = []\n",
        "    for words, tags in data:\n",
        "      iwords = vocab.index_words(words)\n",
        "      itags = vocab.index_tags(tags)\n",
        "      data_sequences.append((iwords, itags))\n",
        "\n",
        "    return data_sequences, vocab\n",
        "\n",
        "train_sequences, vocab = prepare_data(train, vocab)\n",
        "dev_sequences, vocab = prepare_data(dev, vocab)\n",
        "test_sequences, vocab = prepare_data(test, vocab)"
      ],
      "execution_count": 6,
      "outputs": []
    },
    {
      "cell_type": "markdown",
      "metadata": {
        "id": "UccfiRRtiEet",
        "colab_type": "text"
      },
      "source": [
        "**Task 3:** Write NERNet, a PyTorch Module for labeling words with NER tags. \n",
        "\n",
        "*input_size:* the size of the vocabulary\n",
        "\n",
        "*embedding_size:* the size of the embeddings\n",
        "\n",
        "*hidden_size:* the LSTM hidden size\n",
        "\n",
        "*output_size:* the number tags we are predicting for\n",
        "\n",
        "*n_layers:* the number of layers we want to use in LSTM\n",
        "\n",
        "*directions:* could 1 or 2, indicating unidirectional or bidirectional LSTM, respectively\n",
        "\n",
        "The input for your forward function should be a single sentence tensor."
      ]
    },
    {
      "cell_type": "code",
      "metadata": {
        "id": "Ke1LyUQNyQaM",
        "colab_type": "code",
        "colab": {}
      },
      "source": [
        "class NERNet(nn.Module):\n",
        "    def __init__(self, input_size, embedding_size, hidden_size, output_size, n_layers, bidirectional):\n",
        "        super(NERNet, self).__init__()\n",
        "\n",
        "        self.input_size = input_size\n",
        "        self.embedding_size = embedding_size\n",
        "        self.hidden_size = hidden_size\n",
        "        self.output_size = output_size\n",
        "        self.n_layers = n_layers\n",
        "        self.bidirectional = bidirectional\n",
        "\n",
        "        in_features = self.hidden_size\n",
        "        if bidirectional:\n",
        "            in_features = self.hidden_size * 2\n",
        "\n",
        "        self.embedding = nn.Embedding(num_embeddings=input_size, embedding_dim=embedding_size)\n",
        "        self.lstm = nn.LSTM(input_size=embedding_size, hidden_size=hidden_size, num_layers=n_layers, bidirectional=bidirectional, batch_first=True)\n",
        "        self.out = nn.Linear(in_features=in_features, out_features=output_size)\n",
        "\n",
        "    def forward(self, input_sentence):\n",
        "        embedded = self.embedding(input_sentence)\n",
        "        output, _ = self.lstm(embedded)\n",
        "        output = output.contiguous()\n",
        "        output = output.view(-1, output.shape[2])\n",
        "        return self.out(output)\n"
      ],
      "execution_count": 7,
      "outputs": []
    },
    {
      "cell_type": "markdown",
      "metadata": {
        "id": "dEGSQdeUkTP8",
        "colab_type": "text"
      },
      "source": [
        "**Task 4:** write a training loop, which takes a model (instance of NERNet) and number of epochs to train on. The loss is always CrossEntropyLoss and the optimizer is always Adam."
      ]
    },
    {
      "cell_type": "code",
      "metadata": {
        "id": "avkHfjT3k0HM",
        "colab_type": "code",
        "colab": {}
      },
      "source": [
        "import torch.optim as optim\n",
        "\n",
        "def train_loop(model, n_epochs):\n",
        "  # Loss function\n",
        "  criterion = nn.CrossEntropyLoss()\n",
        "\n",
        "  # Optimizer (ADAM is a fancy version of SGD)\n",
        "  optimizer = optim.Adam(model.parameters(), lr=0.0001)\n",
        "  \n",
        "  print_every = 100\n",
        "\n",
        "  for e in range(1, n_epochs + 1):\n",
        "\n",
        "    loss = 0\n",
        "    for counter, (sequence, labels) in enumerate(train_sequences):\n",
        "\n",
        "        sequence_tensor = torch.LongTensor(sequence).to(device).view(1, -1)\n",
        "        labels_tensor = torch.LongTensor(labels).to(device)\n",
        "\n",
        "        # compute model output and loss\n",
        "        output_batch = model(sequence_tensor)\n",
        "        sentence_loss = criterion(output_batch, labels_tensor)\n",
        "\n",
        "        optimizer.zero_grad()\n",
        "        sentence_loss.backward()\n",
        "\n",
        "        # updating weights\n",
        "        optimizer.step()\n",
        "\n",
        "        # averaging total loss\n",
        "        loss += (sentence_loss.item() / len(sequence))\n",
        "\n",
        "        if counter > 0 and counter % print_every == 0:\n",
        "            loss = loss / print_every\n",
        "            print('Epoch %d, %d/%d, Current Loss = %.4f' % (e, counter, len(train_sequences), loss))\n",
        "            loss = 0\n",
        "\n"
      ],
      "execution_count": 14,
      "outputs": []
    },
    {
      "cell_type": "markdown",
      "metadata": {
        "id": "baN1c_B7lTjb",
        "colab_type": "text"
      },
      "source": [
        "**Task 5:** write an evaluation loop on a trained model, using the dev and test datasets. This function print the true positive rate (TPR), also known as Recall and the opposite to false positive rate (FPR), also known as precision, of each label seperately (7 labels in total), and for all the 6 labels (except O) together. The caption argument for the function should be served for printing, so that when you print include it as a prefix."
      ]
    },
    {
      "cell_type": "code",
      "metadata": {
        "id": "iyQAjGaqmd8U",
        "colab_type": "code",
        "colab": {}
      },
      "source": [
        "def evaluate(model, caption):\n",
        "  # TODO - your code goes here\n",
        "  print(...)"
      ],
      "execution_count": 9,
      "outputs": []
    },
    {
      "cell_type": "markdown",
      "metadata": {
        "id": "LQSXqWNOmqG4",
        "colab_type": "text"
      },
      "source": [
        "**Task 6:** Train and evaluate a few models, all with embedding_size=300, and with the following hyper parameters (you may use that as captions for the models as well):\n",
        "\n",
        "Model 1: (hidden_size: 500, n_layers: 1, directions: 1)\n",
        "\n",
        "Model 2: (hidden_size: 500, n_layers: 2, directions: 1)\n",
        "\n",
        "Model 3: (hidden_size: 500, n_layers: 3, directions: 1)\n",
        "\n",
        "Model 4: (hidden_size: 500, n_layers: 1, directions: 2)\n",
        "\n",
        "Model 5: (hidden_size: 500, n_layers: 2, directions: 2)\n",
        "\n",
        "Model 6: (hidden_size: 500, n_layers: 3, directions: 2)\n",
        "\n",
        "Model 4: (hidden_size: 800, n_layers: 1, directions: 2)\n",
        "\n",
        "Model 5: (hidden_size: 800, n_layers: 2, directions: 2)\n",
        "\n",
        "Model 6: (hidden_size: 800, n_layers: 3, directions: 2)"
      ]
    },
    {
      "cell_type": "code",
      "metadata": {
        "id": "gTNmBU6hycZl",
        "colab_type": "code",
        "colab": {
          "base_uri": "https://localhost:8080/",
          "height": 1000
        },
        "outputId": "0db0d8b4-a12a-47e2-dbee-eafe24613a33"
      },
      "source": [
        "embedding_size = 100\n",
        "hidden_size = 500\n",
        "n_layers = 1\n",
        "bidirectional = False\n",
        "\n",
        "model = NERNet(vocab.n_words, hidden_size, hidden_size, len(vocab.tag2id), n_layers, bidirectional).to(device)\n",
        "\n",
        "train_loop(model, 10)\n"
      ],
      "execution_count": 15,
      "outputs": [
        {
          "output_type": "stream",
          "text": [
            "Epoch 1, 100/1750, Current Loss = 0.1707\n",
            "Epoch 1, 200/1750, Current Loss = 0.1780\n",
            "Epoch 1, 300/1750, Current Loss = 0.1616\n",
            "Epoch 1, 400/1750, Current Loss = 0.1214\n",
            "Epoch 1, 500/1750, Current Loss = 0.1490\n",
            "Epoch 1, 600/1750, Current Loss = 0.1248\n",
            "Epoch 1, 700/1750, Current Loss = 0.1027\n",
            "Epoch 1, 800/1750, Current Loss = 0.1481\n",
            "Epoch 1, 900/1750, Current Loss = 0.1085\n",
            "Epoch 1, 1000/1750, Current Loss = 0.0809\n",
            "Epoch 1, 1100/1750, Current Loss = 0.1284\n",
            "Epoch 1, 1200/1750, Current Loss = 0.0972\n",
            "Epoch 1, 1300/1750, Current Loss = 0.0966\n",
            "Epoch 1, 1400/1750, Current Loss = 0.1483\n",
            "Epoch 1, 1500/1750, Current Loss = 0.0737\n",
            "Epoch 1, 1600/1750, Current Loss = 0.0815\n",
            "Epoch 1, 1700/1750, Current Loss = 0.0720\n",
            "Epoch 2, 100/1750, Current Loss = 0.0598\n",
            "Epoch 2, 200/1750, Current Loss = 0.0938\n",
            "Epoch 2, 300/1750, Current Loss = 0.0802\n",
            "Epoch 2, 400/1750, Current Loss = 0.0627\n",
            "Epoch 2, 500/1750, Current Loss = 0.0766\n",
            "Epoch 2, 600/1750, Current Loss = 0.0664\n",
            "Epoch 2, 700/1750, Current Loss = 0.0465\n",
            "Epoch 2, 800/1750, Current Loss = 0.0811\n",
            "Epoch 2, 900/1750, Current Loss = 0.0513\n",
            "Epoch 2, 1000/1750, Current Loss = 0.0377\n",
            "Epoch 2, 1100/1750, Current Loss = 0.0648\n",
            "Epoch 2, 1200/1750, Current Loss = 0.0453\n",
            "Epoch 2, 1300/1750, Current Loss = 0.0443\n",
            "Epoch 2, 1400/1750, Current Loss = 0.0774\n",
            "Epoch 2, 1500/1750, Current Loss = 0.0404\n",
            "Epoch 2, 1600/1750, Current Loss = 0.0419\n",
            "Epoch 2, 1700/1750, Current Loss = 0.0372\n",
            "Epoch 3, 100/1750, Current Loss = 0.0295\n",
            "Epoch 3, 200/1750, Current Loss = 0.0421\n",
            "Epoch 3, 300/1750, Current Loss = 0.0353\n",
            "Epoch 3, 400/1750, Current Loss = 0.0292\n",
            "Epoch 3, 500/1750, Current Loss = 0.0363\n",
            "Epoch 3, 600/1750, Current Loss = 0.0336\n",
            "Epoch 3, 700/1750, Current Loss = 0.0224\n",
            "Epoch 3, 800/1750, Current Loss = 0.0403\n",
            "Epoch 3, 900/1750, Current Loss = 0.0241\n",
            "Epoch 3, 1000/1750, Current Loss = 0.0202\n",
            "Epoch 3, 1100/1750, Current Loss = 0.0275\n",
            "Epoch 3, 1200/1750, Current Loss = 0.0216\n",
            "Epoch 3, 1300/1750, Current Loss = 0.0221\n",
            "Epoch 3, 1400/1750, Current Loss = 0.0351\n",
            "Epoch 3, 1500/1750, Current Loss = 0.0238\n",
            "Epoch 3, 1600/1750, Current Loss = 0.0229\n",
            "Epoch 3, 1700/1750, Current Loss = 0.0195\n",
            "Epoch 4, 100/1750, Current Loss = 0.0163\n",
            "Epoch 4, 200/1750, Current Loss = 0.0185\n",
            "Epoch 4, 300/1750, Current Loss = 0.0171\n",
            "Epoch 4, 400/1750, Current Loss = 0.0143\n",
            "Epoch 4, 500/1750, Current Loss = 0.0170\n",
            "Epoch 4, 600/1750, Current Loss = 0.0179\n",
            "Epoch 4, 700/1750, Current Loss = 0.0114\n",
            "Epoch 4, 800/1750, Current Loss = 0.0185\n",
            "Epoch 4, 900/1750, Current Loss = 0.0128\n",
            "Epoch 4, 1000/1750, Current Loss = 0.0110\n",
            "Epoch 4, 1100/1750, Current Loss = 0.0120\n",
            "Epoch 4, 1200/1750, Current Loss = 0.0112\n",
            "Epoch 4, 1300/1750, Current Loss = 0.0104\n",
            "Epoch 4, 1400/1750, Current Loss = 0.0175\n",
            "Epoch 4, 1500/1750, Current Loss = 0.0128\n",
            "Epoch 4, 1600/1750, Current Loss = 0.0119\n",
            "Epoch 4, 1700/1750, Current Loss = 0.0091\n",
            "Epoch 5, 100/1750, Current Loss = 0.0086\n",
            "Epoch 5, 200/1750, Current Loss = 0.0086\n",
            "Epoch 5, 300/1750, Current Loss = 0.0082\n",
            "Epoch 5, 400/1750, Current Loss = 0.0066\n",
            "Epoch 5, 500/1750, Current Loss = 0.0083\n",
            "Epoch 5, 600/1750, Current Loss = 0.0092\n",
            "Epoch 5, 700/1750, Current Loss = 0.0054\n",
            "Epoch 5, 800/1750, Current Loss = 0.0088\n",
            "Epoch 5, 900/1750, Current Loss = 0.0071\n",
            "Epoch 5, 1000/1750, Current Loss = 0.0054\n",
            "Epoch 5, 1100/1750, Current Loss = 0.0057\n",
            "Epoch 5, 1200/1750, Current Loss = 0.0056\n",
            "Epoch 5, 1300/1750, Current Loss = 0.0046\n",
            "Epoch 5, 1400/1750, Current Loss = 0.0094\n",
            "Epoch 5, 1500/1750, Current Loss = 0.0064\n",
            "Epoch 5, 1600/1750, Current Loss = 0.0058\n",
            "Epoch 5, 1700/1750, Current Loss = 0.0040\n",
            "Epoch 6, 100/1750, Current Loss = 0.0042\n",
            "Epoch 6, 200/1750, Current Loss = 0.0039\n",
            "Epoch 6, 300/1750, Current Loss = 0.0040\n",
            "Epoch 6, 400/1750, Current Loss = 0.0030\n",
            "Epoch 6, 500/1750, Current Loss = 0.0038\n",
            "Epoch 6, 600/1750, Current Loss = 0.0054\n",
            "Epoch 6, 700/1750, Current Loss = 0.0029\n",
            "Epoch 6, 800/1750, Current Loss = 0.0045\n",
            "Epoch 6, 900/1750, Current Loss = 0.0043\n",
            "Epoch 6, 1000/1750, Current Loss = 0.0028\n",
            "Epoch 6, 1100/1750, Current Loss = 0.0027\n",
            "Epoch 6, 1200/1750, Current Loss = 0.0027\n",
            "Epoch 6, 1300/1750, Current Loss = 0.0022\n",
            "Epoch 6, 1400/1750, Current Loss = 0.0047\n",
            "Epoch 6, 1500/1750, Current Loss = 0.0033\n",
            "Epoch 6, 1600/1750, Current Loss = 0.0026\n",
            "Epoch 6, 1700/1750, Current Loss = 0.0019\n",
            "Epoch 7, 100/1750, Current Loss = 0.0019\n",
            "Epoch 7, 200/1750, Current Loss = 0.0018\n",
            "Epoch 7, 300/1750, Current Loss = 0.0022\n",
            "Epoch 7, 400/1750, Current Loss = 0.0015\n",
            "Epoch 7, 500/1750, Current Loss = 0.0017\n",
            "Epoch 7, 600/1750, Current Loss = 0.0024\n",
            "Epoch 7, 700/1750, Current Loss = 0.0017\n",
            "Epoch 7, 800/1750, Current Loss = 0.0021\n",
            "Epoch 7, 900/1750, Current Loss = 0.0028\n",
            "Epoch 7, 1000/1750, Current Loss = 0.0014\n",
            "Epoch 7, 1100/1750, Current Loss = 0.0015\n",
            "Epoch 7, 1200/1750, Current Loss = 0.0013\n",
            "Epoch 7, 1300/1750, Current Loss = 0.0011\n",
            "Epoch 7, 1400/1750, Current Loss = 0.0030\n",
            "Epoch 7, 1500/1750, Current Loss = 0.0020\n",
            "Epoch 7, 1600/1750, Current Loss = 0.0014\n",
            "Epoch 7, 1700/1750, Current Loss = 0.0010\n",
            "Epoch 8, 100/1750, Current Loss = 0.0011\n",
            "Epoch 8, 200/1750, Current Loss = 0.0012\n",
            "Epoch 8, 300/1750, Current Loss = 0.0010\n",
            "Epoch 8, 400/1750, Current Loss = 0.0011\n",
            "Epoch 8, 500/1750, Current Loss = 0.0010\n",
            "Epoch 8, 600/1750, Current Loss = 0.0023\n",
            "Epoch 8, 700/1750, Current Loss = 0.0009\n",
            "Epoch 8, 800/1750, Current Loss = 0.0011\n",
            "Epoch 8, 900/1750, Current Loss = 0.0010\n",
            "Epoch 8, 1000/1750, Current Loss = 0.0006\n",
            "Epoch 8, 1100/1750, Current Loss = 0.0009\n",
            "Epoch 8, 1200/1750, Current Loss = 0.0008\n",
            "Epoch 8, 1300/1750, Current Loss = 0.0008\n",
            "Epoch 8, 1400/1750, Current Loss = 0.0024\n",
            "Epoch 8, 1500/1750, Current Loss = 0.0014\n",
            "Epoch 8, 1600/1750, Current Loss = 0.0007\n",
            "Epoch 8, 1700/1750, Current Loss = 0.0007\n",
            "Epoch 9, 100/1750, Current Loss = 0.0005\n",
            "Epoch 9, 200/1750, Current Loss = 0.0006\n",
            "Epoch 9, 300/1750, Current Loss = 0.0006\n",
            "Epoch 9, 400/1750, Current Loss = 0.0007\n",
            "Epoch 9, 500/1750, Current Loss = 0.0006\n",
            "Epoch 9, 600/1750, Current Loss = 0.0007\n",
            "Epoch 9, 700/1750, Current Loss = 0.0006\n",
            "Epoch 9, 800/1750, Current Loss = 0.0006\n",
            "Epoch 9, 900/1750, Current Loss = 0.0005\n",
            "Epoch 9, 1000/1750, Current Loss = 0.0004\n",
            "Epoch 9, 1100/1750, Current Loss = 0.0004\n",
            "Epoch 9, 1200/1750, Current Loss = 0.0004\n",
            "Epoch 9, 1300/1750, Current Loss = 0.0005\n",
            "Epoch 9, 1400/1750, Current Loss = 0.0020\n",
            "Epoch 9, 1500/1750, Current Loss = 0.0011\n",
            "Epoch 9, 1600/1750, Current Loss = 0.0005\n",
            "Epoch 9, 1700/1750, Current Loss = 0.0004\n",
            "Epoch 10, 100/1750, Current Loss = 0.0002\n",
            "Epoch 10, 200/1750, Current Loss = 0.0003\n",
            "Epoch 10, 300/1750, Current Loss = 0.0004\n",
            "Epoch 10, 400/1750, Current Loss = 0.0045\n",
            "Epoch 10, 500/1750, Current Loss = 0.0018\n",
            "Epoch 10, 600/1750, Current Loss = 0.0004\n",
            "Epoch 10, 700/1750, Current Loss = 0.0004\n",
            "Epoch 10, 800/1750, Current Loss = 0.0005\n",
            "Epoch 10, 900/1750, Current Loss = 0.0003\n",
            "Epoch 10, 1000/1750, Current Loss = 0.0003\n",
            "Epoch 10, 1100/1750, Current Loss = 0.0004\n",
            "Epoch 10, 1200/1750, Current Loss = 0.0007\n",
            "Epoch 10, 1300/1750, Current Loss = 0.0003\n",
            "Epoch 10, 1400/1750, Current Loss = 0.0018\n",
            "Epoch 10, 1500/1750, Current Loss = 0.0005\n",
            "Epoch 10, 1600/1750, Current Loss = 0.0004\n",
            "Epoch 10, 1700/1750, Current Loss = 0.0003\n"
          ],
          "name": "stdout"
        }
      ]
    },
    {
      "cell_type": "markdown",
      "metadata": {
        "id": "UM74r0_8nk5s",
        "colab_type": "text"
      },
      "source": [
        "**Task 6:** Download the GloVe embeddings from https://nlp.stanford.edu/projects/glove/ (use the 300-dim vectors from glove.6B.zip). Then intialize the nn.Embedding module in your NERNet with these embeddings, so that you can start your training with pre-trained vectors. Repeat Task 6 and print the results for each model.\n",
        "\n",
        "Note: make sure that vectors are aligned with the IDs in your Vocab, in other words, make sure that for example the word with ID 0 is the first vector in the GloVe matrix of vectors that you initialize nn.Embedding with. For a dicussion on how to do that, check it this link:\n",
        "https://discuss.pytorch.org/t/can-we-use-pre-trained-word-embeddings-for-weight-initialization-in-nn-embedding/1222"
      ]
    },
    {
      "cell_type": "code",
      "metadata": {
        "id": "JRiMbvx9o5Rh",
        "colab_type": "code",
        "colab": {}
      },
      "source": [
        "# TODO - your code goes here..."
      ],
      "execution_count": null,
      "outputs": []
    },
    {
      "cell_type": "markdown",
      "metadata": {
        "id": "jxaESRoco6bV",
        "colab_type": "text"
      },
      "source": [
        "**Good luck!**"
      ]
    }
  ]
}