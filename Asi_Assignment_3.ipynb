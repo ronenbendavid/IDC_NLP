{
  "nbformat": 4,
  "nbformat_minor": 0,
  "metadata": {
    "colab": {
      "name": "Asi Assignment 3 ",
      "provenance": [],
      "collapsed_sections": [],
      "include_colab_link": true
    },
    "kernelspec": {
      "name": "python3",
      "display_name": "Python 3"
    },
    "accelerator": "GPU"
  },
  "cells": [
    {
      "cell_type": "markdown",
      "metadata": {
        "id": "view-in-github",
        "colab_type": "text"
      },
      "source": [
        "<a href=\"https://colab.research.google.com/github/ronenbendavid/IDC_NLP/blob/master/Asi_Assignment_3.ipynb\" target=\"_parent\"><img src=\"https://colab.research.google.com/assets/colab-badge.svg\" alt=\"Open In Colab\"/></a>"
      ]
    },
    {
      "cell_type": "markdown",
      "metadata": {
        "id": "k-WJBimYDLJS",
        "colab_type": "text"
      },
      "source": [
        "# Assignment 3\n",
        "Training a neural named entity recognition (NER) tagger "
      ]
    },
    {
      "cell_type": "code",
      "metadata": {
        "id": "3enPCGBF8FlX",
        "colab_type": "code",
        "colab": {
          "base_uri": "https://localhost:8080/",
          "height": 34
        },
        "outputId": "03802af3-aba0-411c-b0b5-2137c2a99f51"
      },
      "source": [
        "import torch\n",
        "import torch.nn as nn\n",
        "\n",
        "device = 'cuda' if torch.cuda.is_available() else 'cpu'\n",
        "print('version: {}, device: {}'.format(torch.__version__, device))"
      ],
      "execution_count": 28,
      "outputs": [
        {
          "output_type": "stream",
          "text": [
            "version: 1.5.1+cu101, device: cuda\n"
          ],
          "name": "stdout"
        }
      ]
    },
    {
      "cell_type": "markdown",
      "metadata": {
        "id": "V5QSIEoyDdWh",
        "colab_type": "text"
      },
      "source": [
        "In this assignment you are required to build a full training and testing pipeline for a neural sequentail tagger for named entities, using LSTM.\n",
        "\n",
        "The dataset that you will be working on is called ReCoNLL 2003, which is a corrected version of the CoNLL 2003 dataset: https://www.clips.uantwerpen.be/conll2003/ner/\n",
        "\n",
        "[Train data](https://drive.google.com/file/d/1hG66e_OoezzeVKho1w7ysyAx4yp0ShDz/view?usp=sharing)\n",
        "\n",
        "[Dev data](https://drive.google.com/file/d/1EAF-VygYowU1XknZhvzMi2CID65I127L/view?usp=sharing)\n",
        "\n",
        "[Test data](https://drive.google.com/file/d/16gug5wWnf06JdcBXQbcICOZGZypgr4Iu/view?usp=sharing)\n",
        "\n",
        "As you can see, the annotated texts are labeled according to the IOB annotation scheme, for 3 entity types: Person, Organization, Location."
      ]
    },
    {
      "cell_type": "markdown",
      "metadata": {
        "id": "5ul2Y3vuPoV8",
        "colab_type": "text"
      },
      "source": [
        "**Task 1:** Write a funtion for reading the data from a single file (of the ones that are provided above). The function recieves a filepath and then it encodes every sentence individually using a pair of lists, one list contains the words and one list contains the tags. Each list pair will be added to a general list (data), which will be returned back from the function."
      ]
    },
    {
      "cell_type": "code",
      "metadata": {
        "id": "prgzgtt8Jw4Y",
        "colab_type": "code",
        "colab": {
          "base_uri": "https://localhost:8080/",
          "height": 68
        },
        "outputId": "42157a64-9856-4feb-ebe4-5bfad37e79c4"
      },
      "source": [
        "import requests\n",
        "import re\n",
        "\n",
        "def read_data(filepath):\n",
        "    data = []\n",
        "\n",
        "    result = re.compile(\".*drive.google.com/file/d/([^/]*)/.*\").match(filepath)\n",
        "    if result:\n",
        "      filepath = 'https://docs.google.com/uc?export=download&id={}'.format(result.group(1))\n",
        "    print(filepath)\n",
        "\n",
        "    response = requests.get(filepath)\n",
        "    words = []\n",
        "    tags = []\n",
        "\n",
        "    for line in response.text.split('\\n'):\n",
        "        if not line:\n",
        "            if len(words) > 0:\n",
        "                data.append((words, tags))\n",
        "            words = []\n",
        "            tags = []\n",
        "        else:\n",
        "            line = line.strip().split()\n",
        "            words.append(line[0].lower())\n",
        "            tags.append(line[1])\n",
        "\n",
        "    return data\n",
        "\n",
        "train = read_data('https://drive.google.com/file/d/1hG66e_OoezzeVKho1w7ysyAx4yp0ShDz/view?usp=sharing')\n",
        "dev = read_data('https://drive.google.com/file/d/1EAF-VygYowU1XknZhvzMi2CID65I127L/view?usp=sharing')\n",
        "test = read_data('https://drive.google.com/file/d/16gug5wWnf06JdcBXQbcICOZGZypgr4Iu/view?usp=sharing')\n"
      ],
      "execution_count": 29,
      "outputs": [
        {
          "output_type": "stream",
          "text": [
            "https://docs.google.com/uc?export=download&id=1hG66e_OoezzeVKho1w7ysyAx4yp0ShDz\n",
            "https://docs.google.com/uc?export=download&id=1EAF-VygYowU1XknZhvzMi2CID65I127L\n",
            "https://docs.google.com/uc?export=download&id=16gug5wWnf06JdcBXQbcICOZGZypgr4Iu\n"
          ],
          "name": "stdout"
        }
      ]
    },
    {
      "cell_type": "markdown",
      "metadata": {
        "id": "IuGwk6OwRWGS",
        "colab_type": "text"
      },
      "source": [
        "The following Vocab class can be served as a dictionary that maps words and tags into Ids. The UNK_TOKEN should be used for words that are not part of the training data."
      ]
    },
    {
      "cell_type": "code",
      "metadata": {
        "id": "6rKIB5o_vQO8",
        "colab_type": "code",
        "colab": {}
      },
      "source": [
        "UNK_TOKEN = 0\n",
        "\n",
        "class Vocab:\n",
        "    def __init__(self):\n",
        "        self.word2id = {\"__unk__\": UNK_TOKEN}\n",
        "        self.id2word = {UNK_TOKEN: \"__unk__\"}\n",
        "        self.n_words = 1\n",
        "        \n",
        "        self.tag2id = {\"O\":0, \"B-PER\":1, \"I-PER\": 2, \"B-LOC\": 3, \"I-LOC\": 4, \"B-ORG\": 5, \"I-ORG\": 6}\n",
        "        self.id2tag = {0:\"O\", 1:\"B-PER\", 2:\"I-PER\", 3:\"B-LOC\", 4:\"I-LOC\", 5:\"B-ORG\", 6:\"I-ORG\"}\n",
        "        \n",
        "    def index_words(self, words):\n",
        "      word_indexes = [self.index_word(w) for w in words]\n",
        "      return word_indexes\n",
        "\n",
        "    def index_tags(self, tags):\n",
        "      tag_indexes = [self.tag2id[t] for t in tags]\n",
        "      return tag_indexes\n",
        "    \n",
        "    def index_word(self, w):\n",
        "        if w not in self.word2id:\n",
        "            self.word2id[w] = self.n_words\n",
        "            self.id2word[self.n_words] = w\n",
        "            self.n_words += 1\n",
        "        return self.word2id[w]\n",
        "            "
      ],
      "execution_count": 30,
      "outputs": []
    },
    {
      "cell_type": "markdown",
      "metadata": {
        "id": "iDKYryfKfNdh",
        "colab_type": "text"
      },
      "source": [
        "**Task 2:** Write a function prepare_data that takes one of the [train, dev, test] and the Vocab instance, for converting each pair of (words,tags) to a pair of indexes. Each pair should be added to data_sequences, which will be returned back from the function."
      ]
    },
    {
      "cell_type": "code",
      "metadata": {
        "id": "noIY3zWKvhBd",
        "colab_type": "code",
        "colab": {}
      },
      "source": [
        "vocab = Vocab()\n",
        "\n",
        "def prepare_data(data, vocab):\n",
        "    data_sequences = []\n",
        "    for words, tags in data:\n",
        "      iwords = vocab.index_words(words)\n",
        "      itags = vocab.index_tags(tags)\n",
        "      data_sequences.append((iwords, itags))\n",
        "\n",
        "    return data_sequences, vocab\n",
        "\n",
        "train_sequences, vocab = prepare_data(train, vocab)\n",
        "dev_sequences, vocab = prepare_data(dev, vocab)\n",
        "test_sequences, vocab = prepare_data(test, vocab)"
      ],
      "execution_count": 31,
      "outputs": []
    },
    {
      "cell_type": "markdown",
      "metadata": {
        "id": "UccfiRRtiEet",
        "colab_type": "text"
      },
      "source": [
        "**Task 3:** Write NERNet, a PyTorch Module for labeling words with NER tags. \n",
        "\n",
        "*input_size:* the size of the vocabulary\n",
        "\n",
        "*embedding_size:* the size of the embeddings\n",
        "\n",
        "*hidden_size:* the LSTM hidden size\n",
        "\n",
        "*output_size:* the number tags we are predicting for\n",
        "\n",
        "*n_layers:* the number of layers we want to use in LSTM\n",
        "\n",
        "*directions:* could 1 or 2, indicating unidirectional or bidirectional LSTM, respectively\n",
        "\n",
        "The input for your forward function should be a single sentence tensor."
      ]
    },
    {
      "cell_type": "code",
      "metadata": {
        "id": "Ke1LyUQNyQaM",
        "colab_type": "code",
        "colab": {}
      },
      "source": [
        "class NERNet(nn.Module):\n",
        "    def __init__(self, input_size, hidden_size, output_size, n_layers, bidirectional, embedding_dim=None, embedding=None):\n",
        "        super(NERNet, self).__init__()\n",
        "\n",
        "        in_features = hidden_size\n",
        "        if bidirectional:\n",
        "            in_features = hidden_size * 2\n",
        "\n",
        "        # if embedding layer given, use it, otherwise create one. \n",
        "        if embedding:\n",
        "            self.embedding = embedding\n",
        "        else:\n",
        "            self.embedding = nn.Embedding(num_embeddings=input_size, embedding_dim=embedding_dim)\n",
        "\n",
        "        self.lstm = nn.LSTM(input_size=self.embedding.embedding_dim, hidden_size=hidden_size, num_layers=n_layers, bidirectional=bidirectional, batch_first=True)\n",
        "        self.out = nn.Linear(in_features=in_features, out_features=output_size)\n",
        "\n",
        "    def forward(self, input_sentence):\n",
        "        embedded = self.embedding(input_sentence)\n",
        "        output, _ = self.lstm(embedded)\n",
        "\n",
        "        # shape for the linear layer (batch*seq, num_tags)\n",
        "        output = output.view(-1, output.shape[2])\n",
        "        return self.out(output)"
      ],
      "execution_count": 32,
      "outputs": []
    },
    {
      "cell_type": "markdown",
      "metadata": {
        "id": "dEGSQdeUkTP8",
        "colab_type": "text"
      },
      "source": [
        "**Task 4:** write a training loop, which takes a model (instance of NERNet) and number of epochs to train on. The loss is always CrossEntropyLoss and the optimizer is always Adam."
      ]
    },
    {
      "cell_type": "code",
      "metadata": {
        "id": "avkHfjT3k0HM",
        "colab_type": "code",
        "colab": {}
      },
      "source": [
        "import torch.optim as optim\n",
        "\n",
        "def train_loop(model, n_epochs):\n",
        "    # Loss function\n",
        "    criterion = nn.CrossEntropyLoss()\n",
        "\n",
        "    # Optimizer\n",
        "    optimizer = optim.Adam(model.parameters(), lr=0.0001)\n",
        "\n",
        "    e_loss = 0\n",
        "    for e in range(1, n_epochs + 1):\n",
        "\n",
        "        e_loss = 0\n",
        "        for counter, (sequence, labels) in enumerate(train_sequences):\n",
        "\n",
        "            sequence_tensor = torch.LongTensor(sequence).to(device).view(1, -1)\n",
        "            labels_tensor = torch.LongTensor(labels).to(device)\n",
        "\n",
        "            # compute model output and loss\n",
        "            output_batch = model(sequence_tensor)\n",
        "            sentence_loss = criterion(output_batch, labels_tensor)\n",
        "\n",
        "            optimizer.zero_grad()\n",
        "            sentence_loss.backward()\n",
        "\n",
        "            # updating weights\n",
        "            optimizer.step()\n",
        "\n",
        "            # averaging total loss\n",
        "            sentence_loss = sentence_loss.item() / len(sequence)\n",
        "            e_loss += sentence_loss\n",
        "\n",
        "        e_loss = e_loss / len(train_sequences)\n",
        "        # print('Epoch %d/%d, Current Loss = %.4f' % (e, n_epochs, e_loss))\n",
        "    \n",
        "    return e_loss\n",
        "\n"
      ],
      "execution_count": 33,
      "outputs": []
    },
    {
      "cell_type": "markdown",
      "metadata": {
        "id": "baN1c_B7lTjb",
        "colab_type": "text"
      },
      "source": [
        "**Task 5:** write an evaluation loop on a trained model, using the dev and test datasets. This function print the true positive rate (TPR), also known as Recall and the opposite to false positive rate (FPR), also known as precision, of each label seperately (7 labels in total), and for all the 6 labels (except O) together. The caption argument for the function should be served for printing, so that when you print include it as a prefix."
      ]
    },
    {
      "cell_type": "code",
      "metadata": {
        "id": "iyQAjGaqmd8U",
        "colab_type": "code",
        "colab": {}
      },
      "source": [
        "import numpy as np\n",
        "import pandas as pd\n",
        "from sklearn.metrics import classification_report\n",
        "\n",
        "def evaluate_dataset(model, dataset):\n",
        "    y_true = np.array([])\n",
        "    y_pred = np.array([])\n",
        "\n",
        "    # build array for true labels and predicted labels\n",
        "    for counter, (sequence, labels) in enumerate(dataset):\n",
        "        sequence_tensor = torch.LongTensor(sequence).to(device).view(1, -1)\n",
        "        output_labels = model(sequence_tensor)\n",
        "\n",
        "        labels = np.array(labels)\n",
        "        pred_labels = torch.argmax(output_labels, dim=1).detach().cpu().numpy()\n",
        "\n",
        "        y_true = np.append(y_true, labels)\n",
        "        y_pred = np.append(y_pred, pred_labels)\n",
        "\n",
        "    # use sklearn to calculate precision and recall for every label\n",
        "    report = classification_report(y_true, y_pred, target_names=list(vocab.tag2id.keys()), digits=4, output_dict=True, zero_division=False)\n",
        "    precision = [report[label]['precision'] for label in vocab.tag2id.keys()]\n",
        "    recall = [report[label]['recall'] for label in vocab.tag2id.keys()]\n",
        "\n",
        "    # use sklearn to calculate precision and recall for all labels except O\n",
        "    report = classification_report(y_true > 0, y_pred > 0, target_names=['O', 'OTHER'], digits=4, output_dict=True)\n",
        "    precision.append(report['OTHER']['precision'])\n",
        "    recall.append(report['OTHER']['recall'])\n",
        "\n",
        "    return precision, recall\n",
        "\n",
        "\n",
        "def evaluate(model):\n",
        "    precision_dev, recall_dev = evaluate_dataset(model, dev_sequences)\n",
        "    precision_test, recall_test = evaluate_dataset(model, test_sequences)\n",
        "\n",
        "    rows = ['precision dev', 'precision test', 'recall dev', 'recall test']\n",
        "    columns = list(vocab.tag2id.keys())\n",
        "    columns.append('Not O')\n",
        "\n",
        "    df = pd.DataFrame(np.array([precision_dev, precision_test, recall_dev, recall_test]), index=rows, columns=columns)\n",
        "    print(df)\n",
        "\n",
        "  "
      ],
      "execution_count": 34,
      "outputs": []
    },
    {
      "cell_type": "markdown",
      "metadata": {
        "id": "LQSXqWNOmqG4",
        "colab_type": "text"
      },
      "source": [
        "**Task 6:** Train and evaluate a few models, all with embedding_size=300, and with the following hyper parameters (you may use that as captions for the models as well):\n",
        "\n",
        "Model 1: (hidden_size: 500, n_layers: 1, directions: 1)\n",
        "\n",
        "Model 2: (hidden_size: 500, n_layers: 2, directions: 1)\n",
        "\n",
        "Model 3: (hidden_size: 500, n_layers: 3, directions: 1)\n",
        "\n",
        "Model 4: (hidden_size: 500, n_layers: 1, directions: 2)\n",
        "\n",
        "Model 5: (hidden_size: 500, n_layers: 2, directions: 2)\n",
        "\n",
        "Model 6: (hidden_size: 500, n_layers: 3, directions: 2)\n",
        "\n",
        "Model 4: (hidden_size: 800, n_layers: 1, directions: 2)\n",
        "\n",
        "Model 5: (hidden_size: 800, n_layers: 2, directions: 2)\n",
        "\n",
        "Model 6: (hidden_size: 800, n_layers: 3, directions: 2)"
      ]
    },
    {
      "cell_type": "code",
      "metadata": {
        "id": "sOde1spntb5D",
        "colab_type": "code",
        "colab": {}
      },
      "source": [
        "def train_and_evaluate(hidden_size, n_layers, bidirectional, embedding=None, embedding_dim=300, n_epochs=10):\n",
        "    model = NERNet(vocab.n_words, hidden_size, len(vocab.tag2id), n_layers, bidirectional, embedding=embedding, embedding_dim=embedding_dim).to(device)\n",
        "    caption = \"hidden_size: {}, n_layers: {}, bidirectional: {}\".format(hidden_size, n_layers, bidirectional)\n",
        "\n",
        "    loss = train_loop(model, n_epochs)\n",
        "\n",
        "    print(\"\\n----\\n%s, Epochs: %d, Loss: %.4f\" % (caption, n_epochs, loss))\n",
        "    evaluate(model)\n"
      ],
      "execution_count": 37,
      "outputs": []
    },
    {
      "cell_type": "code",
      "metadata": {
        "id": "gTNmBU6hycZl",
        "colab_type": "code",
        "colab": {
          "base_uri": "https://localhost:8080/",
          "height": 1000
        },
        "outputId": "b89a06a0-e0e3-401f-9628-224011f073c9"
      },
      "source": [
        "pd.options.display.max_columns = None\n",
        "pd.options.display.width = 1000\n",
        "\n",
        "train_and_evaluate(500, 1, False, n_epochs=10)\n",
        "train_and_evaluate(500, 2, False, n_epochs=10)\n",
        "train_and_evaluate(500, 3, False, n_epochs=10)\n",
        "train_and_evaluate(500, 1, True, n_epochs=10)\n",
        "train_and_evaluate(500, 2, True, n_epochs=10)\n",
        "train_and_evaluate(500, 3, True, n_epochs=10)\n",
        "train_and_evaluate(800, 1, True, n_epochs=10)\n",
        "train_and_evaluate(800, 2, True, n_epochs=10)\n",
        "train_and_evaluate(800, 3, True, n_epochs=10)"
      ],
      "execution_count": 38,
      "outputs": [
        {
          "output_type": "stream",
          "text": [
            "\n",
            "----\n",
            "hidden_size: 500, n_layers: 1, bidirectional: False, Epochs: 10, Loss: 0.0017\n",
            "                       O     B-PER     I-PER     B-LOC     I-LOC     B-ORG     I-ORG     Not O\n",
            "precision dev   0.924691  0.658537  0.809859  0.777778  1.000000  0.699115  0.766667  0.857752\n",
            "precision test  0.925585  0.712230  0.749077  0.754491  0.914286  0.691729  0.750000  0.831789\n",
            "recall dev      0.967700  0.675000  0.732484  0.726776  0.521739  0.470238  0.396552  0.711924\n",
            "recall test     0.964063  0.684332  0.685811  0.734694  0.603774  0.525714  0.300000  0.696301\n",
            "\n",
            "----\n",
            "hidden_size: 500, n_layers: 2, bidirectional: False, Epochs: 10, Loss: 0.0009\n",
            "                       O     B-PER     I-PER     B-LOC     I-LOC     B-ORG     I-ORG     Not O\n",
            "precision dev   0.941902  0.798742  0.859504  0.888889  0.857143  0.421245  0.400000  0.774942\n",
            "precision test  0.947757  0.780556  0.813492  0.865900  0.838710  0.426966  0.367003  0.770029\n",
            "recall dev      0.937339  0.635000  0.662420  0.655738  0.521739  0.684524  0.551724  0.788666\n",
            "recall test     0.939242  0.647465  0.692568  0.658892  0.490566  0.651429  0.545000  0.797136\n",
            "\n",
            "----\n",
            "hidden_size: 500, n_layers: 3, bidirectional: False, Epochs: 10, Loss: 0.0012\n",
            "                       O     B-PER     I-PER     B-LOC     I-LOC     B-ORG     I-ORG     Not O\n",
            "precision dev   0.923383  0.830189  0.907563  0.854015  0.875000  0.529730  0.722222  0.877941\n",
            "precision test  0.932504  0.797222  0.825203  0.812274  0.923077  0.578488  0.581250  0.859873\n",
            "recall dev      0.973191  0.660000  0.687898  0.639344  0.304348  0.583333  0.448276  0.704841\n",
            "recall test     0.969849  0.661290  0.685811  0.655977  0.452830  0.568571  0.465000  0.724940\n",
            "\n",
            "----\n",
            "hidden_size: 500, n_layers: 1, bidirectional: True, Epochs: 10, Loss: 0.0003\n",
            "                       O     B-PER     I-PER     B-LOC     I-LOC     B-ORG     I-ORG     Not O\n",
            "precision dev   0.929556  0.845679  0.848921  0.765027  0.916667  0.796748  0.830508  0.910029\n",
            "precision test  0.928218  0.834356  0.803089  0.673629  0.861111  0.787149  0.581967  0.860364\n",
            "recall dev      0.980297  0.685000  0.751592  0.765027  0.478261  0.583333  0.422414  0.728453\n",
            "recall test     0.970763  0.626728  0.702703  0.752187  0.584906  0.560000  0.355000  0.705847\n",
            "\n",
            "----\n",
            "hidden_size: 500, n_layers: 2, bidirectional: True, Epochs: 10, Loss: 0.0004\n",
            "                       O     B-PER     I-PER     B-LOC     I-LOC     B-ORG     I-ORG     Not O\n",
            "precision dev   0.923867  0.903448  0.876923  0.854545  0.909091  0.885246  0.816667  0.939968\n",
            "precision test  0.925852  0.899023  0.907950  0.822222  1.000000  0.800000  0.742574  0.939837\n",
            "recall dev      0.987726  0.655000  0.726115  0.770492  0.434783  0.642857  0.422414  0.702479\n",
            "recall test     0.988732  0.635945  0.733108  0.755102  0.433962  0.560000  0.375000  0.689737\n",
            "\n",
            "----\n",
            "hidden_size: 500, n_layers: 3, bidirectional: True, Epochs: 10, Loss: 0.0007\n",
            "                       O     B-PER     I-PER     B-LOC     I-LOC     B-ORG     I-ORG     Not O\n",
            "precision dev   0.936752  0.808511  0.875862  0.892617  0.866667  0.801471  0.886792  0.934402\n",
            "precision test  0.943180  0.809877  0.808219  0.872054  0.857143  0.727869  0.775510  0.900140\n",
            "recall dev      0.985465  0.760000  0.808917  0.726776  0.565217  0.648810  0.405172  0.756789\n",
            "recall test     0.978224  0.755760  0.797297  0.755102  0.566038  0.634286  0.380000  0.769093\n",
            "\n",
            "----\n",
            "hidden_size: 800, n_layers: 1, bidirectional: True, Epochs: 10, Loss: 0.0002\n",
            "                       O     B-PER     I-PER     B-LOC     I-LOC     B-ORG     I-ORG     Not O\n",
            "precision dev   0.925519  0.823171  0.832168  0.789773  0.866667  0.805310  0.767857  0.904048\n",
            "precision test  0.921498  0.854430  0.840164  0.764881  0.885714  0.791837  0.666667  0.885490\n",
            "recall dev      0.979328  0.675000  0.757962  0.759563  0.565217  0.541667  0.370690  0.711924\n",
            "recall test     0.977768  0.622120  0.692568  0.749271  0.584906  0.554286  0.330000  0.673628\n",
            "\n",
            "----\n",
            "hidden_size: 800, n_layers: 2, bidirectional: True, Epochs: 10, Loss: 0.0006\n",
            "                       O     B-PER     I-PER     B-LOC     I-LOC     B-ORG     I-ORG     Not O\n",
            "precision dev   0.937076  0.761194  0.841379  0.895425  0.923077  0.798387  0.784615  0.917261\n",
            "precision test  0.935263  0.776156  0.820423  0.869565  0.892857  0.778598  0.797980  0.899196\n",
            "recall dev      0.981266  0.765000  0.777070  0.748634  0.521739  0.589286  0.439655  0.759150\n",
            "recall test     0.978986  0.735023  0.787162  0.699708  0.471698  0.602857  0.395000  0.734487\n",
            "\n",
            "----\n",
            "hidden_size: 800, n_layers: 3, bidirectional: True, Epochs: 10, Loss: 0.0006\n",
            "                       O     B-PER     I-PER     B-LOC     I-LOC     B-ORG     I-ORG     Not O\n",
            "precision dev   0.930240  0.842391  0.881481  0.820359  1.000000  0.892157  0.812500  0.955108\n",
            "precision test  0.931475  0.854342  0.856589  0.799392  0.892857  0.902326  0.831579  0.935257\n",
            "recall dev      0.990633  0.775000  0.757962  0.748634  0.434783  0.541667  0.336207  0.728453\n",
            "recall test     0.987361  0.702765  0.746622  0.766764  0.471698  0.554286  0.395000  0.715394\n"
          ],
          "name": "stdout"
        }
      ]
    },
    {
      "cell_type": "markdown",
      "metadata": {
        "id": "UM74r0_8nk5s",
        "colab_type": "text"
      },
      "source": [
        "**Task 6:** Download the GloVe embeddings from https://nlp.stanford.edu/projects/glove/ (use the 300-dim vectors from glove.6B.zip). Then intialize the nn.Embedding module in your NERNet with these embeddings, so that you can start your training with pre-trained vectors. Repeat Task 6 and print the results for each model.\n",
        "\n",
        "Note: make sure that vectors are aligned with the IDs in your Vocab, in other words, make sure that for example the word with ID 0 is the first vector in the GloVe matrix of vectors that you initialize nn.Embedding with. For a dicussion on how to do that, check it this link:\n",
        "https://discuss.pytorch.org/t/can-we-use-pre-trained-word-embeddings-for-weight-initialization-in-nn-embedding/1222"
      ]
    },
    {
      "cell_type": "code",
      "metadata": {
        "id": "KDJe_adtLSca",
        "colab_type": "code",
        "colab": {
          "base_uri": "https://localhost:8080/",
          "height": 122
        },
        "outputId": "34d7b3c9-8a50-4f59-86d5-a6b15d799d82"
      },
      "source": [
        "from google.colab import drive\n",
        "drive.mount('/content/drive')"
      ],
      "execution_count": 39,
      "outputs": [
        {
          "output_type": "stream",
          "text": [
            "Go to this URL in a browser: https://accounts.google.com/o/oauth2/auth?client_id=947318989803-6bn6qk8qdgf4n4g3pfee6491hc0brc4i.apps.googleusercontent.com&redirect_uri=urn%3aietf%3awg%3aoauth%3a2.0%3aoob&response_type=code&scope=email%20https%3a%2f%2fwww.googleapis.com%2fauth%2fdocs.test%20https%3a%2f%2fwww.googleapis.com%2fauth%2fdrive%20https%3a%2f%2fwww.googleapis.com%2fauth%2fdrive.photos.readonly%20https%3a%2f%2fwww.googleapis.com%2fauth%2fpeopleapi.readonly\n",
            "\n",
            "Enter your authorization code:\n",
            "··········\n",
            "Mounted at /content/drive\n"
          ],
          "name": "stdout"
        }
      ]
    },
    {
      "cell_type": "code",
      "metadata": {
        "id": "xdrw_2ySLfW9",
        "colab_type": "code",
        "colab": {
          "base_uri": "https://localhost:8080/",
          "height": 34
        },
        "outputId": "06f430da-249e-41b4-a875-e0b2da2b6ee7"
      },
      "source": [
        "import numpy as np\n",
        "\n",
        "glove_path = '/content/drive/My Drive/datasets/glove'\n",
        "\n",
        "words_found = 0\n",
        "weights_matrix = np.full(vocab.n_words, None)\n",
        "with open(f'{glove_path}/glove.6B.300d.txt', 'rb') as f:\n",
        "    for l in f:\n",
        "        line = l.decode().split()\n",
        "        word = line[0]\n",
        "\n",
        "        idx = vocab.word2id.get(word, None)\n",
        "        if idx is None:\n",
        "            continue\n",
        "\n",
        "        weights_matrix[idx] = np.array(line[1:]).astype(np.float)\n",
        "        words_found += 1\n",
        "\n",
        "# initialize words not in glove with random embedding\n",
        "for i in range(vocab.n_words):\n",
        "    if weights_matrix[i] is None:\n",
        "        weights_matrix[i] = np.random.normal(scale=0.6, size=(300,))\n",
        "\n",
        "weights_matrix = np.stack(weights_matrix, axis=0)\n",
        "\n",
        "print('words_found: {} out of: {}'.format(words_found, vocab.n_words))\n"
      ],
      "execution_count": 40,
      "outputs": [
        {
          "output_type": "stream",
          "text": [
            "words_found: 7648 out of: 8263\n"
          ],
          "name": "stdout"
        }
      ]
    },
    {
      "cell_type": "code",
      "metadata": {
        "id": "In5I3SNPf25a",
        "colab_type": "code",
        "colab": {
          "base_uri": "https://localhost:8080/",
          "height": 34
        },
        "outputId": "6b003416-dc4a-4b93-a0ca-ac9e01ea565a"
      },
      "source": [
        "num_embeddings, embedding_dim = weights_matrix.shape\n",
        "embedding = nn.Embedding(num_embeddings, embedding_dim)\n",
        "embedding.weight.data.copy_(torch.from_numpy(weights_matrix))\n",
        "\n",
        "print(embedding)"
      ],
      "execution_count": 41,
      "outputs": [
        {
          "output_type": "stream",
          "text": [
            "Embedding(8263, 300)\n"
          ],
          "name": "stdout"
        }
      ]
    },
    {
      "cell_type": "code",
      "metadata": {
        "id": "JRiMbvx9o5Rh",
        "colab_type": "code",
        "colab": {
          "base_uri": "https://localhost:8080/",
          "height": 1000
        },
        "outputId": "af424662-1c74-49fe-ac53-2ff9ee802bdb"
      },
      "source": [
        "pd.options.display.max_columns = None\n",
        "pd.options.display.width = 1000\n",
        "\n",
        "train_and_evaluate(500, 1, False, n_epochs=10, embedding=embedding)\n",
        "train_and_evaluate(500, 2, False, n_epochs=10, embedding=embedding)\n",
        "train_and_evaluate(500, 3, False, n_epochs=10, embedding=embedding)\n",
        "train_and_evaluate(500, 1, True, n_epochs=10, embedding=embedding)\n",
        "train_and_evaluate(500, 2, True, n_epochs=10, embedding=embedding)\n",
        "train_and_evaluate(500, 3, True, n_epochs=10, embedding=embedding)\n",
        "train_and_evaluate(800, 1, True, n_epochs=10, embedding=embedding)\n",
        "train_and_evaluate(800, 2, True, n_epochs=10, embedding=embedding)\n",
        "train_and_evaluate(800, 3, True, n_epochs=10, embedding=embedding)"
      ],
      "execution_count": 42,
      "outputs": [
        {
          "output_type": "stream",
          "text": [
            "\n",
            "----\n",
            "hidden_size: 500, n_layers: 1, bidirectional: False, Epochs: 10, Loss: 0.0011\n",
            "                       O     B-PER     I-PER     B-LOC     I-LOC     B-ORG     I-ORG     Not O\n",
            "precision dev   0.961806  0.903061  0.972973  0.881356  0.875000  0.771605  0.828947  0.936774\n",
            "precision test  0.963327  0.882904  0.917857  0.896226  0.804348  0.818182  0.800000  0.931596\n",
            "recall dev      0.984173  0.885000  0.917197  0.852459  0.608696  0.744048  0.543103  0.857143\n",
            "recall test     0.984011  0.868664  0.868243  0.830904  0.698113  0.745714  0.580000  0.853222\n",
            "\n",
            "----\n",
            "hidden_size: 500, n_layers: 2, bidirectional: False, Epochs: 10, Loss: 0.0008\n",
            "                       O     B-PER     I-PER     B-LOC     I-LOC     B-ORG     I-ORG     Not O\n",
            "precision dev   0.966784  0.884422  0.965753  0.913043  0.818182  0.647343  0.761364  0.915025\n",
            "precision test  0.970285  0.893112  0.931655  0.914384  0.846154  0.654378  0.655738  0.898604\n",
            "recall dev      0.977713  0.880000  0.898089  0.803279  0.391304  0.797619  0.577586  0.877214\n",
            "recall test     0.974570  0.866359  0.875000  0.778426  0.622642  0.811429  0.600000  0.883055\n",
            "\n",
            "----\n",
            "hidden_size: 500, n_layers: 3, bidirectional: False, Epochs: 10, Loss: 0.0007\n",
            "                       O     B-PER     I-PER     B-LOC     I-LOC     B-ORG     I-ORG     Not O\n",
            "precision dev   0.956085  0.918033  0.971014  0.920530  0.818182  0.727273  0.739583  0.936424\n",
            "precision test  0.961991  0.898219  0.952941  0.950943  0.914286  0.737968  0.622642  0.926336\n",
            "recall dev      0.984496  0.840000  0.853503  0.759563  0.391304  0.761905  0.612069  0.834711\n",
            "recall test     0.982793  0.813364  0.820946  0.734694  0.603774  0.788571  0.660000  0.847852\n",
            "\n",
            "----\n",
            "hidden_size: 500, n_layers: 1, bidirectional: True, Epochs: 10, Loss: 0.0000\n",
            "                       O     B-PER     I-PER     B-LOC     I-LOC     B-ORG     I-ORG     Not O\n",
            "precision dev   0.972524  0.874419  0.954248  0.887701  0.666667  0.852564  0.809524  0.936039\n",
            "precision test  0.977815  0.916667  0.918919  0.888889  0.773585  0.831884  0.739884  0.920578\n",
            "recall dev      0.983204  0.940000  0.929936  0.907104  0.521739  0.791667  0.586207  0.898465\n",
            "recall test     0.979899  0.937788  0.918919  0.909621  0.773585  0.820000  0.640000  0.912888\n",
            "\n",
            "----\n",
            "hidden_size: 500, n_layers: 2, bidirectional: True, Epochs: 10, Loss: 0.0000\n",
            "                       O     B-PER     I-PER     B-LOC     I-LOC     B-ORG     I-ORG     Not O\n",
            "precision dev   0.975610  0.898551  0.924528  0.874346  0.800000  0.845238  0.827586  0.932285\n",
            "precision test  0.977086  0.920273  0.932432  0.873239  0.750000  0.840116  0.778443  0.922565\n",
            "recall dev      0.981912  0.930000  0.936306  0.912568  0.521739  0.845238  0.620690  0.910272\n",
            "recall test     0.980509  0.930876  0.932432  0.903790  0.735849  0.825714  0.650000  0.909905\n",
            "\n",
            "----\n",
            "hidden_size: 500, n_layers: 3, bidirectional: True, Epochs: 10, Loss: 0.0002\n",
            "                       O     B-PER     I-PER     B-LOC     I-LOC     B-ORG     I-ORG     Not O\n",
            "precision dev   0.976789  0.864486  0.940789  0.881720  0.619048  0.803468  0.800000  0.921522\n",
            "precision test  0.980781  0.855932  0.927336  0.877143  0.777778  0.808219  0.674641  0.891892\n",
            "recall dev      0.978682  0.925000  0.910828  0.896175  0.565217  0.827381  0.655172  0.914994\n",
            "recall test     0.971372  0.930876  0.905405  0.895044  0.792453  0.842857  0.705000  0.925418\n",
            "\n",
            "----\n",
            "hidden_size: 800, n_layers: 1, bidirectional: True, Epochs: 10, Loss: 0.0000\n",
            "                       O     B-PER     I-PER     B-LOC     I-LOC     B-ORG     I-ORG     Not O\n",
            "precision dev   0.963219  0.910000  0.964789  0.946108  0.769231  0.842767  0.790123  0.958005\n",
            "precision test  0.968401  0.933014  0.943262  0.922118  0.857143  0.858491  0.771242  0.954368\n",
            "recall dev      0.989664  0.910000  0.872611  0.863388  0.434783  0.797619  0.551724  0.861865\n",
            "recall test     0.989341  0.898618  0.898649  0.862974  0.679245  0.780000  0.590000  0.873508\n",
            "\n",
            "----\n",
            "hidden_size: 800, n_layers: 2, bidirectional: True, Epochs: 10, Loss: 0.0000\n",
            "                       O     B-PER     I-PER     B-LOC     I-LOC     B-ORG     I-ORG     Not O\n",
            "precision dev   0.969803  0.928571  0.929936  0.893855  0.833333  0.853503  0.791667  0.943538\n",
            "precision test  0.975977  0.921801  0.928082  0.866097  0.829268  0.825073  0.635945  0.911164\n",
            "recall dev      0.985465  0.910000  0.929936  0.874317  0.434783  0.797619  0.655172  0.887839\n",
            "recall test     0.977463  0.896313  0.915541  0.886297  0.641509  0.808571  0.690000  0.905728\n",
            "\n",
            "----\n",
            "hidden_size: 800, n_layers: 3, bidirectional: True, Epochs: 10, Loss: 0.0002\n",
            "                       O     B-PER     I-PER     B-LOC     I-LOC     B-ORG     I-ORG     Not O\n",
            "precision dev   0.975853  0.899522  0.946309  0.908046  0.750000  0.797688  0.714286  0.922342\n",
            "precision test  0.978138  0.899329  0.933798  0.916149  0.860465  0.781163  0.582645  0.900705\n",
            "recall dev      0.979005  0.940000  0.898089  0.863388  0.652174  0.821429  0.689655  0.911452\n",
            "recall test     0.974265  0.926267  0.905405  0.860058  0.698113  0.805714  0.705000  0.914678\n"
          ],
          "name": "stdout"
        }
      ]
    },
    {
      "cell_type": "markdown",
      "metadata": {
        "id": "jxaESRoco6bV",
        "colab_type": "text"
      },
      "source": [
        "**Good luck!**"
      ]
    }
  ]
}